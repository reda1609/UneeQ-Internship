{
 "cells": [
  {
   "cell_type": "markdown",
   "metadata": {},
   "source": [
    "### PROBLEM STATEMENT\n",
    "**Model Training** on **Customer Churn Dataset** to develop a **Machine Learning** model that can predict whether a customer will churn or not. The dataset has been preprocessed to ensure it is suitable for modeling.\n",
    "\n",
    "### Stages of Model Training\n",
    "1. Splitting the dataset into training and testing sets\n",
    "2. Selecting and training different machine learning models\n",
    "3. Evaluating model performance using appropriate metrics\n",
    "4. Hyperparameter tuning to improve model performance\n",
    "\n",
    "### Importing Required Python libraries"
   ]
  },
  {
   "cell_type": "code",
   "execution_count": 20,
   "metadata": {},
   "outputs": [],
   "source": [
    "import pandas as pd\n",
    "import matplotlib.pyplot as plt\n",
    "import seaborn as sns\n",
    "from sklearn.model_selection import GridSearchCV\n",
    "from sklearn.linear_model import LogisticRegression\n",
    "from sklearn.ensemble import RandomForestClassifier, GradientBoostingClassifier\n",
    "from xgboost import XGBClassifier\n",
    "from lightgbm import LGBMClassifier\n",
    "from sklearn.decomposition import PCA\n",
    "from sklearn.metrics import accuracy_score, precision_score, recall_score, f1_score, confusion_matrix, roc_curve, auc"
   ]
  },
  {
   "cell_type": "markdown",
   "metadata": {},
   "source": [
    "### Data Loading & Splitting"
   ]
  },
  {
   "cell_type": "code",
   "execution_count": 21,
   "metadata": {},
   "outputs": [
    {
     "data": {
      "text/html": [
       "<div>\n",
       "<style scoped>\n",
       "    .dataframe tbody tr th:only-of-type {\n",
       "        vertical-align: middle;\n",
       "    }\n",
       "\n",
       "    .dataframe tbody tr th {\n",
       "        vertical-align: top;\n",
       "    }\n",
       "\n",
       "    .dataframe thead th {\n",
       "        text-align: right;\n",
       "    }\n",
       "</style>\n",
       "<table border=\"1\" class=\"dataframe\">\n",
       "  <thead>\n",
       "    <tr style=\"text-align: right;\">\n",
       "      <th></th>\n",
       "      <th>Age</th>\n",
       "      <th>Tenure</th>\n",
       "      <th>Usage Frequency</th>\n",
       "      <th>Support Calls</th>\n",
       "      <th>Payment Delay</th>\n",
       "      <th>Total Spend</th>\n",
       "      <th>Last Interaction</th>\n",
       "      <th>Churn</th>\n",
       "      <th>Subscription Type Encoded</th>\n",
       "      <th>Gender Encoded</th>\n",
       "      <th>Contract Length_Annual</th>\n",
       "      <th>Contract Length_Monthly</th>\n",
       "    </tr>\n",
       "  </thead>\n",
       "  <tbody>\n",
       "    <tr>\n",
       "      <th>0</th>\n",
       "      <td>0.255319</td>\n",
       "      <td>0.644068</td>\n",
       "      <td>0.448276</td>\n",
       "      <td>0.5</td>\n",
       "      <td>0.600000</td>\n",
       "      <td>0.924444</td>\n",
       "      <td>0.551724</td>\n",
       "      <td>1.0</td>\n",
       "      <td>0.0</td>\n",
       "      <td>0</td>\n",
       "      <td>1.0</td>\n",
       "      <td>0.0</td>\n",
       "    </tr>\n",
       "    <tr>\n",
       "      <th>1</th>\n",
       "      <td>1.000000</td>\n",
       "      <td>0.813559</td>\n",
       "      <td>0.000000</td>\n",
       "      <td>1.0</td>\n",
       "      <td>0.266667</td>\n",
       "      <td>0.507778</td>\n",
       "      <td>0.172414</td>\n",
       "      <td>1.0</td>\n",
       "      <td>1.0</td>\n",
       "      <td>0</td>\n",
       "      <td>0.0</td>\n",
       "      <td>1.0</td>\n",
       "    </tr>\n",
       "    <tr>\n",
       "      <th>2</th>\n",
       "      <td>0.787234</td>\n",
       "      <td>0.220339</td>\n",
       "      <td>0.103448</td>\n",
       "      <td>0.6</td>\n",
       "      <td>0.600000</td>\n",
       "      <td>0.094444</td>\n",
       "      <td>0.068966</td>\n",
       "      <td>1.0</td>\n",
       "      <td>1.0</td>\n",
       "      <td>0</td>\n",
       "      <td>0.0</td>\n",
       "      <td>0.0</td>\n",
       "    </tr>\n",
       "    <tr>\n",
       "      <th>3</th>\n",
       "      <td>0.851064</td>\n",
       "      <td>0.627119</td>\n",
       "      <td>0.689655</td>\n",
       "      <td>0.7</td>\n",
       "      <td>0.233333</td>\n",
       "      <td>0.328889</td>\n",
       "      <td>0.965517</td>\n",
       "      <td>1.0</td>\n",
       "      <td>0.0</td>\n",
       "      <td>1</td>\n",
       "      <td>0.0</td>\n",
       "      <td>1.0</td>\n",
       "    </tr>\n",
       "    <tr>\n",
       "      <th>4</th>\n",
       "      <td>0.106383</td>\n",
       "      <td>0.525424</td>\n",
       "      <td>0.655172</td>\n",
       "      <td>0.5</td>\n",
       "      <td>0.266667</td>\n",
       "      <td>0.574444</td>\n",
       "      <td>0.655172</td>\n",
       "      <td>1.0</td>\n",
       "      <td>1.0</td>\n",
       "      <td>1</td>\n",
       "      <td>0.0</td>\n",
       "      <td>1.0</td>\n",
       "    </tr>\n",
       "  </tbody>\n",
       "</table>\n",
       "</div>"
      ],
      "text/plain": [
       "        Age    Tenure  Usage Frequency  Support Calls  Payment Delay  \\\n",
       "0  0.255319  0.644068         0.448276            0.5       0.600000   \n",
       "1  1.000000  0.813559         0.000000            1.0       0.266667   \n",
       "2  0.787234  0.220339         0.103448            0.6       0.600000   \n",
       "3  0.851064  0.627119         0.689655            0.7       0.233333   \n",
       "4  0.106383  0.525424         0.655172            0.5       0.266667   \n",
       "\n",
       "   Total Spend  Last Interaction  Churn  Subscription Type Encoded  \\\n",
       "0     0.924444          0.551724    1.0                        0.0   \n",
       "1     0.507778          0.172414    1.0                        1.0   \n",
       "2     0.094444          0.068966    1.0                        1.0   \n",
       "3     0.328889          0.965517    1.0                        0.0   \n",
       "4     0.574444          0.655172    1.0                        1.0   \n",
       "\n",
       "   Gender Encoded  Contract Length_Annual  Contract Length_Monthly  \n",
       "0               0                     1.0                      0.0  \n",
       "1               0                     0.0                      1.0  \n",
       "2               0                     0.0                      0.0  \n",
       "3               1                     0.0                      1.0  \n",
       "4               1                     0.0                      1.0  "
      ]
     },
     "execution_count": 21,
     "metadata": {},
     "output_type": "execute_result"
    }
   ],
   "source": [
    "train_data = pd.read_csv('Data_Preprocessed/new_train.csv')\n",
    "train_data.head()"
   ]
  },
  {
   "cell_type": "code",
   "execution_count": 22,
   "metadata": {},
   "outputs": [
    {
     "data": {
      "text/html": [
       "<div>\n",
       "<style scoped>\n",
       "    .dataframe tbody tr th:only-of-type {\n",
       "        vertical-align: middle;\n",
       "    }\n",
       "\n",
       "    .dataframe tbody tr th {\n",
       "        vertical-align: top;\n",
       "    }\n",
       "\n",
       "    .dataframe thead th {\n",
       "        text-align: right;\n",
       "    }\n",
       "</style>\n",
       "<table border=\"1\" class=\"dataframe\">\n",
       "  <thead>\n",
       "    <tr style=\"text-align: right;\">\n",
       "      <th></th>\n",
       "      <th>Age</th>\n",
       "      <th>Tenure</th>\n",
       "      <th>Usage Frequency</th>\n",
       "      <th>Support Calls</th>\n",
       "      <th>Payment Delay</th>\n",
       "      <th>Total Spend</th>\n",
       "      <th>Last Interaction</th>\n",
       "      <th>Churn</th>\n",
       "      <th>Subscription Type Encoded</th>\n",
       "      <th>Gender Encoded</th>\n",
       "      <th>Contract Length_Annual</th>\n",
       "      <th>Contract Length_Monthly</th>\n",
       "    </tr>\n",
       "  </thead>\n",
       "  <tbody>\n",
       "    <tr>\n",
       "      <th>0</th>\n",
       "      <td>0.085106</td>\n",
       "      <td>0.406780</td>\n",
       "      <td>0.448276</td>\n",
       "      <td>0.4</td>\n",
       "      <td>0.900000</td>\n",
       "      <td>0.553333</td>\n",
       "      <td>0.275862</td>\n",
       "      <td>1</td>\n",
       "      <td>1.0</td>\n",
       "      <td>0</td>\n",
       "      <td>0.0</td>\n",
       "      <td>1.0</td>\n",
       "    </tr>\n",
       "    <tr>\n",
       "      <th>1</th>\n",
       "      <td>0.489362</td>\n",
       "      <td>0.457627</td>\n",
       "      <td>0.931034</td>\n",
       "      <td>0.7</td>\n",
       "      <td>0.433333</td>\n",
       "      <td>0.537778</td>\n",
       "      <td>0.655172</td>\n",
       "      <td>0</td>\n",
       "      <td>0.0</td>\n",
       "      <td>0</td>\n",
       "      <td>0.0</td>\n",
       "      <td>1.0</td>\n",
       "    </tr>\n",
       "    <tr>\n",
       "      <th>2</th>\n",
       "      <td>0.617021</td>\n",
       "      <td>0.440678</td>\n",
       "      <td>0.310345</td>\n",
       "      <td>0.2</td>\n",
       "      <td>0.966667</td>\n",
       "      <td>0.730000</td>\n",
       "      <td>0.689655</td>\n",
       "      <td>0</td>\n",
       "      <td>2.0</td>\n",
       "      <td>1</td>\n",
       "      <td>1.0</td>\n",
       "      <td>0.0</td>\n",
       "    </tr>\n",
       "    <tr>\n",
       "      <th>3</th>\n",
       "      <td>0.361702</td>\n",
       "      <td>0.135593</td>\n",
       "      <td>0.379310</td>\n",
       "      <td>0.5</td>\n",
       "      <td>0.566667</td>\n",
       "      <td>0.146667</td>\n",
       "      <td>0.586207</td>\n",
       "      <td>0</td>\n",
       "      <td>2.0</td>\n",
       "      <td>1</td>\n",
       "      <td>0.0</td>\n",
       "      <td>0.0</td>\n",
       "    </tr>\n",
       "    <tr>\n",
       "      <th>4</th>\n",
       "      <td>0.744681</td>\n",
       "      <td>0.966102</td>\n",
       "      <td>0.793103</td>\n",
       "      <td>0.9</td>\n",
       "      <td>0.066667</td>\n",
       "      <td>0.481111</td>\n",
       "      <td>0.586207</td>\n",
       "      <td>0</td>\n",
       "      <td>0.0</td>\n",
       "      <td>0</td>\n",
       "      <td>1.0</td>\n",
       "      <td>0.0</td>\n",
       "    </tr>\n",
       "  </tbody>\n",
       "</table>\n",
       "</div>"
      ],
      "text/plain": [
       "        Age    Tenure  Usage Frequency  Support Calls  Payment Delay  \\\n",
       "0  0.085106  0.406780         0.448276            0.4       0.900000   \n",
       "1  0.489362  0.457627         0.931034            0.7       0.433333   \n",
       "2  0.617021  0.440678         0.310345            0.2       0.966667   \n",
       "3  0.361702  0.135593         0.379310            0.5       0.566667   \n",
       "4  0.744681  0.966102         0.793103            0.9       0.066667   \n",
       "\n",
       "   Total Spend  Last Interaction  Churn  Subscription Type Encoded  \\\n",
       "0     0.553333          0.275862      1                        1.0   \n",
       "1     0.537778          0.655172      0                        0.0   \n",
       "2     0.730000          0.689655      0                        2.0   \n",
       "3     0.146667          0.586207      0                        2.0   \n",
       "4     0.481111          0.586207      0                        0.0   \n",
       "\n",
       "   Gender Encoded  Contract Length_Annual  Contract Length_Monthly  \n",
       "0               0                     0.0                      1.0  \n",
       "1               0                     0.0                      1.0  \n",
       "2               1                     1.0                      0.0  \n",
       "3               1                     0.0                      0.0  \n",
       "4               0                     1.0                      0.0  "
      ]
     },
     "execution_count": 22,
     "metadata": {},
     "output_type": "execute_result"
    }
   ],
   "source": [
    "test_data = pd.read_csv('Data_Preprocessed/new_test.csv')\n",
    "test_data.head()"
   ]
  },
  {
   "cell_type": "code",
   "execution_count": 23,
   "metadata": {},
   "outputs": [],
   "source": [
    "X_train = train_data.drop(columns=['Churn'])\n",
    "y_train = train_data['Churn']\n",
    "X_test = test_data.drop(columns=['Churn'])\n",
    "y_test = test_data['Churn']"
   ]
  },
  {
   "cell_type": "code",
   "execution_count": 24,
   "metadata": {},
   "outputs": [
    {
     "name": "stdout",
     "output_type": "stream",
     "text": [
      "Shape of X_train: (440832, 11)\n",
      "Shape of y_train: (440832,)\n",
      "Shape of X_test: (64374, 11)\n",
      "Shape of y_test: (64374,)\n"
     ]
    }
   ],
   "source": [
    "print(f\"Shape of X_train: {X_train.shape}\")\n",
    "print(f\"Shape of y_train: {y_train.shape}\")\n",
    "print(f\"Shape of X_test: {X_test.shape}\")\n",
    "print(f\"Shape of y_test: {y_test.shape}\")"
   ]
  },
  {
   "cell_type": "markdown",
   "metadata": {},
   "source": [
    "### Initial Models Training"
   ]
  },
  {
   "cell_type": "code",
   "execution_count": 25,
   "metadata": {},
   "outputs": [
    {
     "name": "stdout",
     "output_type": "stream",
     "text": [
      "[LightGBM] [Warning] Found whitespace in feature_names, replace with underlines\n",
      "[LightGBM] [Info] Number of positive: 249999, number of negative: 190833\n",
      "[LightGBM] [Info] Auto-choosing row-wise multi-threading, the overhead of testing was 0.008767 seconds.\n",
      "You can set `force_row_wise=true` to remove the overhead.\n",
      "And if memory is not enough, you can set `force_col_wise=true`.\n",
      "[LightGBM] [Info] Total Bins 474\n",
      "[LightGBM] [Info] Number of data points in the train set: 440832, number of used features: 11\n",
      "[LightGBM] [Info] [binary:BoostFromScore]: pavg=0.567107 -> initscore=0.270058\n",
      "[LightGBM] [Info] Start training from score 0.270058\n",
      "                     Accuracy  Precision    Recall  F1 Score\n",
      "Logistic Regression  0.571069   0.525041  0.990490  0.686291\n",
      "Random Forest        0.503511   0.488230  0.998491  0.655797\n",
      "Gradient Boosting    0.506043   0.489507  0.998295  0.656905\n",
      "XGBoost              0.503418   0.488186  0.998721  0.655806\n",
      "LightGBM             0.503309   0.488131  0.998754  0.655764\n"
     ]
    }
   ],
   "source": [
    "# Define models\n",
    "models = {\n",
    "    'Logistic Regression': LogisticRegression(),\n",
    "    'Random Forest': RandomForestClassifier(),\n",
    "    'Gradient Boosting': GradientBoostingClassifier(),\n",
    "    'XGBoost': XGBClassifier(eval_metric='logloss'),\n",
    "    'LightGBM': LGBMClassifier()\n",
    "}\n",
    "\n",
    "# Train models\n",
    "model_results = {}\n",
    "\n",
    "for name, model in models.items():\n",
    "    model.fit(X_train, y_train)\n",
    "    y_pred = model.predict(X_test)\n",
    "    \n",
    "    model_results[name] = {\n",
    "        'Accuracy': accuracy_score(y_test, y_pred),\n",
    "        'Precision': precision_score(y_test, y_pred),\n",
    "        'Recall': recall_score(y_test, y_pred),\n",
    "        'F1 Score': f1_score(y_test, y_pred)\n",
    "    }\n",
    "\n",
    "# Convert results to DataFrame\n",
    "results_df = pd.DataFrame(model_results).T\n",
    "print(results_df)\n"
   ]
  },
  {
   "cell_type": "markdown",
   "metadata": {},
   "source": [
    "### Try Dimensionality Reduction"
   ]
  },
  {
   "cell_type": "code",
   "execution_count": 26,
   "metadata": {},
   "outputs": [
    {
     "name": "stdout",
     "output_type": "stream",
     "text": [
      "[LightGBM] [Info] Number of positive: 249999, number of negative: 190833\n",
      "[LightGBM] [Info] Auto-choosing row-wise multi-threading, the overhead of testing was 0.002237 seconds.\n",
      "You can set `force_row_wise=true` to remove the overhead.\n",
      "And if memory is not enough, you can set `force_col_wise=true`.\n",
      "[LightGBM] [Info] Total Bins 510\n",
      "[LightGBM] [Info] Number of data points in the train set: 440832, number of used features: 2\n",
      "[LightGBM] [Info] [binary:BoostFromScore]: pavg=0.567107 -> initscore=0.270058\n",
      "[LightGBM] [Info] Start training from score 0.270058\n",
      "                     Accuracy  Precision    Recall  F1 Score\n",
      "Logistic Regression  0.498990   0.479534  0.675794  0.560994\n",
      "Random Forest        0.579939   0.530480  0.985144  0.689616\n",
      "Gradient Boosting    0.578479   0.529828  0.978061  0.687324\n",
      "XGBoost              0.581524   0.531297  0.989276  0.691318\n",
      "LightGBM             0.581788   0.531449  0.989506  0.691502\n"
     ]
    }
   ],
   "source": [
    "pca = PCA(n_components=2)\n",
    "X_train_pca = pca.fit_transform(X_train)\n",
    "X_test_pca = pca.transform(X_test)\n",
    "\n",
    "# Define models\n",
    "models = {\n",
    "    'Logistic Regression': LogisticRegression(),\n",
    "    'Random Forest': RandomForestClassifier(),\n",
    "    'Gradient Boosting': GradientBoostingClassifier(),\n",
    "    'XGBoost': XGBClassifier(eval_metric='logloss'),\n",
    "    'LightGBM': LGBMClassifier()\n",
    "}\n",
    "\n",
    "# Train models\n",
    "model_results = {}\n",
    "\n",
    "for name, model in models.items():\n",
    "    model.fit(X_train_pca, y_train)\n",
    "    y_pred = model.predict(X_test_pca)\n",
    "    \n",
    "    model_results[name] = {\n",
    "        'Accuracy': accuracy_score(y_test, y_pred),\n",
    "        'Precision': precision_score(y_test, y_pred),\n",
    "        'Recall': recall_score(y_test, y_pred),\n",
    "        'F1 Score': f1_score(y_test, y_pred)\n",
    "    }\n",
    "\n",
    "# Convert results to DataFrame\n",
    "results_df = pd.DataFrame(model_results).T\n",
    "print(results_df)"
   ]
  },
  {
   "cell_type": "markdown",
   "metadata": {},
   "source": [
    "### Checking Feature Importance"
   ]
  },
  {
   "cell_type": "code",
   "execution_count": 27,
   "metadata": {},
   "outputs": [
    {
     "name": "stderr",
     "output_type": "stream",
     "text": [
      "C:\\Users\\hp\\AppData\\Local\\Temp\\ipykernel_15812\\362242920.py:8: FutureWarning: \n",
      "\n",
      "Passing `palette` without assigning `hue` is deprecated and will be removed in v0.14.0. Assign the `y` variable to `hue` and set `legend=False` for the same effect.\n",
      "\n",
      "  sns.barplot(x=feature_importance, y=feature_names, palette=\"viridis\")\n"
     ]
    },
    {
     "data": {
      "image/png": "[encoded data removed]",
      "text/plain": [
       "<Figure size 1000x600 with 1 Axes>"
      ]
     },
     "metadata": {},
     "output_type": "display_data"
    }
   ],
   "source": [
    "rf_model = RandomForestClassifier()\n",
    "rf_model.fit(X_train, y_train)\n",
    "feature_importance = rf_model.feature_importances_\n",
    "feature_names = X_train.columns\n",
    "\n",
    "# Plot feature importance\n",
    "plt.figure(figsize=(10, 6))\n",
    "sns.barplot(x=feature_importance, y=feature_names, palette=\"viridis\")\n",
    "plt.xlabel(\"Feature Importance\")\n",
    "plt.ylabel(\"Features\")\n",
    "plt.title(\"Random Forest Feature Importance\")\n",
    "plt.show()"
   ]
  },
  {
   "cell_type": "markdown",
   "metadata": {},
   "source": [
    "### Training after dropping less important features"
   ]
  },
  {
   "cell_type": "code",
   "execution_count": 28,
   "metadata": {},
   "outputs": [
    {
     "name": "stdout",
     "output_type": "stream",
     "text": [
      "[LightGBM] [Warning] Found whitespace in feature_names, replace with underlines\n",
      "[LightGBM] [Info] Number of positive: 249999, number of negative: 190833\n",
      "[LightGBM] [Info] Auto-choosing row-wise multi-threading, the overhead of testing was 0.007182 seconds.\n",
      "You can set `force_row_wise=true` to remove the overhead.\n",
      "And if memory is not enough, you can set `force_col_wise=true`.\n",
      "[LightGBM] [Info] Total Bins 379\n",
      "[LightGBM] [Info] Number of data points in the train set: 440832, number of used features: 7\n",
      "[LightGBM] [Info] [binary:BoostFromScore]: pavg=0.567107 -> initscore=0.270058\n",
      "[LightGBM] [Info] Start training from score 0.270058\n",
      "                     Accuracy  Precision    Recall  F1 Score\n",
      "Logistic Regression  0.570386   0.524661  0.989670  0.685770\n",
      "Random Forest        0.505763   0.489366  0.998327  0.656785\n",
      "Gradient Boosting    0.506152   0.489563  0.998327  0.656963\n",
      "XGBoost              0.505934   0.489453  0.998327  0.656863\n",
      "LightGBM             0.505763   0.489366  0.998327  0.656785\n"
     ]
    }
   ],
   "source": [
    "columns = ['Usage Frequency', 'Subscription Type Encoded', 'Tenure', 'Contract Length_Annual']\n",
    "X_train_drop = X_train.drop(columns=columns, axis=1)\n",
    "X_test_drop = X_test.drop(columns=columns, axis=1)\n",
    "\n",
    "# Define models\n",
    "models = {\n",
    "    'Logistic Regression': LogisticRegression(),\n",
    "    'Random Forest': RandomForestClassifier(),\n",
    "    'Gradient Boosting': GradientBoostingClassifier(),\n",
    "    'XGBoost': XGBClassifier(eval_metric='logloss'),\n",
    "    'LightGBM': LGBMClassifier()\n",
    "}\n",
    "\n",
    "# Train models\n",
    "model_results = {}\n",
    "\n",
    "for name, model in models.items():\n",
    "    model.fit(X_train_drop, y_train)\n",
    "    y_pred = model.predict(X_test_drop)\n",
    "    \n",
    "    model_results[name] = {\n",
    "        'Accuracy': accuracy_score(y_test, y_pred),\n",
    "        'Precision': precision_score(y_test, y_pred),\n",
    "        'Recall': recall_score(y_test, y_pred),\n",
    "        'F1 Score': f1_score(y_test, y_pred)\n",
    "    }\n",
    "\n",
    "# Convert results to DataFrame\n",
    "results_df = pd.DataFrame(model_results).T\n",
    "print(results_df)\n"
   ]
  },
  {
   "cell_type": "markdown",
   "metadata": {},
   "source": [
    "### Hyperparameter Tuning"
   ]
  },
  {
   "cell_type": "markdown",
   "metadata": {},
   "source": [
    "XGBoost"
   ]
  },
  {
   "cell_type": "code",
   "execution_count": 29,
   "metadata": {},
   "outputs": [
    {
     "name": "stdout",
     "output_type": "stream",
     "text": [
      "Fitting 10 folds for each of 1296 candidates, totalling 12960 fits\n",
      "Best XGBoost Parameters: {'alpha': 0, 'colsample_bytree': 1.0, 'gamma': 0, 'lambda': 10, 'learning_rate': 0.2, 'max_depth': 7, 'n_estimators': 200, 'subsample': 1.0}\n"
     ]
    }
   ],
   "source": [
    "# Define hyperparameter grid for XGBoost\n",
    "param_grid_xgb = {\n",
    "    'n_estimators': [50, 100, 200],  # Number of trees\n",
    "    'max_depth': [3, 5, 7],  # Tree depth\n",
    "    'learning_rate': [0.1, 0.2, 0.3],  # Step size shrinkage\n",
    "    'subsample': [0.8, 1.0],  # Fraction of samples per tree\n",
    "    'colsample_bytree': [0.8, 1.0],  # Fraction of features per tree\n",
    "    'gamma': [0, 0.1, 0.3],  # Minimum loss reduction required to split\n",
    "    'lambda': [1, 10],  # L2 regularization\n",
    "    'alpha': [0, 1]  # L1 regularization\n",
    "}\n",
    "\n",
    "# Perform Grid Search with 5-fold cross-validation\n",
    "xgb_model = XGBClassifier(eval_metric='logloss')\n",
    "gs_xgb = GridSearchCV(xgb_model, param_grid_xgb, cv=10, scoring='accuracy', n_jobs=-1, verbose=1)\n",
    "gs_xgb.fit(X_train_pca, y_train)\n",
    "\n",
    "# Print the best hyperparameters\n",
    "print(\"Best XGBoost Parameters:\", gs_xgb.best_params_)"
   ]
  },
  {
   "cell_type": "markdown",
   "metadata": {},
   "source": [
    "LightGBM"
   ]
  },
  {
   "cell_type": "code",
   "execution_count": 30,
   "metadata": {},
   "outputs": [
    {
     "name": "stdout",
     "output_type": "stream",
     "text": [
      "Fitting 10 folds for each of 1296 candidates, totalling 12960 fits\n",
      "[LightGBM] [Info] Number of positive: 249999, number of negative: 190833\n",
      "[LightGBM] [Info] Auto-choosing col-wise multi-threading, the overhead of testing was 0.007484 seconds.\n",
      "You can set `force_col_wise=true` to remove the overhead.\n",
      "[LightGBM] [Info] Total Bins 510\n",
      "[LightGBM] [Info] Number of data points in the train set: 440832, number of used features: 2\n",
      "[LightGBM] [Info] [binary:BoostFromScore]: pavg=0.567107 -> initscore=0.270058\n",
      "[LightGBM] [Info] Start training from score 0.270058\n",
      "[LightGBM] [Warning] No further splits with positive gain, best gain: -inf\n",
      "[LightGBM] [Warning] No further splits with positive gain, best gain: -inf\n",
      "[LightGBM] [Warning] No further splits with positive gain, best gain: -inf\n",
      "[LightGBM] [Warning] No further splits with positive gain, best gain: -inf\n",
      "[LightGBM] [Warning] No further splits with positive gain, best gain: -inf\n",
      "[LightGBM] [Warning] No further splits with positive gain, best gain: -inf\n",
      "[LightGBM] [Warning] No further splits with positive gain, best gain: -inf\n",
      "[LightGBM] [Warning] No further splits with positive gain, best gain: -inf\n",
      "[LightGBM] [Warning] No further splits with positive gain, best gain: -inf\n",
      "[LightGBM] [Warning] No further splits with positive gain, best gain: -inf\n",
      "[LightGBM] [Warning] No further splits with positive gain, best gain: -inf\n",
      "[LightGBM] [Warning] No further splits with positive gain, best gain: -inf\n",
      "[LightGBM] [Warning] No further splits with positive gain, best gain: -inf\n",
      "[LightGBM] [Warning] No further splits with positive gain, best gain: -inf\n",
      "[LightGBM] [Warning] No further splits with positive gain, best gain: -inf\n",
      "[LightGBM] [Warning] No further splits with positive gain, best gain: -inf\n",
      "[LightGBM] [Warning] No further splits with positive gain, best gain: -inf\n",
      "[LightGBM] [Warning] No further splits with positive gain, best gain: -inf\n",
      "Best LightGBM Parameters: {'colsample_bytree': 0.8, 'learning_rate': 0.2, 'max_depth': 7, 'n_estimators': 200, 'num_leaves': 31, 'reg_alpha': 0, 'reg_lambda': 10, 'subsample': 0.8}\n"
     ]
    }
   ],
   "source": [
    "# Define hyperparameter grid for LightGBM\n",
    "param_grid_lgb = {\n",
    "    'n_estimators': [50, 100, 200],  # Number of boosting rounds\n",
    "    'max_depth': [3, 5, 7],  # Maximum depth of each tree\n",
    "    'learning_rate': [0.1, 0.2, 0.3],  # Step size shrinkage\n",
    "    'num_leaves': [20, 31, 40],  # Number of leaves per tree\n",
    "    'subsample': [0.8, 1.0],  # Fraction of data used per tree\n",
    "    'colsample_bytree': [0.8, 1.0],  # Fraction of features per tree\n",
    "    'reg_alpha': [0, 1],  # L1 regularization (Lasso-like)\n",
    "    'reg_lambda': [1, 10]  # L2 regularization (Ridge-like)\n",
    "}\n",
    "\n",
    "# Perform Grid Search with 5-fold cross-validation\n",
    "lgb_model = LGBMClassifier()\n",
    "gs_lgb = GridSearchCV(lgb_model, param_grid_lgb, cv=10, scoring='accuracy', n_jobs=-1, verbose=1)\n",
    "gs_lgb.fit(X_train_pca, y_train)\n",
    "\n",
    "# Print the best hyperparameters\n",
    "print(\"Best LightGBM Parameters:\", gs_lgb.best_params_)"
   ]
  },
  {
   "cell_type": "markdown",
   "metadata": {},
   "source": [
    "### Model Evaluation"
   ]
  },
  {
   "cell_type": "code",
   "execution_count": 31,
   "metadata": {},
   "outputs": [
    {
     "name": "stdout",
     "output_type": "stream",
     "text": [
      "XGBoost Test Accuracy: 0.5809\n",
      "LightGBM Test Accuracy: 0.5812\n"
     ]
    }
   ],
   "source": [
    "# Get the best XGBoost model\n",
    "best_xgb = gs_xgb.best_estimator_\n",
    "\n",
    "# Predictions\n",
    "y_pred_xgb = best_xgb.predict(X_test_pca)\n",
    "y_proba_xgb = best_xgb.predict_proba(X_test_pca)[:, 1]\n",
    "\n",
    "# Accuracy\n",
    "accuracy_xgb = accuracy_score(y_test, y_pred_xgb)\n",
    "print(f\"XGBoost Test Accuracy: {accuracy_xgb:.4f}\")\n",
    "\n",
    "# Get the best LightGBM model\n",
    "best_lgb = gs_lgb.best_estimator_\n",
    "\n",
    "# Predictions\n",
    "y_pred_lgb = best_lgb.predict(X_test_pca)\n",
    "y_proba_lgb = best_lgb.predict_proba(X_test_pca)[:, 1]\n",
    "\n",
    "# Accuracy\n",
    "accuracy_lgb = accuracy_score(y_test, y_pred_lgb)\n",
    "print(f\"LightGBM Test Accuracy: {accuracy_lgb:.4f}\")"
   ]
  },
  {
   "cell_type": "code",
   "execution_count": 32,
   "metadata": {},
   "outputs": [
    {
     "data": {
      "image/png": "[encoded data removed]",
      "text/plain": [
       "<Figure size 800x600 with 1 Axes>"
      ]
     },
     "metadata": {},
     "output_type": "display_data"
    },
    {
     "data": {
      "image/png": "[encoded data removed]",
      "text/plain": [
       "<Figure size 800x600 with 1 Axes>"
      ]
     },
     "metadata": {},
     "output_type": "display_data"
    }
   ],
   "source": [
    "# Function to plot the confusion matrix\n",
    "def plot_confusion_matrix(y_true, y_pred, model_name):\n",
    "    conf_matrix = confusion_matrix(y_true, y_pred)\n",
    "    \n",
    "    plt.figure(figsize=(8, 6))\n",
    "    sns.heatmap(conf_matrix, annot=True, fmt='d', cmap='Blues', cbar=False)\n",
    "    plt.xlabel(\"Predicted\")\n",
    "    plt.ylabel(\"Actual\")\n",
    "    plt.title(f\"{model_name} Confusion Matrix\")\n",
    "    plt.show()\n",
    "\n",
    "# Plot for XGBoost\n",
    "plot_confusion_matrix(y_test, y_pred_xgb, \"XGBoost\")\n",
    "\n",
    "# Plot for LightGBM\n",
    "plot_confusion_matrix(y_test, y_pred_lgb, \"LightGBM\")"
   ]
  },
  {
   "cell_type": "code",
   "execution_count": 33,
   "metadata": {},
   "outputs": [
    {
     "data": {
      "image/png": "[encoded data removed]",
      "text/plain": [
       "<Figure size 600x400 with 1 Axes>"
      ]
     },
     "metadata": {},
     "output_type": "display_data"
    }
   ],
   "source": [
    "# Function to plot the ROC curve\n",
    "def plot_roc_curve(y_true, y_proba, model_name, color):\n",
    "    fpr, tpr, _ = roc_curve(y_true, y_proba)\n",
    "    roc_auc = auc(fpr, tpr)\n",
    "    \n",
    "    plt.plot(fpr, tpr, label=f'{model_name} (AUC = {roc_auc:.2f})', color=color)\n",
    "\n",
    "# Plot ROC Curves for XGBoost and LightGBM\n",
    "plt.figure(figsize=(6, 4))\n",
    "\n",
    "plot_roc_curve(y_test, y_proba_xgb, \"XGBoost\", \"blue\")\n",
    "plot_roc_curve(y_test, y_proba_lgb, \"LightGBM\", \"green\")\n",
    "\n",
    "plt.plot([0, 1], [0, 1], linestyle=\"--\", color=\"gray\")  # Random classifier line\n",
    "plt.xlabel(\"False Positive Rate\")\n",
    "plt.ylabel(\"True Positive Rate\")\n",
    "plt.title(\"ROC Curve Comparison\")\n",
    "plt.legend()\n",
    "plt.show()"
   ]
  },
  {
   "cell_type": "markdown",
   "metadata": {},
   "source": [
    "### Save The Models"
   ]
  },
  {
   "cell_type": "code",
   "execution_count": 34,
   "metadata": {},
   "outputs": [
    {
     "data": {
      "text/plain": [
       "['Saved_Models/lightgbm.joblib']"
      ]
     },
     "execution_count": 34,
     "metadata": {},
     "output_type": "execute_result"
    }
   ],
   "source": [
    "import joblib\n",
    "\n",
    "joblib.dump(gs_xgb.best_estimator_, \"Saved_Models/xgboost.joblib\")\n",
    "joblib.dump(gs_lgb.best_estimator_, \"Saved_Models/lightgbm.joblib\")"
   ]
  }
 ],
 "metadata": {
  "kernelspec": {
   "display_name": "Python 3",
   "language": "python",
   "name": "python3"
  },
  "language_info": {
   "codemirror_mode": {
    "name": "ipython",
    "version": 3
   },
   "file_extension": ".py",
   "mimetype": "text/x-python",
   "name": "python",
   "nbconvert_exporter": "python",
   "pygments_lexer": "ipython3",
   "version": "3.10.1"
  }
 },
 "nbformat": 4,
 "nbformat_minor": 2
}
