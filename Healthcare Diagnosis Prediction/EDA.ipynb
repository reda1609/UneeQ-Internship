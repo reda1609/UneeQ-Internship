{
 "cells": [
  {
   "cell_type": "markdown",
   "metadata": {},
   "source": [
    "### Data Description: Healthcare Dataset\n",
    "This dataset contains information about patients admitted to a hospital, including demographic details, medical conditions, treatments, and billing information. The dataset comprises the following columns:\n",
    "\n",
    "* **Name**: Names of the patients admitted to the hospital.\n",
    "* **Age**: Age of the patients at the time of admission.\n",
    "* **Gender**: Gender of the patients (e.g., male, female).\n",
    "* **Blood Type**: Blood type of the patients.\n",
    "* **Medical Condition**: Description of the medical condition or diagnosis for which the patient is admitted.\n",
    "* **Date of Admission**: Date when the patient was admitted to the hospital.\n",
    "* **Doctor**: Name or identifier of the doctor responsible for the patient's care.\n",
    "* **Hospital**: Name or identifier of the hospital where the patient is admitted.\n",
    "* **Insurance Provider**: Name of the insurance provider covering the patient's medical expenses.\n",
    "* **Billing Amount**: Amount billed to the patient or their insurance provider for medical services received during the hospital stay.\n",
    "* **Room Number**: Identifier of the room where the patient is accommodated.\n",
    "* **Admission Type**: Type of admission, such as emergency, elective, or transfer.\n",
    "* **Discharge Date**: Date when the patient was discharged from the hospital.\n",
    "* **Medication**: List of medications prescribed to the patient during their hospitalization.\n",
    "* **Test Results**: Results of medical tests conducted on the patient during their hospital stay.\n",
    "\n",
    "This dataset provides valuable insights into patient demographics, medical conditions, treatment patterns, and hospital operations. It can be used for various analyses, including patient outcome prediction, resource allocation optimization, and healthcare quality improvement initiatives."
   ]
  },
  {
   "cell_type": "markdown",
   "metadata": {},
   "source": [
    "### Import Libraries"
   ]
  },
  {
   "cell_type": "code",
   "execution_count": 92,
   "metadata": {},
   "outputs": [],
   "source": [
    "import pandas as pd\n",
    "import numpy as np\n",
    "import matplotlib.pyplot as plt\n",
    "import seaborn as sns\n",
    "import plotly.express as px\n",
    "import plotly.graph_objects as go\n",
    "\n",
    "import warnings\n",
    "warnings.filterwarnings('ignore')"
   ]
  },
  {
   "cell_type": "markdown",
   "metadata": {},
   "source": [
    "### Load Dataset"
   ]
  },
  {
   "cell_type": "code",
   "execution_count": 93,
   "metadata": {},
   "outputs": [],
   "source": [
    "data = pd.read_csv('Data/healthcare_dataset.csv')"
   ]
  },
  {
   "cell_type": "markdown",
   "metadata": {},
   "source": [
    "### Dataset Overview"
   ]
  },
  {
   "cell_type": "code",
   "execution_count": 94,
   "metadata": {},
   "outputs": [
    {
     "data": {
      "text/html": [
       "<div>\n",
       "<style scoped>\n",
       "    .dataframe tbody tr th:only-of-type {\n",
       "        vertical-align: middle;\n",
       "    }\n",
       "\n",
       "    .dataframe tbody tr th {\n",
       "        vertical-align: top;\n",
       "    }\n",
       "\n",
       "    .dataframe thead th {\n",
       "        text-align: right;\n",
       "    }\n",
       "</style>\n",
       "<table border=\"1\" class=\"dataframe\">\n",
       "  <thead>\n",
       "    <tr style=\"text-align: right;\">\n",
       "      <th></th>\n",
       "      <th>Name</th>\n",
       "      <th>Age</th>\n",
       "      <th>Gender</th>\n",
       "      <th>Blood Type</th>\n",
       "      <th>Medical Condition</th>\n",
       "      <th>Date of Admission</th>\n",
       "      <th>Doctor</th>\n",
       "      <th>Hospital</th>\n",
       "      <th>Insurance Provider</th>\n",
       "      <th>Billing Amount</th>\n",
       "      <th>Room Number</th>\n",
       "      <th>Admission Type</th>\n",
       "      <th>Discharge Date</th>\n",
       "      <th>Medication</th>\n",
       "      <th>Test Results</th>\n",
       "    </tr>\n",
       "  </thead>\n",
       "  <tbody>\n",
       "    <tr>\n",
       "      <th>0</th>\n",
       "      <td>Tiffany Ramirez</td>\n",
       "      <td>81</td>\n",
       "      <td>Female</td>\n",
       "      <td>O-</td>\n",
       "      <td>Diabetes</td>\n",
       "      <td>11/17/2022</td>\n",
       "      <td>Patrick Parker</td>\n",
       "      <td>Wallace-Hamilton</td>\n",
       "      <td>Medicare</td>\n",
       "      <td>37490.98336</td>\n",
       "      <td>146</td>\n",
       "      <td>Elective</td>\n",
       "      <td>12/1/2022</td>\n",
       "      <td>Aspirin</td>\n",
       "      <td>Inconclusive</td>\n",
       "    </tr>\n",
       "    <tr>\n",
       "      <th>1</th>\n",
       "      <td>Ruben Burns</td>\n",
       "      <td>35</td>\n",
       "      <td>Male</td>\n",
       "      <td>O+</td>\n",
       "      <td>Asthma</td>\n",
       "      <td>6/1/2023</td>\n",
       "      <td>Diane Jackson</td>\n",
       "      <td>Burke, Griffin and Cooper</td>\n",
       "      <td>UnitedHealthcare</td>\n",
       "      <td>47304.06485</td>\n",
       "      <td>404</td>\n",
       "      <td>Emergency</td>\n",
       "      <td>6/15/2023</td>\n",
       "      <td>Lipitor</td>\n",
       "      <td>Normal</td>\n",
       "    </tr>\n",
       "    <tr>\n",
       "      <th>2</th>\n",
       "      <td>Chad Byrd</td>\n",
       "      <td>61</td>\n",
       "      <td>Male</td>\n",
       "      <td>B-</td>\n",
       "      <td>Obesity</td>\n",
       "      <td>1/9/2019</td>\n",
       "      <td>Paul Baker</td>\n",
       "      <td>Walton LLC</td>\n",
       "      <td>Medicare</td>\n",
       "      <td>36874.89700</td>\n",
       "      <td>292</td>\n",
       "      <td>Emergency</td>\n",
       "      <td>2/8/2019</td>\n",
       "      <td>Lipitor</td>\n",
       "      <td>Normal</td>\n",
       "    </tr>\n",
       "    <tr>\n",
       "      <th>3</th>\n",
       "      <td>Antonio Frederick</td>\n",
       "      <td>49</td>\n",
       "      <td>Male</td>\n",
       "      <td>B-</td>\n",
       "      <td>Asthma</td>\n",
       "      <td>5/2/2020</td>\n",
       "      <td>Brian Chandler</td>\n",
       "      <td>Garcia Ltd</td>\n",
       "      <td>Medicare</td>\n",
       "      <td>23303.32209</td>\n",
       "      <td>480</td>\n",
       "      <td>Urgent</td>\n",
       "      <td>5/3/2020</td>\n",
       "      <td>Penicillin</td>\n",
       "      <td>Abnormal</td>\n",
       "    </tr>\n",
       "    <tr>\n",
       "      <th>4</th>\n",
       "      <td>Mrs. Brandy Flowers</td>\n",
       "      <td>51</td>\n",
       "      <td>Male</td>\n",
       "      <td>O-</td>\n",
       "      <td>Arthritis</td>\n",
       "      <td>7/9/2021</td>\n",
       "      <td>Dustin Griffin</td>\n",
       "      <td>Jones, Brown and Murray</td>\n",
       "      <td>UnitedHealthcare</td>\n",
       "      <td>18086.34418</td>\n",
       "      <td>477</td>\n",
       "      <td>Urgent</td>\n",
       "      <td>8/2/2021</td>\n",
       "      <td>Paracetamol</td>\n",
       "      <td>Normal</td>\n",
       "    </tr>\n",
       "  </tbody>\n",
       "</table>\n",
       "</div>"
      ],
      "text/plain": [
       "                  Name  Age  Gender Blood Type Medical Condition  \\\n",
       "0      Tiffany Ramirez   81  Female         O-          Diabetes   \n",
       "1          Ruben Burns   35    Male         O+            Asthma   \n",
       "2            Chad Byrd   61    Male         B-           Obesity   \n",
       "3    Antonio Frederick   49    Male         B-            Asthma   \n",
       "4  Mrs. Brandy Flowers   51    Male         O-         Arthritis   \n",
       "\n",
       "  Date of Admission          Doctor                   Hospital  \\\n",
       "0        11/17/2022  Patrick Parker           Wallace-Hamilton   \n",
       "1          6/1/2023   Diane Jackson  Burke, Griffin and Cooper   \n",
       "2          1/9/2019      Paul Baker                 Walton LLC   \n",
       "3          5/2/2020  Brian Chandler                 Garcia Ltd   \n",
       "4          7/9/2021  Dustin Griffin    Jones, Brown and Murray   \n",
       "\n",
       "  Insurance Provider  Billing Amount  Room Number Admission Type  \\\n",
       "0           Medicare     37490.98336          146       Elective   \n",
       "1   UnitedHealthcare     47304.06485          404      Emergency   \n",
       "2           Medicare     36874.89700          292      Emergency   \n",
       "3           Medicare     23303.32209          480         Urgent   \n",
       "4   UnitedHealthcare     18086.34418          477         Urgent   \n",
       "\n",
       "  Discharge Date   Medication  Test Results  \n",
       "0      12/1/2022      Aspirin  Inconclusive  \n",
       "1      6/15/2023      Lipitor        Normal  \n",
       "2       2/8/2019      Lipitor        Normal  \n",
       "3       5/3/2020   Penicillin      Abnormal  \n",
       "4       8/2/2021  Paracetamol        Normal  "
      ]
     },
     "execution_count": 94,
     "metadata": {},
     "output_type": "execute_result"
    }
   ],
   "source": [
    "data.head()"
   ]
  },
  {
   "cell_type": "code",
   "execution_count": 95,
   "metadata": {},
   "outputs": [
    {
     "data": {
      "text/html": [
       "<div>\n",
       "<style scoped>\n",
       "    .dataframe tbody tr th:only-of-type {\n",
       "        vertical-align: middle;\n",
       "    }\n",
       "\n",
       "    .dataframe tbody tr th {\n",
       "        vertical-align: top;\n",
       "    }\n",
       "\n",
       "    .dataframe thead th {\n",
       "        text-align: right;\n",
       "    }\n",
       "</style>\n",
       "<table border=\"1\" class=\"dataframe\">\n",
       "  <thead>\n",
       "    <tr style=\"text-align: right;\">\n",
       "      <th></th>\n",
       "      <th>Name</th>\n",
       "      <th>Age</th>\n",
       "      <th>Gender</th>\n",
       "      <th>Blood Type</th>\n",
       "      <th>Medical Condition</th>\n",
       "      <th>Date of Admission</th>\n",
       "      <th>Doctor</th>\n",
       "      <th>Hospital</th>\n",
       "      <th>Insurance Provider</th>\n",
       "      <th>Billing Amount</th>\n",
       "      <th>Room Number</th>\n",
       "      <th>Admission Type</th>\n",
       "      <th>Discharge Date</th>\n",
       "      <th>Medication</th>\n",
       "      <th>Test Results</th>\n",
       "    </tr>\n",
       "  </thead>\n",
       "  <tbody>\n",
       "    <tr>\n",
       "      <th>9995</th>\n",
       "      <td>James Hood</td>\n",
       "      <td>83</td>\n",
       "      <td>Male</td>\n",
       "      <td>A+</td>\n",
       "      <td>Obesity</td>\n",
       "      <td>7/29/2022</td>\n",
       "      <td>Samuel Moody</td>\n",
       "      <td>Wood, Martin and Simmons</td>\n",
       "      <td>UnitedHealthcare</td>\n",
       "      <td>39606.840080</td>\n",
       "      <td>110</td>\n",
       "      <td>Elective</td>\n",
       "      <td>8/2/2022</td>\n",
       "      <td>Ibuprofen</td>\n",
       "      <td>Abnormal</td>\n",
       "    </tr>\n",
       "    <tr>\n",
       "      <th>9996</th>\n",
       "      <td>Stephanie Evans</td>\n",
       "      <td>47</td>\n",
       "      <td>Female</td>\n",
       "      <td>AB+</td>\n",
       "      <td>Arthritis</td>\n",
       "      <td>1/6/2022</td>\n",
       "      <td>Christopher Yates</td>\n",
       "      <td>Nash-Krueger</td>\n",
       "      <td>Blue Cross</td>\n",
       "      <td>5995.717488</td>\n",
       "      <td>244</td>\n",
       "      <td>Emergency</td>\n",
       "      <td>1/29/2022</td>\n",
       "      <td>Ibuprofen</td>\n",
       "      <td>Normal</td>\n",
       "    </tr>\n",
       "    <tr>\n",
       "      <th>9997</th>\n",
       "      <td>Christopher Martinez</td>\n",
       "      <td>54</td>\n",
       "      <td>Male</td>\n",
       "      <td>B-</td>\n",
       "      <td>Arthritis</td>\n",
       "      <td>7/1/2022</td>\n",
       "      <td>Robert Nicholson</td>\n",
       "      <td>Larson and Sons</td>\n",
       "      <td>Blue Cross</td>\n",
       "      <td>49559.202900</td>\n",
       "      <td>312</td>\n",
       "      <td>Elective</td>\n",
       "      <td>7/15/2022</td>\n",
       "      <td>Ibuprofen</td>\n",
       "      <td>Normal</td>\n",
       "    </tr>\n",
       "    <tr>\n",
       "      <th>9998</th>\n",
       "      <td>Amanda Duke</td>\n",
       "      <td>84</td>\n",
       "      <td>Male</td>\n",
       "      <td>A+</td>\n",
       "      <td>Arthritis</td>\n",
       "      <td>2/6/2020</td>\n",
       "      <td>Jamie Lewis</td>\n",
       "      <td>Wilson-Lyons</td>\n",
       "      <td>UnitedHealthcare</td>\n",
       "      <td>25236.344760</td>\n",
       "      <td>420</td>\n",
       "      <td>Urgent</td>\n",
       "      <td>2/26/2020</td>\n",
       "      <td>Penicillin</td>\n",
       "      <td>Normal</td>\n",
       "    </tr>\n",
       "    <tr>\n",
       "      <th>9999</th>\n",
       "      <td>Eric King</td>\n",
       "      <td>20</td>\n",
       "      <td>Male</td>\n",
       "      <td>B-</td>\n",
       "      <td>Arthritis</td>\n",
       "      <td>3/22/2023</td>\n",
       "      <td>Tasha Avila</td>\n",
       "      <td>Torres, Young and Stewart</td>\n",
       "      <td>Aetna</td>\n",
       "      <td>37223.965860</td>\n",
       "      <td>290</td>\n",
       "      <td>Emergency</td>\n",
       "      <td>4/15/2023</td>\n",
       "      <td>Penicillin</td>\n",
       "      <td>Abnormal</td>\n",
       "    </tr>\n",
       "  </tbody>\n",
       "</table>\n",
       "</div>"
      ],
      "text/plain": [
       "                      Name  Age  Gender Blood Type Medical Condition  \\\n",
       "9995            James Hood   83    Male         A+           Obesity   \n",
       "9996       Stephanie Evans   47  Female        AB+         Arthritis   \n",
       "9997  Christopher Martinez   54    Male         B-         Arthritis   \n",
       "9998           Amanda Duke   84    Male         A+         Arthritis   \n",
       "9999             Eric King   20    Male         B-         Arthritis   \n",
       "\n",
       "     Date of Admission             Doctor                   Hospital  \\\n",
       "9995         7/29/2022       Samuel Moody   Wood, Martin and Simmons   \n",
       "9996          1/6/2022  Christopher Yates               Nash-Krueger   \n",
       "9997          7/1/2022   Robert Nicholson            Larson and Sons   \n",
       "9998          2/6/2020        Jamie Lewis               Wilson-Lyons   \n",
       "9999         3/22/2023        Tasha Avila  Torres, Young and Stewart   \n",
       "\n",
       "     Insurance Provider  Billing Amount  Room Number Admission Type  \\\n",
       "9995   UnitedHealthcare    39606.840080          110       Elective   \n",
       "9996         Blue Cross     5995.717488          244      Emergency   \n",
       "9997         Blue Cross    49559.202900          312       Elective   \n",
       "9998   UnitedHealthcare    25236.344760          420         Urgent   \n",
       "9999              Aetna    37223.965860          290      Emergency   \n",
       "\n",
       "     Discharge Date  Medication Test Results  \n",
       "9995       8/2/2022   Ibuprofen     Abnormal  \n",
       "9996      1/29/2022   Ibuprofen       Normal  \n",
       "9997      7/15/2022   Ibuprofen       Normal  \n",
       "9998      2/26/2020  Penicillin       Normal  \n",
       "9999      4/15/2023  Penicillin     Abnormal  "
      ]
     },
     "execution_count": 95,
     "metadata": {},
     "output_type": "execute_result"
    }
   ],
   "source": [
    "data.tail()"
   ]
  },
  {
   "cell_type": "code",
   "execution_count": 96,
   "metadata": {},
   "outputs": [
    {
     "name": "stdout",
     "output_type": "stream",
     "text": [
      "<class 'pandas.core.frame.DataFrame'>\n",
      "RangeIndex: 10000 entries, 0 to 9999\n",
      "Data columns (total 15 columns):\n",
      " #   Column              Non-Null Count  Dtype  \n",
      "---  ------              --------------  -----  \n",
      " 0   Name                10000 non-null  object \n",
      " 1   Age                 10000 non-null  int64  \n",
      " 2   Gender              10000 non-null  object \n",
      " 3   Blood Type          10000 non-null  object \n",
      " 4   Medical Condition   10000 non-null  object \n",
      " 5   Date of Admission   10000 non-null  object \n",
      " 6   Doctor              10000 non-null  object \n",
      " 7   Hospital            10000 non-null  object \n",
      " 8   Insurance Provider  10000 non-null  object \n",
      " 9   Billing Amount      10000 non-null  float64\n",
      " 10  Room Number         10000 non-null  int64  \n",
      " 11  Admission Type      10000 non-null  object \n",
      " 12  Discharge Date      10000 non-null  object \n",
      " 13  Medication          10000 non-null  object \n",
      " 14  Test Results        10000 non-null  object \n",
      "dtypes: float64(1), int64(2), object(12)\n",
      "memory usage: 1.1+ MB\n"
     ]
    }
   ],
   "source": [
    "data.info()"
   ]
  },
  {
   "cell_type": "code",
   "execution_count": 97,
   "metadata": {},
   "outputs": [
    {
     "data": {
      "text/plain": [
       "Name                   9378\n",
       "Age                      68\n",
       "Gender                    2\n",
       "Blood Type                8\n",
       "Medical Condition         6\n",
       "Date of Admission      1815\n",
       "Doctor                 9416\n",
       "Hospital               8639\n",
       "Insurance Provider        5\n",
       "Billing Amount        10000\n",
       "Room Number             400\n",
       "Admission Type            3\n",
       "Discharge Date         1834\n",
       "Medication                5\n",
       "Test Results              3\n",
       "dtype: int64"
      ]
     },
     "execution_count": 97,
     "metadata": {},
     "output_type": "execute_result"
    }
   ],
   "source": [
    "data.nunique()"
   ]
  },
  {
   "cell_type": "code",
   "execution_count": 98,
   "metadata": {},
   "outputs": [
    {
     "data": {
      "text/plain": [
       "Name                  0\n",
       "Age                   0\n",
       "Gender                0\n",
       "Blood Type            0\n",
       "Medical Condition     0\n",
       "Date of Admission     0\n",
       "Doctor                0\n",
       "Hospital              0\n",
       "Insurance Provider    0\n",
       "Billing Amount        0\n",
       "Room Number           0\n",
       "Admission Type        0\n",
       "Discharge Date        0\n",
       "Medication            0\n",
       "Test Results          0\n",
       "dtype: int64"
      ]
     },
     "execution_count": 98,
     "metadata": {},
     "output_type": "execute_result"
    }
   ],
   "source": [
    "data.isnull().sum()"
   ]
  },
  {
   "cell_type": "markdown",
   "metadata": {},
   "source": [
    "There is no null values"
   ]
  },
  {
   "cell_type": "code",
   "execution_count": 99,
   "metadata": {},
   "outputs": [
    {
     "data": {
      "text/plain": [
       "(10000, 15)"
      ]
     },
     "execution_count": 99,
     "metadata": {},
     "output_type": "execute_result"
    }
   ],
   "source": [
    "data.shape"
   ]
  },
  {
   "cell_type": "markdown",
   "metadata": {},
   "source": [
    "### Exploratory Data Analysis"
   ]
  },
  {
   "cell_type": "code",
   "execution_count": 100,
   "metadata": {},
   "outputs": [],
   "source": [
    "# Now convert date columns to datetime format\n",
    "data['Date of Admission'] = pd.to_datetime(data['Date of Admission'])\n",
    "data['Discharge Date'] = pd.to_datetime(data['Discharge Date'])"
   ]
  },
  {
   "cell_type": "code",
   "execution_count": 101,
   "metadata": {},
   "outputs": [
    {
     "data": {
      "text/html": [
       "<div>\n",
       "<style scoped>\n",
       "    .dataframe tbody tr th:only-of-type {\n",
       "        vertical-align: middle;\n",
       "    }\n",
       "\n",
       "    .dataframe tbody tr th {\n",
       "        vertical-align: top;\n",
       "    }\n",
       "\n",
       "    .dataframe thead th {\n",
       "        text-align: right;\n",
       "    }\n",
       "</style>\n",
       "<table border=\"1\" class=\"dataframe\">\n",
       "  <thead>\n",
       "    <tr style=\"text-align: right;\">\n",
       "      <th></th>\n",
       "      <th>Age</th>\n",
       "      <th>Date of Admission</th>\n",
       "      <th>Billing Amount</th>\n",
       "      <th>Room Number</th>\n",
       "      <th>Discharge Date</th>\n",
       "    </tr>\n",
       "  </thead>\n",
       "  <tbody>\n",
       "    <tr>\n",
       "      <th>count</th>\n",
       "      <td>10000.000000</td>\n",
       "      <td>10000</td>\n",
       "      <td>10000.000000</td>\n",
       "      <td>10000.000000</td>\n",
       "      <td>10000</td>\n",
       "    </tr>\n",
       "    <tr>\n",
       "      <th>mean</th>\n",
       "      <td>51.452200</td>\n",
       "      <td>2021-05-01 21:53:25.439999744</td>\n",
       "      <td>25516.806778</td>\n",
       "      <td>300.082000</td>\n",
       "      <td>2021-05-17 11:22:24.960000</td>\n",
       "    </tr>\n",
       "    <tr>\n",
       "      <th>min</th>\n",
       "      <td>18.000000</td>\n",
       "      <td>2018-10-30 00:00:00</td>\n",
       "      <td>1000.180837</td>\n",
       "      <td>101.000000</td>\n",
       "      <td>2018-11-01 00:00:00</td>\n",
       "    </tr>\n",
       "    <tr>\n",
       "      <th>25%</th>\n",
       "      <td>35.000000</td>\n",
       "      <td>2020-02-10 00:00:00</td>\n",
       "      <td>13506.523967</td>\n",
       "      <td>199.000000</td>\n",
       "      <td>2020-02-23 18:00:00</td>\n",
       "    </tr>\n",
       "    <tr>\n",
       "      <th>50%</th>\n",
       "      <td>52.000000</td>\n",
       "      <td>2021-05-02 00:00:00</td>\n",
       "      <td>25258.112565</td>\n",
       "      <td>299.000000</td>\n",
       "      <td>2021-05-18 00:00:00</td>\n",
       "    </tr>\n",
       "    <tr>\n",
       "      <th>75%</th>\n",
       "      <td>68.000000</td>\n",
       "      <td>2022-07-23 06:00:00</td>\n",
       "      <td>37733.913725</td>\n",
       "      <td>400.000000</td>\n",
       "      <td>2022-08-07 00:00:00</td>\n",
       "    </tr>\n",
       "    <tr>\n",
       "      <th>max</th>\n",
       "      <td>85.000000</td>\n",
       "      <td>2023-10-30 00:00:00</td>\n",
       "      <td>49995.902280</td>\n",
       "      <td>500.000000</td>\n",
       "      <td>2023-11-27 00:00:00</td>\n",
       "    </tr>\n",
       "    <tr>\n",
       "      <th>std</th>\n",
       "      <td>19.588974</td>\n",
       "      <td>NaN</td>\n",
       "      <td>14067.292709</td>\n",
       "      <td>115.806027</td>\n",
       "      <td>NaN</td>\n",
       "    </tr>\n",
       "  </tbody>\n",
       "</table>\n",
       "</div>"
      ],
      "text/plain": [
       "                Age              Date of Admission  Billing Amount  \\\n",
       "count  10000.000000                          10000    10000.000000   \n",
       "mean      51.452200  2021-05-01 21:53:25.439999744    25516.806778   \n",
       "min       18.000000            2018-10-30 00:00:00     1000.180837   \n",
       "25%       35.000000            2020-02-10 00:00:00    13506.523967   \n",
       "50%       52.000000            2021-05-02 00:00:00    25258.112565   \n",
       "75%       68.000000            2022-07-23 06:00:00    37733.913725   \n",
       "max       85.000000            2023-10-30 00:00:00    49995.902280   \n",
       "std       19.588974                            NaN    14067.292709   \n",
       "\n",
       "        Room Number              Discharge Date  \n",
       "count  10000.000000                       10000  \n",
       "mean     300.082000  2021-05-17 11:22:24.960000  \n",
       "min      101.000000         2018-11-01 00:00:00  \n",
       "25%      199.000000         2020-02-23 18:00:00  \n",
       "50%      299.000000         2021-05-18 00:00:00  \n",
       "75%      400.000000         2022-08-07 00:00:00  \n",
       "max      500.000000         2023-11-27 00:00:00  \n",
       "std      115.806027                         NaN  "
      ]
     },
     "execution_count": 101,
     "metadata": {},
     "output_type": "execute_result"
    }
   ],
   "source": [
    "data.describe()"
   ]
  },
  {
   "cell_type": "code",
   "execution_count": 102,
   "metadata": {},
   "outputs": [
    {
     "data": {
      "text/html": [
       "<div>\n",
       "<style scoped>\n",
       "    .dataframe tbody tr th:only-of-type {\n",
       "        vertical-align: middle;\n",
       "    }\n",
       "\n",
       "    .dataframe tbody tr th {\n",
       "        vertical-align: top;\n",
       "    }\n",
       "\n",
       "    .dataframe thead th {\n",
       "        text-align: right;\n",
       "    }\n",
       "</style>\n",
       "<table border=\"1\" class=\"dataframe\">\n",
       "  <thead>\n",
       "    <tr style=\"text-align: right;\">\n",
       "      <th></th>\n",
       "      <th>count</th>\n",
       "      <th>unique</th>\n",
       "      <th>top</th>\n",
       "      <th>freq</th>\n",
       "    </tr>\n",
       "  </thead>\n",
       "  <tbody>\n",
       "    <tr>\n",
       "      <th>Name</th>\n",
       "      <td>10000</td>\n",
       "      <td>9378</td>\n",
       "      <td>Michael Johnson</td>\n",
       "      <td>7</td>\n",
       "    </tr>\n",
       "    <tr>\n",
       "      <th>Gender</th>\n",
       "      <td>10000</td>\n",
       "      <td>2</td>\n",
       "      <td>Female</td>\n",
       "      <td>5075</td>\n",
       "    </tr>\n",
       "    <tr>\n",
       "      <th>Blood Type</th>\n",
       "      <td>10000</td>\n",
       "      <td>8</td>\n",
       "      <td>AB-</td>\n",
       "      <td>1275</td>\n",
       "    </tr>\n",
       "    <tr>\n",
       "      <th>Medical Condition</th>\n",
       "      <td>10000</td>\n",
       "      <td>6</td>\n",
       "      <td>Asthma</td>\n",
       "      <td>1708</td>\n",
       "    </tr>\n",
       "    <tr>\n",
       "      <th>Doctor</th>\n",
       "      <td>10000</td>\n",
       "      <td>9416</td>\n",
       "      <td>Michael Johnson</td>\n",
       "      <td>7</td>\n",
       "    </tr>\n",
       "    <tr>\n",
       "      <th>Hospital</th>\n",
       "      <td>10000</td>\n",
       "      <td>8639</td>\n",
       "      <td>Smith PLC</td>\n",
       "      <td>19</td>\n",
       "    </tr>\n",
       "    <tr>\n",
       "      <th>Insurance Provider</th>\n",
       "      <td>10000</td>\n",
       "      <td>5</td>\n",
       "      <td>Cigna</td>\n",
       "      <td>2040</td>\n",
       "    </tr>\n",
       "    <tr>\n",
       "      <th>Admission Type</th>\n",
       "      <td>10000</td>\n",
       "      <td>3</td>\n",
       "      <td>Urgent</td>\n",
       "      <td>3391</td>\n",
       "    </tr>\n",
       "    <tr>\n",
       "      <th>Medication</th>\n",
       "      <td>10000</td>\n",
       "      <td>5</td>\n",
       "      <td>Penicillin</td>\n",
       "      <td>2079</td>\n",
       "    </tr>\n",
       "    <tr>\n",
       "      <th>Test Results</th>\n",
       "      <td>10000</td>\n",
       "      <td>3</td>\n",
       "      <td>Abnormal</td>\n",
       "      <td>3456</td>\n",
       "    </tr>\n",
       "  </tbody>\n",
       "</table>\n",
       "</div>"
      ],
      "text/plain": [
       "                    count unique              top  freq\n",
       "Name                10000   9378  Michael Johnson     7\n",
       "Gender              10000      2           Female  5075\n",
       "Blood Type          10000      8              AB-  1275\n",
       "Medical Condition   10000      6           Asthma  1708\n",
       "Doctor              10000   9416  Michael Johnson     7\n",
       "Hospital            10000   8639        Smith PLC    19\n",
       "Insurance Provider  10000      5            Cigna  2040\n",
       "Admission Type      10000      3           Urgent  3391\n",
       "Medication          10000      5       Penicillin  2079\n",
       "Test Results        10000      3         Abnormal  3456"
      ]
     },
     "execution_count": 102,
     "metadata": {},
     "output_type": "execute_result"
    }
   ],
   "source": [
    "data.describe(include='object').T"
   ]
  },
  {
   "cell_type": "code",
   "execution_count": 103,
   "metadata": {},
   "outputs": [
    {
     "name": "stdout",
     "output_type": "stream",
     "text": [
      "['Female' 'Male']\n",
      "['O-' 'O+' 'B-' 'AB+' 'A+' 'AB-' 'A-' 'B+']\n",
      "['Diabetes' 'Asthma' 'Obesity' 'Arthritis' 'Hypertension' 'Cancer']\n",
      "['Elective' 'Emergency' 'Urgent']\n",
      "['Medicare' 'UnitedHealthcare' 'Aetna' 'Cigna' 'Blue Cross']\n",
      "['Aspirin' 'Lipitor' 'Penicillin' 'Paracetamol' 'Ibuprofen']\n",
      "['Inconclusive' 'Normal' 'Abnormal']\n"
     ]
    }
   ],
   "source": [
    "object_columns = ['Gender', 'Blood Type', 'Medical Condition', 'Admission Type', 'Insurance Provider', \"Medication\", 'Test Results']\n",
    "for column in object_columns:\n",
    "    print(data[column].unique())"
   ]
  },
  {
   "cell_type": "markdown",
   "metadata": {},
   "source": [
    "### Observations\n",
    "* This data is collected over a period of 5 years from 2018-10-30 to 2023-10-30.\n",
    "* The columns **Name**, **Doctor** & **Hospital** seems to be useless for the analysis as they are unique values for almost each row.\n",
    "* The **Date of Admission** & **Discharge Date** columns seem also irrelevant."
   ]
  },
  {
   "cell_type": "code",
   "execution_count": 104,
   "metadata": {},
   "outputs": [
    {
     "data": {
      "text/plain": [
       "(10000, 10)"
      ]
     },
     "execution_count": 104,
     "metadata": {},
     "output_type": "execute_result"
    }
   ],
   "source": [
    "data = data.drop(columns=['Name', 'Doctor', 'Hospital', 'Date of Admission', 'Discharge Date'])\n",
    "data.shape"
   ]
  },
  {
   "cell_type": "markdown",
   "metadata": {},
   "source": [
    "### Visualizations"
   ]
  },
  {
   "cell_type": "markdown",
   "metadata": {},
   "source": [
    "Univariate Analysis"
   ]
  },
  {
   "cell_type": "code",
   "execution_count": 105,
   "metadata": {},
   "outputs": [
    {
     "data": {
      "application/vnd.plotly.v1+json": {
       "config": {
        "plotlyServerURL": "https://plot.ly"
       },
       "data": [
        {
         "bingroup": "x",
         "hovertemplate": "Age=%{x}<br>count=%{y}<extra></extra>",
         "legendgroup": "",
         "marker": {
          "color": "#636efa",
          "pattern": {
           "shape": ""
          }
         },
         "name": "",
         "nbinsx": 30,
         "orientation": "v",
         "showlegend": false,
         "type": "histogram",
         "x": {
          "bdata": "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",
          "dtype": "i1"
         },
         "xaxis": "x",
         "yaxis": "y"
        }
       ],
       "layout": {
        "barmode": "relative",
        "legend": {
         "tracegroupgap": 0
        },
        "template": {
         "data": {
          "bar": [
           {
            "error_x": {
             "color": "#2a3f5f"
            },
            "error_y": {
             "color": "#2a3f5f"
            },
            "marker": {
             "line": {
              "color": "#E5ECF6",
              "width": 0.5
             },
             "pattern": {
              "fillmode": "overlay",
              "size": 10,
              "solidity": 0.2
             }
            },
            "type": "bar"
           }
          ],
          "barpolar": [
           {
            "marker": {
             "line": {
              "color": "#E5ECF6",
              "width": 0.5
             },
             "pattern": {
              "fillmode": "overlay",
              "size": 10,
              "solidity": 0.2
             }
            },
            "type": "barpolar"
           }
          ],
          "carpet": [
           {
            "aaxis": {
             "endlinecolor": "#2a3f5f",
             "gridcolor": "white",
             "linecolor": "white",
             "minorgridcolor": "white",
             "startlinecolor": "#2a3f5f"
            },
            "baxis": {
             "endlinecolor": "#2a3f5f",
             "gridcolor": "white",
             "linecolor": "white",
             "minorgridcolor": "white",
             "startlinecolor": "#2a3f5f"
            },
            "type": "carpet"
           }
          ],
          "choropleth": [
           {
            "colorbar": {
             "outlinewidth": 0,
             "ticks": ""
            },
            "type": "choropleth"
           }
          ],
          "contour": [
           {
            "colorbar": {
             "outlinewidth": 0,
             "ticks": ""
            },
            "colorscale": [
             [
              0,
              "#0d0887"
             ],
             [
              0.1111111111111111,
              "#46039f"
             ],
             [
              0.2222222222222222,
              "#7201a8"
             ],
             [
              0.3333333333333333,
              "#9c179e"
             ],
             [
              0.4444444444444444,
              "#bd3786"
             ],
             [
              0.5555555555555556,
              "#d8576b"
             ],
             [
              0.6666666666666666,
              "#ed7953"
             ],
             [
              0.7777777777777778,
              "#fb9f3a"
             ],
             [
              0.8888888888888888,
              "#fdca26"
             ],
             [
              1,
              "#f0f921"
             ]
            ],
            "type": "contour"
           }
          ],
          "contourcarpet": [
           {
            "colorbar": {
             "outlinewidth": 0,
             "ticks": ""
            },
            "type": "contourcarpet"
           }
          ],
          "heatmap": [
           {
            "colorbar": {
             "outlinewidth": 0,
             "ticks": ""
            },
            "colorscale": [
             [
              0,
              "#0d0887"
             ],
             [
              0.1111111111111111,
              "#46039f"
             ],
             [
              0.2222222222222222,
              "#7201a8"
             ],
             [
              0.3333333333333333,
              "#9c179e"
             ],
             [
              0.4444444444444444,
              "#bd3786"
             ],
             [
              0.5555555555555556,
              "#d8576b"
             ],
             [
              0.6666666666666666,
              "#ed7953"
             ],
             [
              0.7777777777777778,
              "#fb9f3a"
             ],
             [
              0.8888888888888888,
              "#fdca26"
             ],
             [
              1,
              "#f0f921"
             ]
            ],
            "type": "heatmap"
           }
          ],
          "histogram": [
           {
            "marker": {
             "pattern": {
              "fillmode": "overlay",
              "size": 10,
              "solidity": 0.2
             }
            },
            "type": "histogram"
           }
          ],
          "histogram2d": [
           {
            "colorbar": {
             "outlinewidth": 0,
             "ticks": ""
            },
            "colorscale": [
             [
              0,
              "#0d0887"
             ],
             [
              0.1111111111111111,
              "#46039f"
             ],
             [
              0.2222222222222222,
              "#7201a8"
             ],
             [
              0.3333333333333333,
              "#9c179e"
             ],
             [
              0.4444444444444444,
              "#bd3786"
             ],
             [
              0.5555555555555556,
              "#d8576b"
             ],
             [
              0.6666666666666666,
              "#ed7953"
             ],
             [
              0.7777777777777778,
              "#fb9f3a"
             ],
             [
              0.8888888888888888,
              "#fdca26"
             ],
             [
              1,
              "#f0f921"
             ]
            ],
            "type": "histogram2d"
           }
          ],
          "histogram2dcontour": [
           {
            "colorbar": {
             "outlinewidth": 0,
             "ticks": ""
            },
            "colorscale": [
             [
              0,
              "#0d0887"
             ],
             [
              0.1111111111111111,
              "#46039f"
             ],
             [
              0.2222222222222222,
              "#7201a8"
             ],
             [
              0.3333333333333333,
              "#9c179e"
             ],
             [
              0.4444444444444444,
              "#bd3786"
             ],
             [
              0.5555555555555556,
              "#d8576b"
             ],
             [
              0.6666666666666666,
              "#ed7953"
             ],
             [
              0.7777777777777778,
              "#fb9f3a"
             ],
             [
              0.8888888888888888,
              "#fdca26"
             ],
             [
              1,
              "#f0f921"
             ]
            ],
            "type": "histogram2dcontour"
           }
          ],
          "mesh3d": [
           {
            "colorbar": {
             "outlinewidth": 0,
             "ticks": ""
            },
            "type": "mesh3d"
           }
          ],
          "parcoords": [
           {
            "line": {
             "colorbar": {
              "outlinewidth": 0,
              "ticks": ""
             }
            },
            "type": "parcoords"
           }
          ],
          "pie": [
           {
            "automargin": true,
            "type": "pie"
           }
          ],
          "scatter": [
           {
            "fillpattern": {
             "fillmode": "overlay",
             "size": 10,
             "solidity": 0.2
            },
            "type": "scatter"
           }
          ],
          "scatter3d": [
           {
            "line": {
             "colorbar": {
              "outlinewidth": 0,
              "ticks": ""
             }
            },
            "marker": {
             "colorbar": {
              "outlinewidth": 0,
              "ticks": ""
             }
            },
            "type": "scatter3d"
           }
          ],
          "scattercarpet": [
           {
            "marker": {
             "colorbar": {
              "outlinewidth": 0,
              "ticks": ""
             }
            },
            "type": "scattercarpet"
           }
          ],
          "scattergeo": [
           {
            "marker": {
             "colorbar": {
              "outlinewidth": 0,
              "ticks": ""
             }
            },
            "type": "scattergeo"
           }
          ],
          "scattergl": [
           {
            "marker": {
             "colorbar": {
              "outlinewidth": 0,
              "ticks": ""
             }
            },
            "type": "scattergl"
           }
          ],
          "scattermap": [
           {
            "marker": {
             "colorbar": {
              "outlinewidth": 0,
              "ticks": ""
             }
            },
            "type": "scattermap"
           }
          ],
          "scattermapbox": [
           {
            "marker": {
             "colorbar": {
              "outlinewidth": 0,
              "ticks": ""
             }
            },
            "type": "scattermapbox"
           }
          ],
          "scatterpolar": [
           {
            "marker": {
             "colorbar": {
              "outlinewidth": 0,
              "ticks": ""
             }
            },
            "type": "scatterpolar"
           }
          ],
          "scatterpolargl": [
           {
            "marker": {
             "colorbar": {
              "outlinewidth": 0,
              "ticks": ""
             }
            },
            "type": "scatterpolargl"
           }
          ],
          "scatterternary": [
           {
            "marker": {
             "colorbar": {
              "outlinewidth": 0,
              "ticks": ""
             }
            },
            "type": "scatterternary"
           }
          ],
          "surface": [
           {
            "colorbar": {
             "outlinewidth": 0,
             "ticks": ""
            },
            "colorscale": [
             [
              0,
              "#0d0887"
             ],
             [
              0.1111111111111111,
              "#46039f"
             ],
             [
              0.2222222222222222,
              "#7201a8"
             ],
             [
              0.3333333333333333,
              "#9c179e"
             ],
             [
              0.4444444444444444,
              "#bd3786"
             ],
             [
              0.5555555555555556,
              "#d8576b"
             ],
             [
              0.6666666666666666,
              "#ed7953"
             ],
             [
              0.7777777777777778,
              "#fb9f3a"
             ],
             [
              0.8888888888888888,
              "#fdca26"
             ],
             [
              1,
              "#f0f921"
             ]
            ],
            "type": "surface"
           }
          ],
          "table": [
           {
            "cells": {
             "fill": {
              "color": "#EBF0F8"
             },
             "line": {
              "color": "white"
             }
            },
            "header": {
             "fill": {
              "color": "#C8D4E3"
             },
             "line": {
              "color": "white"
             }
            },
            "type": "table"
           }
          ]
         },
         "layout": {
          "annotationdefaults": {
           "arrowcolor": "#2a3f5f",
           "arrowhead": 0,
           "arrowwidth": 1
          },
          "autotypenumbers": "strict",
          "coloraxis": {
           "colorbar": {
            "outlinewidth": 0,
            "ticks": ""
           }
          },
          "colorscale": {
           "diverging": [
            [
             0,
             "#8e0152"
            ],
            [
             0.1,
             "#c51b7d"
            ],
            [
             0.2,
             "#de77ae"
            ],
            [
             0.3,
             "#f1b6da"
            ],
            [
             0.4,
             "#fde0ef"
            ],
            [
             0.5,
             "#f7f7f7"
            ],
            [
             0.6,
             "#e6f5d0"
            ],
            [
             0.7,
             "#b8e186"
            ],
            [
             0.8,
             "#7fbc41"
            ],
            [
             0.9,
             "#4d9221"
            ],
            [
             1,
             "#276419"
            ]
           ],
           "sequential": [
            [
             0,
             "#0d0887"
            ],
            [
             0.1111111111111111,
             "#46039f"
            ],
            [
             0.2222222222222222,
             "#7201a8"
            ],
            [
             0.3333333333333333,
             "#9c179e"
            ],
            [
             0.4444444444444444,
             "#bd3786"
            ],
            [
             0.5555555555555556,
             "#d8576b"
            ],
            [
             0.6666666666666666,
             "#ed7953"
            ],
            [
             0.7777777777777778,
             "#fb9f3a"
            ],
            [
             0.8888888888888888,
             "#fdca26"
            ],
            [
             1,
             "#f0f921"
            ]
           ],
           "sequentialminus": [
            [
             0,
             "#0d0887"
            ],
            [
             0.1111111111111111,
             "#46039f"
            ],
            [
             0.2222222222222222,
             "#7201a8"
            ],
            [
             0.3333333333333333,
             "#9c179e"
            ],
            [
             0.4444444444444444,
             "#bd3786"
            ],
            [
             0.5555555555555556,
             "#d8576b"
            ],
            [
             0.6666666666666666,
             "#ed7953"
            ],
            [
             0.7777777777777778,
             "#fb9f3a"
            ],
            [
             0.8888888888888888,
             "#fdca26"
            ],
            [
             1,
             "#f0f921"
            ]
           ]
          },
          "colorway": [
           "#636efa",
           "#EF553B",
           "#00cc96",
           "#ab63fa",
           "#FFA15A",
           "#19d3f3",
           "#FF6692",
           "#B6E880",
           "#FF97FF",
           "#FECB52"
          ],
          "font": {
           "color": "#2a3f5f"
          },
          "geo": {
           "bgcolor": "white",
           "lakecolor": "white",
           "landcolor": "#E5ECF6",
           "showlakes": true,
           "showland": true,
           "subunitcolor": "white"
          },
          "hoverlabel": {
           "align": "left"
          },
          "hovermode": "closest",
          "mapbox": {
           "style": "light"
          },
          "paper_bgcolor": "white",
          "plot_bgcolor": "#E5ECF6",
          "polar": {
           "angularaxis": {
            "gridcolor": "white",
            "linecolor": "white",
            "ticks": ""
           },
           "bgcolor": "#E5ECF6",
           "radialaxis": {
            "gridcolor": "white",
            "linecolor": "white",
            "ticks": ""
           }
          },
          "scene": {
           "xaxis": {
            "backgroundcolor": "#E5ECF6",
            "gridcolor": "white",
            "gridwidth": 2,
            "linecolor": "white",
            "showbackground": true,
            "ticks": "",
            "zerolinecolor": "white"
           },
           "yaxis": {
            "backgroundcolor": "#E5ECF6",
            "gridcolor": "white",
            "gridwidth": 2,
            "linecolor": "white",
            "showbackground": true,
            "ticks": "",
            "zerolinecolor": "white"
           },
           "zaxis": {
            "backgroundcolor": "#E5ECF6",
            "gridcolor": "white",
            "gridwidth": 2,
            "linecolor": "white",
            "showbackground": true,
            "ticks": "",
            "zerolinecolor": "white"
           }
          },
          "shapedefaults": {
           "line": {
            "color": "#2a3f5f"
           }
          },
          "ternary": {
           "aaxis": {
            "gridcolor": "white",
            "linecolor": "white",
            "ticks": ""
           },
           "baxis": {
            "gridcolor": "white",
            "linecolor": "white",
            "ticks": ""
           },
           "bgcolor": "#E5ECF6",
           "caxis": {
            "gridcolor": "white",
            "linecolor": "white",
            "ticks": ""
           }
          },
          "title": {
           "x": 0.05
          },
          "xaxis": {
           "automargin": true,
           "gridcolor": "white",
           "linecolor": "white",
           "ticks": "",
           "title": {
            "standoff": 15
           },
           "zerolinecolor": "white",
           "zerolinewidth": 2
          },
          "yaxis": {
           "automargin": true,
           "gridcolor": "white",
           "linecolor": "white",
           "ticks": "",
           "title": {
            "standoff": 15
           },
           "zerolinecolor": "white",
           "zerolinewidth": 2
          }
         }
        },
        "title": {
         "text": "Age Distribution"
        },
        "xaxis": {
         "anchor": "y",
         "domain": [
          0,
          1
         ],
         "title": {
          "text": "Age"
         }
        },
        "yaxis": {
         "anchor": "x",
         "domain": [
          0,
          1
         ],
         "title": {
          "text": "count"
         }
        }
       }
      }
     },
     "metadata": {},
     "output_type": "display_data"
    }
   ],
   "source": [
    "# Plot histogram for the 'Age' column\n",
    "fig = px.histogram(data, x='Age', title='Age Distribution', nbins=30)\n",
    "fig.show()"
   ]
  },
  {
   "cell_type": "code",
   "execution_count": 106,
   "metadata": {},
   "outputs": [
    {
     "data": {
      "application/vnd.plotly.v1+json": {
       "config": {
        "plotlyServerURL": "https://plot.ly"
       },
       "data": [
        {
         "bingroup": "x",
         "hovertemplate": "Billing Amount=%{x}<br>count=%{y}<extra></extra>",
         "legendgroup": "",
         "marker": {
          "color": "#636efa",
          "pattern": {
           "shape": ""
          }
         },
         "name": "",
         "nbinsx": 30,
         "orientation": "v",
         "showlegend": false,
         "type": "histogram",
         "x": {
          "bdata": "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",
          "dtype": "f8"
         },
         "xaxis": "x",
         "yaxis": "y"
        }
       ],
       "layout": {
        "barmode": "relative",
        "legend": {
         "tracegroupgap": 0
        },
        "template": {
         "data": {
          "bar": [
           {
            "error_x": {
             "color": "#2a3f5f"
            },
            "error_y": {
             "color": "#2a3f5f"
            },
            "marker": {
             "line": {
              "color": "#E5ECF6",
              "width": 0.5
             },
             "pattern": {
              "fillmode": "overlay",
              "size": 10,
              "solidity": 0.2
             }
            },
            "type": "bar"
           }
          ],
          "barpolar": [
           {
            "marker": {
             "line": {
              "color": "#E5ECF6",
              "width": 0.5
             },
             "pattern": {
              "fillmode": "overlay",
              "size": 10,
              "solidity": 0.2
             }
            },
            "type": "barpolar"
           }
          ],
          "carpet": [
           {
            "aaxis": {
             "endlinecolor": "#2a3f5f",
             "gridcolor": "white",
             "linecolor": "white",
             "minorgridcolor": "white",
             "startlinecolor": "#2a3f5f"
            },
            "baxis": {
             "endlinecolor": "#2a3f5f",
             "gridcolor": "white",
             "linecolor": "white",
             "minorgridcolor": "white",
             "startlinecolor": "#2a3f5f"
            },
            "type": "carpet"
           }
          ],
          "choropleth": [
           {
            "colorbar": {
             "outlinewidth": 0,
             "ticks": ""
            },
            "type": "choropleth"
           }
          ],
          "contour": [
           {
            "colorbar": {
             "outlinewidth": 0,
             "ticks": ""
            },
            "colorscale": [
             [
              0,
              "#0d0887"
             ],
             [
              0.1111111111111111,
              "#46039f"
             ],
             [
              0.2222222222222222,
              "#7201a8"
             ],
             [
              0.3333333333333333,
              "#9c179e"
             ],
             [
              0.4444444444444444,
              "#bd3786"
             ],
             [
              0.5555555555555556,
              "#d8576b"
             ],
             [
              0.6666666666666666,
              "#ed7953"
             ],
             [
              0.7777777777777778,
              "#fb9f3a"
             ],
             [
              0.8888888888888888,
              "#fdca26"
             ],
             [
              1,
              "#f0f921"
             ]
            ],
            "type": "contour"
           }
          ],
          "contourcarpet": [
           {
            "colorbar": {
             "outlinewidth": 0,
             "ticks": ""
            },
            "type": "contourcarpet"
           }
          ],
          "heatmap": [
           {
            "colorbar": {
             "outlinewidth": 0,
             "ticks": ""
            },
            "colorscale": [
             [
              0,
              "#0d0887"
             ],
             [
              0.1111111111111111,
              "#46039f"
             ],
             [
              0.2222222222222222,
              "#7201a8"
             ],
             [
              0.3333333333333333,
              "#9c179e"
             ],
             [
              0.4444444444444444,
              "#bd3786"
             ],
             [
              0.5555555555555556,
              "#d8576b"
             ],
             [
              0.6666666666666666,
              "#ed7953"
             ],
             [
              0.7777777777777778,
              "#fb9f3a"
             ],
             [
              0.8888888888888888,
              "#fdca26"
             ],
             [
              1,
              "#f0f921"
             ]
            ],
            "type": "heatmap"
           }
          ],
          "histogram": [
           {
            "marker": {
             "pattern": {
              "fillmode": "overlay",
              "size": 10,
              "solidity": 0.2
             }
            },
            "type": "histogram"
           }
          ],
          "histogram2d": [
           {
            "colorbar": {
             "outlinewidth": 0,
             "ticks": ""
            },
            "colorscale": [
             [
              0,
              "#0d0887"
             ],
             [
              0.1111111111111111,
              "#46039f"
             ],
             [
              0.2222222222222222,
              "#7201a8"
             ],
             [
              0.3333333333333333,
              "#9c179e"
             ],
             [
              0.4444444444444444,
              "#bd3786"
             ],
             [
              0.5555555555555556,
              "#d8576b"
             ],
             [
              0.6666666666666666,
              "#ed7953"
             ],
             [
              0.7777777777777778,
              "#fb9f3a"
             ],
             [
              0.8888888888888888,
              "#fdca26"
             ],
             [
              1,
              "#f0f921"
             ]
            ],
            "type": "histogram2d"
           }
          ],
          "histogram2dcontour": [
           {
            "colorbar": {
             "outlinewidth": 0,
             "ticks": ""
            },
            "colorscale": [
             [
              0,
              "#0d0887"
             ],
             [
              0.1111111111111111,
              "#46039f"
             ],
             [
              0.2222222222222222,
              "#7201a8"
             ],
             [
              0.3333333333333333,
              "#9c179e"
             ],
             [
              0.4444444444444444,
              "#bd3786"
             ],
             [
              0.5555555555555556,
              "#d8576b"
             ],
             [
              0.6666666666666666,
              "#ed7953"
             ],
             [
              0.7777777777777778,
              "#fb9f3a"
             ],
             [
              0.8888888888888888,
              "#fdca26"
             ],
             [
              1,
              "#f0f921"
             ]
            ],
            "type": "histogram2dcontour"
           }
          ],
          "mesh3d": [
           {
            "colorbar": {
             "outlinewidth": 0,
             "ticks": ""
            },
            "type": "mesh3d"
           }
          ],
          "parcoords": [
           {
            "line": {
             "colorbar": {
              "outlinewidth": 0,
              "ticks": ""
             }
            },
            "type": "parcoords"
           }
          ],
          "pie": [
           {
            "automargin": true,
            "type": "pie"
           }
          ],
          "scatter": [
           {
            "fillpattern": {
             "fillmode": "overlay",
             "size": 10,
             "solidity": 0.2
            },
            "type": "scatter"
           }
          ],
          "scatter3d": [
           {
            "line": {
             "colorbar": {
              "outlinewidth": 0,
              "ticks": ""
             }
            },
            "marker": {
             "colorbar": {
              "outlinewidth": 0,
              "ticks": ""
             }
            },
            "type": "scatter3d"
           }
          ],
          "scattercarpet": [
           {
            "marker": {
             "colorbar": {
              "outlinewidth": 0,
              "ticks": ""
             }
            },
            "type": "scattercarpet"
           }
          ],
          "scattergeo": [
           {
            "marker": {
             "colorbar": {
              "outlinewidth": 0,
              "ticks": ""
             }
            },
            "type": "scattergeo"
           }
          ],
          "scattergl": [
           {
            "marker": {
             "colorbar": {
              "outlinewidth": 0,
              "ticks": ""
             }
            },
            "type": "scattergl"
           }
          ],
          "scattermap": [
           {
            "marker": {
             "colorbar": {
              "outlinewidth": 0,
              "ticks": ""
             }
            },
            "type": "scattermap"
           }
          ],
          "scattermapbox": [
           {
            "marker": {
             "colorbar": {
              "outlinewidth": 0,
              "ticks": ""
             }
            },
            "type": "scattermapbox"
           }
          ],
          "scatterpolar": [
           {
            "marker": {
             "colorbar": {
              "outlinewidth": 0,
              "ticks": ""
             }
            },
            "type": "scatterpolar"
           }
          ],
          "scatterpolargl": [
           {
            "marker": {
             "colorbar": {
              "outlinewidth": 0,
              "ticks": ""
             }
            },
            "type": "scatterpolargl"
           }
          ],
          "scatterternary": [
           {
            "marker": {
             "colorbar": {
              "outlinewidth": 0,
              "ticks": ""
             }
            },
            "type": "scatterternary"
           }
          ],
          "surface": [
           {
            "colorbar": {
             "outlinewidth": 0,
             "ticks": ""
            },
            "colorscale": [
             [
              0,
              "#0d0887"
             ],
             [
              0.1111111111111111,
              "#46039f"
             ],
             [
              0.2222222222222222,
              "#7201a8"
             ],
             [
              0.3333333333333333,
              "#9c179e"
             ],
             [
              0.4444444444444444,
              "#bd3786"
             ],
             [
              0.5555555555555556,
              "#d8576b"
             ],
             [
              0.6666666666666666,
              "#ed7953"
             ],
             [
              0.7777777777777778,
              "#fb9f3a"
             ],
             [
              0.8888888888888888,
              "#fdca26"
             ],
             [
              1,
              "#f0f921"
             ]
            ],
            "type": "surface"
           }
          ],
          "table": [
           {
            "cells": {
             "fill": {
              "color": "#EBF0F8"
             },
             "line": {
              "color": "white"
             }
            },
            "header": {
             "fill": {
              "color": "#C8D4E3"
             },
             "line": {
              "color": "white"
             }
            },
            "type": "table"
           }
          ]
         },
         "layout": {
          "annotationdefaults": {
           "arrowcolor": "#2a3f5f",
           "arrowhead": 0,
           "arrowwidth": 1
          },
          "autotypenumbers": "strict",
          "coloraxis": {
           "colorbar": {
            "outlinewidth": 0,
            "ticks": ""
           }
          },
          "colorscale": {
           "diverging": [
            [
             0,
             "#8e0152"
            ],
            [
             0.1,
             "#c51b7d"
            ],
            [
             0.2,
             "#de77ae"
            ],
            [
             0.3,
             "#f1b6da"
            ],
            [
             0.4,
             "#fde0ef"
            ],
            [
             0.5,
             "#f7f7f7"
            ],
            [
             0.6,
             "#e6f5d0"
            ],
            [
             0.7,
             "#b8e186"
            ],
            [
             0.8,
             "#7fbc41"
            ],
            [
             0.9,
             "#4d9221"
            ],
            [
             1,
             "#276419"
            ]
           ],
           "sequential": [
            [
             0,
             "#0d0887"
            ],
            [
             0.1111111111111111,
             "#46039f"
            ],
            [
             0.2222222222222222,
             "#7201a8"
            ],
            [
             0.3333333333333333,
             "#9c179e"
            ],
            [
             0.4444444444444444,
             "#bd3786"
            ],
            [
             0.5555555555555556,
             "#d8576b"
            ],
            [
             0.6666666666666666,
             "#ed7953"
            ],
            [
             0.7777777777777778,
             "#fb9f3a"
            ],
            [
             0.8888888888888888,
             "#fdca26"
            ],
            [
             1,
             "#f0f921"
            ]
           ],
           "sequentialminus": [
            [
             0,
             "#0d0887"
            ],
            [
             0.1111111111111111,
             "#46039f"
            ],
            [
             0.2222222222222222,
             "#7201a8"
            ],
            [
             0.3333333333333333,
             "#9c179e"
            ],
            [
             0.4444444444444444,
             "#bd3786"
            ],
            [
             0.5555555555555556,
             "#d8576b"
            ],
            [
             0.6666666666666666,
             "#ed7953"
            ],
            [
             0.7777777777777778,
             "#fb9f3a"
            ],
            [
             0.8888888888888888,
             "#fdca26"
            ],
            [
             1,
             "#f0f921"
            ]
           ]
          },
          "colorway": [
           "#636efa",
           "#EF553B",
           "#00cc96",
           "#ab63fa",
           "#FFA15A",
           "#19d3f3",
           "#FF6692",
           "#B6E880",
           "#FF97FF",
           "#FECB52"
          ],
          "font": {
           "color": "#2a3f5f"
          },
          "geo": {
           "bgcolor": "white",
           "lakecolor": "white",
           "landcolor": "#E5ECF6",
           "showlakes": true,
           "showland": true,
           "subunitcolor": "white"
          },
          "hoverlabel": {
           "align": "left"
          },
          "hovermode": "closest",
          "mapbox": {
           "style": "light"
          },
          "paper_bgcolor": "white",
          "plot_bgcolor": "#E5ECF6",
          "polar": {
           "angularaxis": {
            "gridcolor": "white",
            "linecolor": "white",
            "ticks": ""
           },
           "bgcolor": "#E5ECF6",
           "radialaxis": {
            "gridcolor": "white",
            "linecolor": "white",
            "ticks": ""
           }
          },
          "scene": {
           "xaxis": {
            "backgroundcolor": "#E5ECF6",
            "gridcolor": "white",
            "gridwidth": 2,
            "linecolor": "white",
            "showbackground": true,
            "ticks": "",
            "zerolinecolor": "white"
           },
           "yaxis": {
            "backgroundcolor": "#E5ECF6",
            "gridcolor": "white",
            "gridwidth": 2,
            "linecolor": "white",
            "showbackground": true,
            "ticks": "",
            "zerolinecolor": "white"
           },
           "zaxis": {
            "backgroundcolor": "#E5ECF6",
            "gridcolor": "white",
            "gridwidth": 2,
            "linecolor": "white",
            "showbackground": true,
            "ticks": "",
            "zerolinecolor": "white"
           }
          },
          "shapedefaults": {
           "line": {
            "color": "#2a3f5f"
           }
          },
          "ternary": {
           "aaxis": {
            "gridcolor": "white",
            "linecolor": "white",
            "ticks": ""
           },
           "baxis": {
            "gridcolor": "white",
            "linecolor": "white",
            "ticks": ""
           },
           "bgcolor": "#E5ECF6",
           "caxis": {
            "gridcolor": "white",
            "linecolor": "white",
            "ticks": ""
           }
          },
          "title": {
           "x": 0.05
          },
          "xaxis": {
           "automargin": true,
           "gridcolor": "white",
           "linecolor": "white",
           "ticks": "",
           "title": {
            "standoff": 15
           },
           "zerolinecolor": "white",
           "zerolinewidth": 2
          },
          "yaxis": {
           "automargin": true,
           "gridcolor": "white",
           "linecolor": "white",
           "ticks": "",
           "title": {
            "standoff": 15
           },
           "zerolinecolor": "white",
           "zerolinewidth": 2
          }
         }
        },
        "title": {
         "text": "Billing Amount Distribution"
        },
        "xaxis": {
         "anchor": "y",
         "domain": [
          0,
          1
         ],
         "title": {
          "text": "Billing Amount"
         }
        },
        "yaxis": {
         "anchor": "x",
         "domain": [
          0,
          1
         ],
         "title": {
          "text": "count"
         }
        }
       }
      }
     },
     "metadata": {},
     "output_type": "display_data"
    }
   ],
   "source": [
    "# Plot histogram for the 'Billing Amount' column\n",
    "fig = px.histogram(data, x='Billing Amount', title='Billing Amount Distribution', nbins=30)\n",
    "fig.show()"
   ]
  },
  {
   "cell_type": "code",
   "execution_count": 107,
   "metadata": {},
   "outputs": [
    {
     "data": {
      "application/vnd.plotly.v1+json": {
       "config": {
        "plotlyServerURL": "https://plot.ly"
       },
       "data": [
        {
         "marker": {
          "color": "rgb(102, 197, 204)"
         },
         "name": "Female",
         "type": "bar",
         "x": [
          "Gender"
         ],
         "y": [
          5075
         ]
        },
        {
         "marker": {
          "color": "rgb(246, 207, 113)"
         },
         "name": "Male",
         "type": "bar",
         "x": [
          "Gender"
         ],
         "y": [
          4925
         ]
        }
       ],
       "layout": {
        "template": {
         "data": {
          "bar": [
           {
            "error_x": {
             "color": "#2a3f5f"
            },
            "error_y": {
             "color": "#2a3f5f"
            },
            "marker": {
             "line": {
              "color": "#E5ECF6",
              "width": 0.5
             },
             "pattern": {
              "fillmode": "overlay",
              "size": 10,
              "solidity": 0.2
             }
            },
            "type": "bar"
           }
          ],
          "barpolar": [
           {
            "marker": {
             "line": {
              "color": "#E5ECF6",
              "width": 0.5
             },
             "pattern": {
              "fillmode": "overlay",
              "size": 10,
              "solidity": 0.2
             }
            },
            "type": "barpolar"
           }
          ],
          "carpet": [
           {
            "aaxis": {
             "endlinecolor": "#2a3f5f",
             "gridcolor": "white",
             "linecolor": "white",
             "minorgridcolor": "white",
             "startlinecolor": "#2a3f5f"
            },
            "baxis": {
             "endlinecolor": "#2a3f5f",
             "gridcolor": "white",
             "linecolor": "white",
             "minorgridcolor": "white",
             "startlinecolor": "#2a3f5f"
            },
            "type": "carpet"
           }
          ],
          "choropleth": [
           {
            "colorbar": {
             "outlinewidth": 0,
             "ticks": ""
            },
            "type": "choropleth"
           }
          ],
          "contour": [
           {
            "colorbar": {
             "outlinewidth": 0,
             "ticks": ""
            },
            "colorscale": [
             [
              0,
              "#0d0887"
             ],
             [
              0.1111111111111111,
              "#46039f"
             ],
             [
              0.2222222222222222,
              "#7201a8"
             ],
             [
              0.3333333333333333,
              "#9c179e"
             ],
             [
              0.4444444444444444,
              "#bd3786"
             ],
             [
              0.5555555555555556,
              "#d8576b"
             ],
             [
              0.6666666666666666,
              "#ed7953"
             ],
             [
              0.7777777777777778,
              "#fb9f3a"
             ],
             [
              0.8888888888888888,
              "#fdca26"
             ],
             [
              1,
              "#f0f921"
             ]
            ],
            "type": "contour"
           }
          ],
          "contourcarpet": [
           {
            "colorbar": {
             "outlinewidth": 0,
             "ticks": ""
            },
            "type": "contourcarpet"
           }
          ],
          "heatmap": [
           {
            "colorbar": {
             "outlinewidth": 0,
             "ticks": ""
            },
            "colorscale": [
             [
              0,
              "#0d0887"
             ],
             [
              0.1111111111111111,
              "#46039f"
             ],
             [
              0.2222222222222222,
              "#7201a8"
             ],
             [
              0.3333333333333333,
              "#9c179e"
             ],
             [
              0.4444444444444444,
              "#bd3786"
             ],
             [
              0.5555555555555556,
              "#d8576b"
             ],
             [
              0.6666666666666666,
              "#ed7953"
             ],
             [
              0.7777777777777778,
              "#fb9f3a"
             ],
             [
              0.8888888888888888,
              "#fdca26"
             ],
             [
              1,
              "#f0f921"
             ]
            ],
            "type": "heatmap"
           }
          ],
          "histogram": [
           {
            "marker": {
             "pattern": {
              "fillmode": "overlay",
              "size": 10,
              "solidity": 0.2
             }
            },
            "type": "histogram"
           }
          ],
          "histogram2d": [
           {
            "colorbar": {
             "outlinewidth": 0,
             "ticks": ""
            },
            "colorscale": [
             [
              0,
              "#0d0887"
             ],
             [
              0.1111111111111111,
              "#46039f"
             ],
             [
              0.2222222222222222,
              "#7201a8"
             ],
             [
              0.3333333333333333,
              "#9c179e"
             ],
             [
              0.4444444444444444,
              "#bd3786"
             ],
             [
              0.5555555555555556,
              "#d8576b"
             ],
             [
              0.6666666666666666,
              "#ed7953"
             ],
             [
              0.7777777777777778,
              "#fb9f3a"
             ],
             [
              0.8888888888888888,
              "#fdca26"
             ],
             [
              1,
              "#f0f921"
             ]
            ],
            "type": "histogram2d"
           }
          ],
          "histogram2dcontour": [
           {
            "colorbar": {
             "outlinewidth": 0,
             "ticks": ""
            },
            "colorscale": [
             [
              0,
              "#0d0887"
             ],
             [
              0.1111111111111111,
              "#46039f"
             ],
             [
              0.2222222222222222,
              "#7201a8"
             ],
             [
              0.3333333333333333,
              "#9c179e"
             ],
             [
              0.4444444444444444,
              "#bd3786"
             ],
             [
              0.5555555555555556,
              "#d8576b"
             ],
             [
              0.6666666666666666,
              "#ed7953"
             ],
             [
              0.7777777777777778,
              "#fb9f3a"
             ],
             [
              0.8888888888888888,
              "#fdca26"
             ],
             [
              1,
              "#f0f921"
             ]
            ],
            "type": "histogram2dcontour"
           }
          ],
          "mesh3d": [
           {
            "colorbar": {
             "outlinewidth": 0,
             "ticks": ""
            },
            "type": "mesh3d"
           }
          ],
          "parcoords": [
           {
            "line": {
             "colorbar": {
              "outlinewidth": 0,
              "ticks": ""
             }
            },
            "type": "parcoords"
           }
          ],
          "pie": [
           {
            "automargin": true,
            "type": "pie"
           }
          ],
          "scatter": [
           {
            "fillpattern": {
             "fillmode": "overlay",
             "size": 10,
             "solidity": 0.2
            },
            "type": "scatter"
           }
          ],
          "scatter3d": [
           {
            "line": {
             "colorbar": {
              "outlinewidth": 0,
              "ticks": ""
             }
            },
            "marker": {
             "colorbar": {
              "outlinewidth": 0,
              "ticks": ""
             }
            },
            "type": "scatter3d"
           }
          ],
          "scattercarpet": [
           {
            "marker": {
             "colorbar": {
              "outlinewidth": 0,
              "ticks": ""
             }
            },
            "type": "scattercarpet"
           }
          ],
          "scattergeo": [
           {
            "marker": {
             "colorbar": {
              "outlinewidth": 0,
              "ticks": ""
             }
            },
            "type": "scattergeo"
           }
          ],
          "scattergl": [
           {
            "marker": {
             "colorbar": {
              "outlinewidth": 0,
              "ticks": ""
             }
            },
            "type": "scattergl"
           }
          ],
          "scattermap": [
           {
            "marker": {
             "colorbar": {
              "outlinewidth": 0,
              "ticks": ""
             }
            },
            "type": "scattermap"
           }
          ],
          "scattermapbox": [
           {
            "marker": {
             "colorbar": {
              "outlinewidth": 0,
              "ticks": ""
             }
            },
            "type": "scattermapbox"
           }
          ],
          "scatterpolar": [
           {
            "marker": {
             "colorbar": {
              "outlinewidth": 0,
              "ticks": ""
             }
            },
            "type": "scatterpolar"
           }
          ],
          "scatterpolargl": [
           {
            "marker": {
             "colorbar": {
              "outlinewidth": 0,
              "ticks": ""
             }
            },
            "type": "scatterpolargl"
           }
          ],
          "scatterternary": [
           {
            "marker": {
             "colorbar": {
              "outlinewidth": 0,
              "ticks": ""
             }
            },
            "type": "scatterternary"
           }
          ],
          "surface": [
           {
            "colorbar": {
             "outlinewidth": 0,
             "ticks": ""
            },
            "colorscale": [
             [
              0,
              "#0d0887"
             ],
             [
              0.1111111111111111,
              "#46039f"
             ],
             [
              0.2222222222222222,
              "#7201a8"
             ],
             [
              0.3333333333333333,
              "#9c179e"
             ],
             [
              0.4444444444444444,
              "#bd3786"
             ],
             [
              0.5555555555555556,
              "#d8576b"
             ],
             [
              0.6666666666666666,
              "#ed7953"
             ],
             [
              0.7777777777777778,
              "#fb9f3a"
             ],
             [
              0.8888888888888888,
              "#fdca26"
             ],
             [
              1,
              "#f0f921"
             ]
            ],
            "type": "surface"
           }
          ],
          "table": [
           {
            "cells": {
             "fill": {
              "color": "#EBF0F8"
             },
             "line": {
              "color": "white"
             }
            },
            "header": {
             "fill": {
              "color": "#C8D4E3"
             },
             "line": {
              "color": "white"
             }
            },
            "type": "table"
           }
          ]
         },
         "layout": {
          "annotationdefaults": {
           "arrowcolor": "#2a3f5f",
           "arrowhead": 0,
           "arrowwidth": 1
          },
          "autotypenumbers": "strict",
          "coloraxis": {
           "colorbar": {
            "outlinewidth": 0,
            "ticks": ""
           }
          },
          "colorscale": {
           "diverging": [
            [
             0,
             "#8e0152"
            ],
            [
             0.1,
             "#c51b7d"
            ],
            [
             0.2,
             "#de77ae"
            ],
            [
             0.3,
             "#f1b6da"
            ],
            [
             0.4,
             "#fde0ef"
            ],
            [
             0.5,
             "#f7f7f7"
            ],
            [
             0.6,
             "#e6f5d0"
            ],
            [
             0.7,
             "#b8e186"
            ],
            [
             0.8,
             "#7fbc41"
            ],
            [
             0.9,
             "#4d9221"
            ],
            [
             1,
             "#276419"
            ]
           ],
           "sequential": [
            [
             0,
             "#0d0887"
            ],
            [
             0.1111111111111111,
             "#46039f"
            ],
            [
             0.2222222222222222,
             "#7201a8"
            ],
            [
             0.3333333333333333,
             "#9c179e"
            ],
            [
             0.4444444444444444,
             "#bd3786"
            ],
            [
             0.5555555555555556,
             "#d8576b"
            ],
            [
             0.6666666666666666,
             "#ed7953"
            ],
            [
             0.7777777777777778,
             "#fb9f3a"
            ],
            [
             0.8888888888888888,
             "#fdca26"
            ],
            [
             1,
             "#f0f921"
            ]
           ],
           "sequentialminus": [
            [
             0,
             "#0d0887"
            ],
            [
             0.1111111111111111,
             "#46039f"
            ],
            [
             0.2222222222222222,
             "#7201a8"
            ],
            [
             0.3333333333333333,
             "#9c179e"
            ],
            [
             0.4444444444444444,
             "#bd3786"
            ],
            [
             0.5555555555555556,
             "#d8576b"
            ],
            [
             0.6666666666666666,
             "#ed7953"
            ],
            [
             0.7777777777777778,
             "#fb9f3a"
            ],
            [
             0.8888888888888888,
             "#fdca26"
            ],
            [
             1,
             "#f0f921"
            ]
           ]
          },
          "colorway": [
           "#636efa",
           "#EF553B",
           "#00cc96",
           "#ab63fa",
           "#FFA15A",
           "#19d3f3",
           "#FF6692",
           "#B6E880",
           "#FF97FF",
           "#FECB52"
          ],
          "font": {
           "color": "#2a3f5f"
          },
          "geo": {
           "bgcolor": "white",
           "lakecolor": "white",
           "landcolor": "#E5ECF6",
           "showlakes": true,
           "showland": true,
           "subunitcolor": "white"
          },
          "hoverlabel": {
           "align": "left"
          },
          "hovermode": "closest",
          "mapbox": {
           "style": "light"
          },
          "paper_bgcolor": "white",
          "plot_bgcolor": "#E5ECF6",
          "polar": {
           "angularaxis": {
            "gridcolor": "white",
            "linecolor": "white",
            "ticks": ""
           },
           "bgcolor": "#E5ECF6",
           "radialaxis": {
            "gridcolor": "white",
            "linecolor": "white",
            "ticks": ""
           }
          },
          "scene": {
           "xaxis": {
            "backgroundcolor": "#E5ECF6",
            "gridcolor": "white",
            "gridwidth": 2,
            "linecolor": "white",
            "showbackground": true,
            "ticks": "",
            "zerolinecolor": "white"
           },
           "yaxis": {
            "backgroundcolor": "#E5ECF6",
            "gridcolor": "white",
            "gridwidth": 2,
            "linecolor": "white",
            "showbackground": true,
            "ticks": "",
            "zerolinecolor": "white"
           },
           "zaxis": {
            "backgroundcolor": "#E5ECF6",
            "gridcolor": "white",
            "gridwidth": 2,
            "linecolor": "white",
            "showbackground": true,
            "ticks": "",
            "zerolinecolor": "white"
           }
          },
          "shapedefaults": {
           "line": {
            "color": "#2a3f5f"
           }
          },
          "ternary": {
           "aaxis": {
            "gridcolor": "white",
            "linecolor": "white",
            "ticks": ""
           },
           "baxis": {
            "gridcolor": "white",
            "linecolor": "white",
            "ticks": ""
           },
           "bgcolor": "#E5ECF6",
           "caxis": {
            "gridcolor": "white",
            "linecolor": "white",
            "ticks": ""
           }
          },
          "title": {
           "x": 0.05
          },
          "xaxis": {
           "automargin": true,
           "gridcolor": "white",
           "linecolor": "white",
           "ticks": "",
           "title": {
            "standoff": 15
           },
           "zerolinecolor": "white",
           "zerolinewidth": 2
          },
          "yaxis": {
           "automargin": true,
           "gridcolor": "white",
           "linecolor": "white",
           "ticks": "",
           "title": {
            "standoff": 15
           },
           "zerolinecolor": "white",
           "zerolinewidth": 2
          }
         }
        },
        "title": {
         "text": "Distribution of Gender"
        },
        "xaxis": {
         "title": {
          "text": "Gender"
         }
        },
        "yaxis": {
         "title": {
          "text": "Count"
         }
        }
       }
      }
     },
     "metadata": {},
     "output_type": "display_data"
    },
    {
     "data": {
      "application/vnd.plotly.v1+json": {
       "config": {
        "plotlyServerURL": "https://plot.ly"
       },
       "data": [
        {
         "marker": {
          "color": "rgb(102, 197, 204)"
         },
         "name": "AB-",
         "type": "bar",
         "x": [
          "Blood Type"
         ],
         "y": [
          1275
         ]
        },
        {
         "marker": {
          "color": "rgb(246, 207, 113)"
         },
         "name": "AB+",
         "type": "bar",
         "x": [
          "Blood Type"
         ],
         "y": [
          1258
         ]
        },
        {
         "marker": {
          "color": "rgb(248, 156, 116)"
         },
         "name": "B-",
         "type": "bar",
         "x": [
          "Blood Type"
         ],
         "y": [
          1252
         ]
        },
        {
         "marker": {
          "color": "rgb(220, 176, 242)"
         },
         "name": "O+",
         "type": "bar",
         "x": [
          "Blood Type"
         ],
         "y": [
          1248
         ]
        },
        {
         "marker": {
          "color": "rgb(135, 197, 95)"
         },
         "name": "O-",
         "type": "bar",
         "x": [
          "Blood Type"
         ],
         "y": [
          1244
         ]
        },
        {
         "marker": {
          "color": "rgb(158, 185, 243)"
         },
         "name": "B+",
         "type": "bar",
         "x": [
          "Blood Type"
         ],
         "y": [
          1244
         ]
        },
        {
         "marker": {
          "color": "rgb(254, 136, 177)"
         },
         "name": "A+",
         "type": "bar",
         "x": [
          "Blood Type"
         ],
         "y": [
          1241
         ]
        },
        {
         "marker": {
          "color": "rgb(201, 219, 116)"
         },
         "name": "A-",
         "type": "bar",
         "x": [
          "Blood Type"
         ],
         "y": [
          1238
         ]
        }
       ],
       "layout": {
        "template": {
         "data": {
          "bar": [
           {
            "error_x": {
             "color": "#2a3f5f"
            },
            "error_y": {
             "color": "#2a3f5f"
            },
            "marker": {
             "line": {
              "color": "#E5ECF6",
              "width": 0.5
             },
             "pattern": {
              "fillmode": "overlay",
              "size": 10,
              "solidity": 0.2
             }
            },
            "type": "bar"
           }
          ],
          "barpolar": [
           {
            "marker": {
             "line": {
              "color": "#E5ECF6",
              "width": 0.5
             },
             "pattern": {
              "fillmode": "overlay",
              "size": 10,
              "solidity": 0.2
             }
            },
            "type": "barpolar"
           }
          ],
          "carpet": [
           {
            "aaxis": {
             "endlinecolor": "#2a3f5f",
             "gridcolor": "white",
             "linecolor": "white",
             "minorgridcolor": "white",
             "startlinecolor": "#2a3f5f"
            },
            "baxis": {
             "endlinecolor": "#2a3f5f",
             "gridcolor": "white",
             "linecolor": "white",
             "minorgridcolor": "white",
             "startlinecolor": "#2a3f5f"
            },
            "type": "carpet"
           }
          ],
          "choropleth": [
           {
            "colorbar": {
             "outlinewidth": 0,
             "ticks": ""
            },
            "type": "choropleth"
           }
          ],
          "contour": [
           {
            "colorbar": {
             "outlinewidth": 0,
             "ticks": ""
            },
            "colorscale": [
             [
              0,
              "#0d0887"
             ],
             [
              0.1111111111111111,
              "#46039f"
             ],
             [
              0.2222222222222222,
              "#7201a8"
             ],
             [
              0.3333333333333333,
              "#9c179e"
             ],
             [
              0.4444444444444444,
              "#bd3786"
             ],
             [
              0.5555555555555556,
              "#d8576b"
             ],
             [
              0.6666666666666666,
              "#ed7953"
             ],
             [
              0.7777777777777778,
              "#fb9f3a"
             ],
             [
              0.8888888888888888,
              "#fdca26"
             ],
             [
              1,
              "#f0f921"
             ]
            ],
            "type": "contour"
           }
          ],
          "contourcarpet": [
           {
            "colorbar": {
             "outlinewidth": 0,
             "ticks": ""
            },
            "type": "contourcarpet"
           }
          ],
          "heatmap": [
           {
            "colorbar": {
             "outlinewidth": 0,
             "ticks": ""
            },
            "colorscale": [
             [
              0,
              "#0d0887"
             ],
             [
              0.1111111111111111,
              "#46039f"
             ],
             [
              0.2222222222222222,
              "#7201a8"
             ],
             [
              0.3333333333333333,
              "#9c179e"
             ],
             [
              0.4444444444444444,
              "#bd3786"
             ],
             [
              0.5555555555555556,
              "#d8576b"
             ],
             [
              0.6666666666666666,
              "#ed7953"
             ],
             [
              0.7777777777777778,
              "#fb9f3a"
             ],
             [
              0.8888888888888888,
              "#fdca26"
             ],
             [
              1,
              "#f0f921"
             ]
            ],
            "type": "heatmap"
           }
          ],
          "histogram": [
           {
            "marker": {
             "pattern": {
              "fillmode": "overlay",
              "size": 10,
              "solidity": 0.2
             }
            },
            "type": "histogram"
           }
          ],
          "histogram2d": [
           {
            "colorbar": {
             "outlinewidth": 0,
             "ticks": ""
            },
            "colorscale": [
             [
              0,
              "#0d0887"
             ],
             [
              0.1111111111111111,
              "#46039f"
             ],
             [
              0.2222222222222222,
              "#7201a8"
             ],
             [
              0.3333333333333333,
              "#9c179e"
             ],
             [
              0.4444444444444444,
              "#bd3786"
             ],
             [
              0.5555555555555556,
              "#d8576b"
             ],
             [
              0.6666666666666666,
              "#ed7953"
             ],
             [
              0.7777777777777778,
              "#fb9f3a"
             ],
             [
              0.8888888888888888,
              "#fdca26"
             ],
             [
              1,
              "#f0f921"
             ]
            ],
            "type": "histogram2d"
           }
          ],
          "histogram2dcontour": [
           {
            "colorbar": {
             "outlinewidth": 0,
             "ticks": ""
            },
            "colorscale": [
             [
              0,
              "#0d0887"
             ],
             [
              0.1111111111111111,
              "#46039f"
             ],
             [
              0.2222222222222222,
              "#7201a8"
             ],
             [
              0.3333333333333333,
              "#9c179e"
             ],
             [
              0.4444444444444444,
              "#bd3786"
             ],
             [
              0.5555555555555556,
              "#d8576b"
             ],
             [
              0.6666666666666666,
              "#ed7953"
             ],
             [
              0.7777777777777778,
              "#fb9f3a"
             ],
             [
              0.8888888888888888,
              "#fdca26"
             ],
             [
              1,
              "#f0f921"
             ]
            ],
            "type": "histogram2dcontour"
           }
          ],
          "mesh3d": [
           {
            "colorbar": {
             "outlinewidth": 0,
             "ticks": ""
            },
            "type": "mesh3d"
           }
          ],
          "parcoords": [
           {
            "line": {
             "colorbar": {
              "outlinewidth": 0,
              "ticks": ""
             }
            },
            "type": "parcoords"
           }
          ],
          "pie": [
           {
            "automargin": true,
            "type": "pie"
           }
          ],
          "scatter": [
           {
            "fillpattern": {
             "fillmode": "overlay",
             "size": 10,
             "solidity": 0.2
            },
            "type": "scatter"
           }
          ],
          "scatter3d": [
           {
            "line": {
             "colorbar": {
              "outlinewidth": 0,
              "ticks": ""
             }
            },
            "marker": {
             "colorbar": {
              "outlinewidth": 0,
              "ticks": ""
             }
            },
            "type": "scatter3d"
           }
          ],
          "scattercarpet": [
           {
            "marker": {
             "colorbar": {
              "outlinewidth": 0,
              "ticks": ""
             }
            },
            "type": "scattercarpet"
           }
          ],
          "scattergeo": [
           {
            "marker": {
             "colorbar": {
              "outlinewidth": 0,
              "ticks": ""
             }
            },
            "type": "scattergeo"
           }
          ],
          "scattergl": [
           {
            "marker": {
             "colorbar": {
              "outlinewidth": 0,
              "ticks": ""
             }
            },
            "type": "scattergl"
           }
          ],
          "scattermap": [
           {
            "marker": {
             "colorbar": {
              "outlinewidth": 0,
              "ticks": ""
             }
            },
            "type": "scattermap"
           }
          ],
          "scattermapbox": [
           {
            "marker": {
             "colorbar": {
              "outlinewidth": 0,
              "ticks": ""
             }
            },
            "type": "scattermapbox"
           }
          ],
          "scatterpolar": [
           {
            "marker": {
             "colorbar": {
              "outlinewidth": 0,
              "ticks": ""
             }
            },
            "type": "scatterpolar"
           }
          ],
          "scatterpolargl": [
           {
            "marker": {
             "colorbar": {
              "outlinewidth": 0,
              "ticks": ""
             }
            },
            "type": "scatterpolargl"
           }
          ],
          "scatterternary": [
           {
            "marker": {
             "colorbar": {
              "outlinewidth": 0,
              "ticks": ""
             }
            },
            "type": "scatterternary"
           }
          ],
          "surface": [
           {
            "colorbar": {
             "outlinewidth": 0,
             "ticks": ""
            },
            "colorscale": [
             [
              0,
              "#0d0887"
             ],
             [
              0.1111111111111111,
              "#46039f"
             ],
             [
              0.2222222222222222,
              "#7201a8"
             ],
             [
              0.3333333333333333,
              "#9c179e"
             ],
             [
              0.4444444444444444,
              "#bd3786"
             ],
             [
              0.5555555555555556,
              "#d8576b"
             ],
             [
              0.6666666666666666,
              "#ed7953"
             ],
             [
              0.7777777777777778,
              "#fb9f3a"
             ],
             [
              0.8888888888888888,
              "#fdca26"
             ],
             [
              1,
              "#f0f921"
             ]
            ],
            "type": "surface"
           }
          ],
          "table": [
           {
            "cells": {
             "fill": {
              "color": "#EBF0F8"
             },
             "line": {
              "color": "white"
             }
            },
            "header": {
             "fill": {
              "color": "#C8D4E3"
             },
             "line": {
              "color": "white"
             }
            },
            "type": "table"
           }
          ]
         },
         "layout": {
          "annotationdefaults": {
           "arrowcolor": "#2a3f5f",
           "arrowhead": 0,
           "arrowwidth": 1
          },
          "autotypenumbers": "strict",
          "coloraxis": {
           "colorbar": {
            "outlinewidth": 0,
            "ticks": ""
           }
          },
          "colorscale": {
           "diverging": [
            [
             0,
             "#8e0152"
            ],
            [
             0.1,
             "#c51b7d"
            ],
            [
             0.2,
             "#de77ae"
            ],
            [
             0.3,
             "#f1b6da"
            ],
            [
             0.4,
             "#fde0ef"
            ],
            [
             0.5,
             "#f7f7f7"
            ],
            [
             0.6,
             "#e6f5d0"
            ],
            [
             0.7,
             "#b8e186"
            ],
            [
             0.8,
             "#7fbc41"
            ],
            [
             0.9,
             "#4d9221"
            ],
            [
             1,
             "#276419"
            ]
           ],
           "sequential": [
            [
             0,
             "#0d0887"
            ],
            [
             0.1111111111111111,
             "#46039f"
            ],
            [
             0.2222222222222222,
             "#7201a8"
            ],
            [
             0.3333333333333333,
             "#9c179e"
            ],
            [
             0.4444444444444444,
             "#bd3786"
            ],
            [
             0.5555555555555556,
             "#d8576b"
            ],
            [
             0.6666666666666666,
             "#ed7953"
            ],
            [
             0.7777777777777778,
             "#fb9f3a"
            ],
            [
             0.8888888888888888,
             "#fdca26"
            ],
            [
             1,
             "#f0f921"
            ]
           ],
           "sequentialminus": [
            [
             0,
             "#0d0887"
            ],
            [
             0.1111111111111111,
             "#46039f"
            ],
            [
             0.2222222222222222,
             "#7201a8"
            ],
            [
             0.3333333333333333,
             "#9c179e"
            ],
            [
             0.4444444444444444,
             "#bd3786"
            ],
            [
             0.5555555555555556,
             "#d8576b"
            ],
            [
             0.6666666666666666,
             "#ed7953"
            ],
            [
             0.7777777777777778,
             "#fb9f3a"
            ],
            [
             0.8888888888888888,
             "#fdca26"
            ],
            [
             1,
             "#f0f921"
            ]
           ]
          },
          "colorway": [
           "#636efa",
           "#EF553B",
           "#00cc96",
           "#ab63fa",
           "#FFA15A",
           "#19d3f3",
           "#FF6692",
           "#B6E880",
           "#FF97FF",
           "#FECB52"
          ],
          "font": {
           "color": "#2a3f5f"
          },
          "geo": {
           "bgcolor": "white",
           "lakecolor": "white",
           "landcolor": "#E5ECF6",
           "showlakes": true,
           "showland": true,
           "subunitcolor": "white"
          },
          "hoverlabel": {
           "align": "left"
          },
          "hovermode": "closest",
          "mapbox": {
           "style": "light"
          },
          "paper_bgcolor": "white",
          "plot_bgcolor": "#E5ECF6",
          "polar": {
           "angularaxis": {
            "gridcolor": "white",
            "linecolor": "white",
            "ticks": ""
           },
           "bgcolor": "#E5ECF6",
           "radialaxis": {
            "gridcolor": "white",
            "linecolor": "white",
            "ticks": ""
           }
          },
          "scene": {
           "xaxis": {
            "backgroundcolor": "#E5ECF6",
            "gridcolor": "white",
            "gridwidth": 2,
            "linecolor": "white",
            "showbackground": true,
            "ticks": "",
            "zerolinecolor": "white"
           },
           "yaxis": {
            "backgroundcolor": "#E5ECF6",
            "gridcolor": "white",
            "gridwidth": 2,
            "linecolor": "white",
            "showbackground": true,
            "ticks": "",
            "zerolinecolor": "white"
           },
           "zaxis": {
            "backgroundcolor": "#E5ECF6",
            "gridcolor": "white",
            "gridwidth": 2,
            "linecolor": "white",
            "showbackground": true,
            "ticks": "",
            "zerolinecolor": "white"
           }
          },
          "shapedefaults": {
           "line": {
            "color": "#2a3f5f"
           }
          },
          "ternary": {
           "aaxis": {
            "gridcolor": "white",
            "linecolor": "white",
            "ticks": ""
           },
           "baxis": {
            "gridcolor": "white",
            "linecolor": "white",
            "ticks": ""
           },
           "bgcolor": "#E5ECF6",
           "caxis": {
            "gridcolor": "white",
            "linecolor": "white",
            "ticks": ""
           }
          },
          "title": {
           "x": 0.05
          },
          "xaxis": {
           "automargin": true,
           "gridcolor": "white",
           "linecolor": "white",
           "ticks": "",
           "title": {
            "standoff": 15
           },
           "zerolinecolor": "white",
           "zerolinewidth": 2
          },
          "yaxis": {
           "automargin": true,
           "gridcolor": "white",
           "linecolor": "white",
           "ticks": "",
           "title": {
            "standoff": 15
           },
           "zerolinecolor": "white",
           "zerolinewidth": 2
          }
         }
        },
        "title": {
         "text": "Distribution of Blood Type"
        },
        "xaxis": {
         "title": {
          "text": "Blood Type"
         }
        },
        "yaxis": {
         "title": {
          "text": "Count"
         }
        }
       }
      }
     },
     "metadata": {},
     "output_type": "display_data"
    },
    {
     "data": {
      "application/vnd.plotly.v1+json": {
       "config": {
        "plotlyServerURL": "https://plot.ly"
       },
       "data": [
        {
         "marker": {
          "color": "rgb(102, 197, 204)"
         },
         "name": "Asthma",
         "type": "bar",
         "x": [
          "Medical Condition"
         ],
         "y": [
          1708
         ]
        },
        {
         "marker": {
          "color": "rgb(246, 207, 113)"
         },
         "name": "Cancer",
         "type": "bar",
         "x": [
          "Medical Condition"
         ],
         "y": [
          1703
         ]
        },
        {
         "marker": {
          "color": "rgb(248, 156, 116)"
         },
         "name": "Hypertension",
         "type": "bar",
         "x": [
          "Medical Condition"
         ],
         "y": [
          1688
         ]
        },
        {
         "marker": {
          "color": "rgb(220, 176, 242)"
         },
         "name": "Arthritis",
         "type": "bar",
         "x": [
          "Medical Condition"
         ],
         "y": [
          1650
         ]
        },
        {
         "marker": {
          "color": "rgb(135, 197, 95)"
         },
         "name": "Obesity",
         "type": "bar",
         "x": [
          "Medical Condition"
         ],
         "y": [
          1628
         ]
        },
        {
         "marker": {
          "color": "rgb(158, 185, 243)"
         },
         "name": "Diabetes",
         "type": "bar",
         "x": [
          "Medical Condition"
         ],
         "y": [
          1623
         ]
        }
       ],
       "layout": {
        "template": {
         "data": {
          "bar": [
           {
            "error_x": {
             "color": "#2a3f5f"
            },
            "error_y": {
             "color": "#2a3f5f"
            },
            "marker": {
             "line": {
              "color": "#E5ECF6",
              "width": 0.5
             },
             "pattern": {
              "fillmode": "overlay",
              "size": 10,
              "solidity": 0.2
             }
            },
            "type": "bar"
           }
          ],
          "barpolar": [
           {
            "marker": {
             "line": {
              "color": "#E5ECF6",
              "width": 0.5
             },
             "pattern": {
              "fillmode": "overlay",
              "size": 10,
              "solidity": 0.2
             }
            },
            "type": "barpolar"
           }
          ],
          "carpet": [
           {
            "aaxis": {
             "endlinecolor": "#2a3f5f",
             "gridcolor": "white",
             "linecolor": "white",
             "minorgridcolor": "white",
             "startlinecolor": "#2a3f5f"
            },
            "baxis": {
             "endlinecolor": "#2a3f5f",
             "gridcolor": "white",
             "linecolor": "white",
             "minorgridcolor": "white",
             "startlinecolor": "#2a3f5f"
            },
            "type": "carpet"
           }
          ],
          "choropleth": [
           {
            "colorbar": {
             "outlinewidth": 0,
             "ticks": ""
            },
            "type": "choropleth"
           }
          ],
          "contour": [
           {
            "colorbar": {
             "outlinewidth": 0,
             "ticks": ""
            },
            "colorscale": [
             [
              0,
              "#0d0887"
             ],
             [
              0.1111111111111111,
              "#46039f"
             ],
             [
              0.2222222222222222,
              "#7201a8"
             ],
             [
              0.3333333333333333,
              "#9c179e"
             ],
             [
              0.4444444444444444,
              "#bd3786"
             ],
             [
              0.5555555555555556,
              "#d8576b"
             ],
             [
              0.6666666666666666,
              "#ed7953"
             ],
             [
              0.7777777777777778,
              "#fb9f3a"
             ],
             [
              0.8888888888888888,
              "#fdca26"
             ],
             [
              1,
              "#f0f921"
             ]
            ],
            "type": "contour"
           }
          ],
          "contourcarpet": [
           {
            "colorbar": {
             "outlinewidth": 0,
             "ticks": ""
            },
            "type": "contourcarpet"
           }
          ],
          "heatmap": [
           {
            "colorbar": {
             "outlinewidth": 0,
             "ticks": ""
            },
            "colorscale": [
             [
              0,
              "#0d0887"
             ],
             [
              0.1111111111111111,
              "#46039f"
             ],
             [
              0.2222222222222222,
              "#7201a8"
             ],
             [
              0.3333333333333333,
              "#9c179e"
             ],
             [
              0.4444444444444444,
              "#bd3786"
             ],
             [
              0.5555555555555556,
              "#d8576b"
             ],
             [
              0.6666666666666666,
              "#ed7953"
             ],
             [
              0.7777777777777778,
              "#fb9f3a"
             ],
             [
              0.8888888888888888,
              "#fdca26"
             ],
             [
              1,
              "#f0f921"
             ]
            ],
            "type": "heatmap"
           }
          ],
          "histogram": [
           {
            "marker": {
             "pattern": {
              "fillmode": "overlay",
              "size": 10,
              "solidity": 0.2
             }
            },
            "type": "histogram"
           }
          ],
          "histogram2d": [
           {
            "colorbar": {
             "outlinewidth": 0,
             "ticks": ""
            },
            "colorscale": [
             [
              0,
              "#0d0887"
             ],
             [
              0.1111111111111111,
              "#46039f"
             ],
             [
              0.2222222222222222,
              "#7201a8"
             ],
             [
              0.3333333333333333,
              "#9c179e"
             ],
             [
              0.4444444444444444,
              "#bd3786"
             ],
             [
              0.5555555555555556,
              "#d8576b"
             ],
             [
              0.6666666666666666,
              "#ed7953"
             ],
             [
              0.7777777777777778,
              "#fb9f3a"
             ],
             [
              0.8888888888888888,
              "#fdca26"
             ],
             [
              1,
              "#f0f921"
             ]
            ],
            "type": "histogram2d"
           }
          ],
          "histogram2dcontour": [
           {
            "colorbar": {
             "outlinewidth": 0,
             "ticks": ""
            },
            "colorscale": [
             [
              0,
              "#0d0887"
             ],
             [
              0.1111111111111111,
              "#46039f"
             ],
             [
              0.2222222222222222,
              "#7201a8"
             ],
             [
              0.3333333333333333,
              "#9c179e"
             ],
             [
              0.4444444444444444,
              "#bd3786"
             ],
             [
              0.5555555555555556,
              "#d8576b"
             ],
             [
              0.6666666666666666,
              "#ed7953"
             ],
             [
              0.7777777777777778,
              "#fb9f3a"
             ],
             [
              0.8888888888888888,
              "#fdca26"
             ],
             [
              1,
              "#f0f921"
             ]
            ],
            "type": "histogram2dcontour"
           }
          ],
          "mesh3d": [
           {
            "colorbar": {
             "outlinewidth": 0,
             "ticks": ""
            },
            "type": "mesh3d"
           }
          ],
          "parcoords": [
           {
            "line": {
             "colorbar": {
              "outlinewidth": 0,
              "ticks": ""
             }
            },
            "type": "parcoords"
           }
          ],
          "pie": [
           {
            "automargin": true,
            "type": "pie"
           }
          ],
          "scatter": [
           {
            "fillpattern": {
             "fillmode": "overlay",
             "size": 10,
             "solidity": 0.2
            },
            "type": "scatter"
           }
          ],
          "scatter3d": [
           {
            "line": {
             "colorbar": {
              "outlinewidth": 0,
              "ticks": ""
             }
            },
            "marker": {
             "colorbar": {
              "outlinewidth": 0,
              "ticks": ""
             }
            },
            "type": "scatter3d"
           }
          ],
          "scattercarpet": [
           {
            "marker": {
             "colorbar": {
              "outlinewidth": 0,
              "ticks": ""
             }
            },
            "type": "scattercarpet"
           }
          ],
          "scattergeo": [
           {
            "marker": {
             "colorbar": {
              "outlinewidth": 0,
              "ticks": ""
             }
            },
            "type": "scattergeo"
           }
          ],
          "scattergl": [
           {
            "marker": {
             "colorbar": {
              "outlinewidth": 0,
              "ticks": ""
             }
            },
            "type": "scattergl"
           }
          ],
          "scattermap": [
           {
            "marker": {
             "colorbar": {
              "outlinewidth": 0,
              "ticks": ""
             }
            },
            "type": "scattermap"
           }
          ],
          "scattermapbox": [
           {
            "marker": {
             "colorbar": {
              "outlinewidth": 0,
              "ticks": ""
             }
            },
            "type": "scattermapbox"
           }
          ],
          "scatterpolar": [
           {
            "marker": {
             "colorbar": {
              "outlinewidth": 0,
              "ticks": ""
             }
            },
            "type": "scatterpolar"
           }
          ],
          "scatterpolargl": [
           {
            "marker": {
             "colorbar": {
              "outlinewidth": 0,
              "ticks": ""
             }
            },
            "type": "scatterpolargl"
           }
          ],
          "scatterternary": [
           {
            "marker": {
             "colorbar": {
              "outlinewidth": 0,
              "ticks": ""
             }
            },
            "type": "scatterternary"
           }
          ],
          "surface": [
           {
            "colorbar": {
             "outlinewidth": 0,
             "ticks": ""
            },
            "colorscale": [
             [
              0,
              "#0d0887"
             ],
             [
              0.1111111111111111,
              "#46039f"
             ],
             [
              0.2222222222222222,
              "#7201a8"
             ],
             [
              0.3333333333333333,
              "#9c179e"
             ],
             [
              0.4444444444444444,
              "#bd3786"
             ],
             [
              0.5555555555555556,
              "#d8576b"
             ],
             [
              0.6666666666666666,
              "#ed7953"
             ],
             [
              0.7777777777777778,
              "#fb9f3a"
             ],
             [
              0.8888888888888888,
              "#fdca26"
             ],
             [
              1,
              "#f0f921"
             ]
            ],
            "type": "surface"
           }
          ],
          "table": [
           {
            "cells": {
             "fill": {
              "color": "#EBF0F8"
             },
             "line": {
              "color": "white"
             }
            },
            "header": {
             "fill": {
              "color": "#C8D4E3"
             },
             "line": {
              "color": "white"
             }
            },
            "type": "table"
           }
          ]
         },
         "layout": {
          "annotationdefaults": {
           "arrowcolor": "#2a3f5f",
           "arrowhead": 0,
           "arrowwidth": 1
          },
          "autotypenumbers": "strict",
          "coloraxis": {
           "colorbar": {
            "outlinewidth": 0,
            "ticks": ""
           }
          },
          "colorscale": {
           "diverging": [
            [
             0,
             "#8e0152"
            ],
            [
             0.1,
             "#c51b7d"
            ],
            [
             0.2,
             "#de77ae"
            ],
            [
             0.3,
             "#f1b6da"
            ],
            [
             0.4,
             "#fde0ef"
            ],
            [
             0.5,
             "#f7f7f7"
            ],
            [
             0.6,
             "#e6f5d0"
            ],
            [
             0.7,
             "#b8e186"
            ],
            [
             0.8,
             "#7fbc41"
            ],
            [
             0.9,
             "#4d9221"
            ],
            [
             1,
             "#276419"
            ]
           ],
           "sequential": [
            [
             0,
             "#0d0887"
            ],
            [
             0.1111111111111111,
             "#46039f"
            ],
            [
             0.2222222222222222,
             "#7201a8"
            ],
            [
             0.3333333333333333,
             "#9c179e"
            ],
            [
             0.4444444444444444,
             "#bd3786"
            ],
            [
             0.5555555555555556,
             "#d8576b"
            ],
            [
             0.6666666666666666,
             "#ed7953"
            ],
            [
             0.7777777777777778,
             "#fb9f3a"
            ],
            [
             0.8888888888888888,
             "#fdca26"
            ],
            [
             1,
             "#f0f921"
            ]
           ],
           "sequentialminus": [
            [
             0,
             "#0d0887"
            ],
            [
             0.1111111111111111,
             "#46039f"
            ],
            [
             0.2222222222222222,
             "#7201a8"
            ],
            [
             0.3333333333333333,
             "#9c179e"
            ],
            [
             0.4444444444444444,
             "#bd3786"
            ],
            [
             0.5555555555555556,
             "#d8576b"
            ],
            [
             0.6666666666666666,
             "#ed7953"
            ],
            [
             0.7777777777777778,
             "#fb9f3a"
            ],
            [
             0.8888888888888888,
             "#fdca26"
            ],
            [
             1,
             "#f0f921"
            ]
           ]
          },
          "colorway": [
           "#636efa",
           "#EF553B",
           "#00cc96",
           "#ab63fa",
           "#FFA15A",
           "#19d3f3",
           "#FF6692",
           "#B6E880",
           "#FF97FF",
           "#FECB52"
          ],
          "font": {
           "color": "#2a3f5f"
          },
          "geo": {
           "bgcolor": "white",
           "lakecolor": "white",
           "landcolor": "#E5ECF6",
           "showlakes": true,
           "showland": true,
           "subunitcolor": "white"
          },
          "hoverlabel": {
           "align": "left"
          },
          "hovermode": "closest",
          "mapbox": {
           "style": "light"
          },
          "paper_bgcolor": "white",
          "plot_bgcolor": "#E5ECF6",
          "polar": {
           "angularaxis": {
            "gridcolor": "white",
            "linecolor": "white",
            "ticks": ""
           },
           "bgcolor": "#E5ECF6",
           "radialaxis": {
            "gridcolor": "white",
            "linecolor": "white",
            "ticks": ""
           }
          },
          "scene": {
           "xaxis": {
            "backgroundcolor": "#E5ECF6",
            "gridcolor": "white",
            "gridwidth": 2,
            "linecolor": "white",
            "showbackground": true,
            "ticks": "",
            "zerolinecolor": "white"
           },
           "yaxis": {
            "backgroundcolor": "#E5ECF6",
            "gridcolor": "white",
            "gridwidth": 2,
            "linecolor": "white",
            "showbackground": true,
            "ticks": "",
            "zerolinecolor": "white"
           },
           "zaxis": {
            "backgroundcolor": "#E5ECF6",
            "gridcolor": "white",
            "gridwidth": 2,
            "linecolor": "white",
            "showbackground": true,
            "ticks": "",
            "zerolinecolor": "white"
           }
          },
          "shapedefaults": {
           "line": {
            "color": "#2a3f5f"
           }
          },
          "ternary": {
           "aaxis": {
            "gridcolor": "white",
            "linecolor": "white",
            "ticks": ""
           },
           "baxis": {
            "gridcolor": "white",
            "linecolor": "white",
            "ticks": ""
           },
           "bgcolor": "#E5ECF6",
           "caxis": {
            "gridcolor": "white",
            "linecolor": "white",
            "ticks": ""
           }
          },
          "title": {
           "x": 0.05
          },
          "xaxis": {
           "automargin": true,
           "gridcolor": "white",
           "linecolor": "white",
           "ticks": "",
           "title": {
            "standoff": 15
           },
           "zerolinecolor": "white",
           "zerolinewidth": 2
          },
          "yaxis": {
           "automargin": true,
           "gridcolor": "white",
           "linecolor": "white",
           "ticks": "",
           "title": {
            "standoff": 15
           },
           "zerolinecolor": "white",
           "zerolinewidth": 2
          }
         }
        },
        "title": {
         "text": "Distribution of Medical Condition"
        },
        "xaxis": {
         "title": {
          "text": "Medical Condition"
         }
        },
        "yaxis": {
         "title": {
          "text": "Count"
         }
        }
       }
      }
     },
     "metadata": {},
     "output_type": "display_data"
    },
    {
     "data": {
      "application/vnd.plotly.v1+json": {
       "config": {
        "plotlyServerURL": "https://plot.ly"
       },
       "data": [
        {
         "marker": {
          "color": "rgb(102, 197, 204)"
         },
         "name": "Urgent",
         "type": "bar",
         "x": [
          "Admission Type"
         ],
         "y": [
          3391
         ]
        },
        {
         "marker": {
          "color": "rgb(246, 207, 113)"
         },
         "name": "Emergency",
         "type": "bar",
         "x": [
          "Admission Type"
         ],
         "y": [
          3367
         ]
        },
        {
         "marker": {
          "color": "rgb(248, 156, 116)"
         },
         "name": "Elective",
         "type": "bar",
         "x": [
          "Admission Type"
         ],
         "y": [
          3242
         ]
        }
       ],
       "layout": {
        "template": {
         "data": {
          "bar": [
           {
            "error_x": {
             "color": "#2a3f5f"
            },
            "error_y": {
             "color": "#2a3f5f"
            },
            "marker": {
             "line": {
              "color": "#E5ECF6",
              "width": 0.5
             },
             "pattern": {
              "fillmode": "overlay",
              "size": 10,
              "solidity": 0.2
             }
            },
            "type": "bar"
           }
          ],
          "barpolar": [
           {
            "marker": {
             "line": {
              "color": "#E5ECF6",
              "width": 0.5
             },
             "pattern": {
              "fillmode": "overlay",
              "size": 10,
              "solidity": 0.2
             }
            },
            "type": "barpolar"
           }
          ],
          "carpet": [
           {
            "aaxis": {
             "endlinecolor": "#2a3f5f",
             "gridcolor": "white",
             "linecolor": "white",
             "minorgridcolor": "white",
             "startlinecolor": "#2a3f5f"
            },
            "baxis": {
             "endlinecolor": "#2a3f5f",
             "gridcolor": "white",
             "linecolor": "white",
             "minorgridcolor": "white",
             "startlinecolor": "#2a3f5f"
            },
            "type": "carpet"
           }
          ],
          "choropleth": [
           {
            "colorbar": {
             "outlinewidth": 0,
             "ticks": ""
            },
            "type": "choropleth"
           }
          ],
          "contour": [
           {
            "colorbar": {
             "outlinewidth": 0,
             "ticks": ""
            },
            "colorscale": [
             [
              0,
              "#0d0887"
             ],
             [
              0.1111111111111111,
              "#46039f"
             ],
             [
              0.2222222222222222,
              "#7201a8"
             ],
             [
              0.3333333333333333,
              "#9c179e"
             ],
             [
              0.4444444444444444,
              "#bd3786"
             ],
             [
              0.5555555555555556,
              "#d8576b"
             ],
             [
              0.6666666666666666,
              "#ed7953"
             ],
             [
              0.7777777777777778,
              "#fb9f3a"
             ],
             [
              0.8888888888888888,
              "#fdca26"
             ],
             [
              1,
              "#f0f921"
             ]
            ],
            "type": "contour"
           }
          ],
          "contourcarpet": [
           {
            "colorbar": {
             "outlinewidth": 0,
             "ticks": ""
            },
            "type": "contourcarpet"
           }
          ],
          "heatmap": [
           {
            "colorbar": {
             "outlinewidth": 0,
             "ticks": ""
            },
            "colorscale": [
             [
              0,
              "#0d0887"
             ],
             [
              0.1111111111111111,
              "#46039f"
             ],
             [
              0.2222222222222222,
              "#7201a8"
             ],
             [
              0.3333333333333333,
              "#9c179e"
             ],
             [
              0.4444444444444444,
              "#bd3786"
             ],
             [
              0.5555555555555556,
              "#d8576b"
             ],
             [
              0.6666666666666666,
              "#ed7953"
             ],
             [
              0.7777777777777778,
              "#fb9f3a"
             ],
             [
              0.8888888888888888,
              "#fdca26"
             ],
             [
              1,
              "#f0f921"
             ]
            ],
            "type": "heatmap"
           }
          ],
          "histogram": [
           {
            "marker": {
             "pattern": {
              "fillmode": "overlay",
              "size": 10,
              "solidity": 0.2
             }
            },
            "type": "histogram"
           }
          ],
          "histogram2d": [
           {
            "colorbar": {
             "outlinewidth": 0,
             "ticks": ""
            },
            "colorscale": [
             [
              0,
              "#0d0887"
             ],
             [
              0.1111111111111111,
              "#46039f"
             ],
             [
              0.2222222222222222,
              "#7201a8"
             ],
             [
              0.3333333333333333,
              "#9c179e"
             ],
             [
              0.4444444444444444,
              "#bd3786"
             ],
             [
              0.5555555555555556,
              "#d8576b"
             ],
             [
              0.6666666666666666,
              "#ed7953"
             ],
             [
              0.7777777777777778,
              "#fb9f3a"
             ],
             [
              0.8888888888888888,
              "#fdca26"
             ],
             [
              1,
              "#f0f921"
             ]
            ],
            "type": "histogram2d"
           }
          ],
          "histogram2dcontour": [
           {
            "colorbar": {
             "outlinewidth": 0,
             "ticks": ""
            },
            "colorscale": [
             [
              0,
              "#0d0887"
             ],
             [
              0.1111111111111111,
              "#46039f"
             ],
             [
              0.2222222222222222,
              "#7201a8"
             ],
             [
              0.3333333333333333,
              "#9c179e"
             ],
             [
              0.4444444444444444,
              "#bd3786"
             ],
             [
              0.5555555555555556,
              "#d8576b"
             ],
             [
              0.6666666666666666,
              "#ed7953"
             ],
             [
              0.7777777777777778,
              "#fb9f3a"
             ],
             [
              0.8888888888888888,
              "#fdca26"
             ],
             [
              1,
              "#f0f921"
             ]
            ],
            "type": "histogram2dcontour"
           }
          ],
          "mesh3d": [
           {
            "colorbar": {
             "outlinewidth": 0,
             "ticks": ""
            },
            "type": "mesh3d"
           }
          ],
          "parcoords": [
           {
            "line": {
             "colorbar": {
              "outlinewidth": 0,
              "ticks": ""
             }
            },
            "type": "parcoords"
           }
          ],
          "pie": [
           {
            "automargin": true,
            "type": "pie"
           }
          ],
          "scatter": [
           {
            "fillpattern": {
             "fillmode": "overlay",
             "size": 10,
             "solidity": 0.2
            },
            "type": "scatter"
           }
          ],
          "scatter3d": [
           {
            "line": {
             "colorbar": {
              "outlinewidth": 0,
              "ticks": ""
             }
            },
            "marker": {
             "colorbar": {
              "outlinewidth": 0,
              "ticks": ""
             }
            },
            "type": "scatter3d"
           }
          ],
          "scattercarpet": [
           {
            "marker": {
             "colorbar": {
              "outlinewidth": 0,
              "ticks": ""
             }
            },
            "type": "scattercarpet"
           }
          ],
          "scattergeo": [
           {
            "marker": {
             "colorbar": {
              "outlinewidth": 0,
              "ticks": ""
             }
            },
            "type": "scattergeo"
           }
          ],
          "scattergl": [
           {
            "marker": {
             "colorbar": {
              "outlinewidth": 0,
              "ticks": ""
             }
            },
            "type": "scattergl"
           }
          ],
          "scattermap": [
           {
            "marker": {
             "colorbar": {
              "outlinewidth": 0,
              "ticks": ""
             }
            },
            "type": "scattermap"
           }
          ],
          "scattermapbox": [
           {
            "marker": {
             "colorbar": {
              "outlinewidth": 0,
              "ticks": ""
             }
            },
            "type": "scattermapbox"
           }
          ],
          "scatterpolar": [
           {
            "marker": {
             "colorbar": {
              "outlinewidth": 0,
              "ticks": ""
             }
            },
            "type": "scatterpolar"
           }
          ],
          "scatterpolargl": [
           {
            "marker": {
             "colorbar": {
              "outlinewidth": 0,
              "ticks": ""
             }
            },
            "type": "scatterpolargl"
           }
          ],
          "scatterternary": [
           {
            "marker": {
             "colorbar": {
              "outlinewidth": 0,
              "ticks": ""
             }
            },
            "type": "scatterternary"
           }
          ],
          "surface": [
           {
            "colorbar": {
             "outlinewidth": 0,
             "ticks": ""
            },
            "colorscale": [
             [
              0,
              "#0d0887"
             ],
             [
              0.1111111111111111,
              "#46039f"
             ],
             [
              0.2222222222222222,
              "#7201a8"
             ],
             [
              0.3333333333333333,
              "#9c179e"
             ],
             [
              0.4444444444444444,
              "#bd3786"
             ],
             [
              0.5555555555555556,
              "#d8576b"
             ],
             [
              0.6666666666666666,
              "#ed7953"
             ],
             [
              0.7777777777777778,
              "#fb9f3a"
             ],
             [
              0.8888888888888888,
              "#fdca26"
             ],
             [
              1,
              "#f0f921"
             ]
            ],
            "type": "surface"
           }
          ],
          "table": [
           {
            "cells": {
             "fill": {
              "color": "#EBF0F8"
             },
             "line": {
              "color": "white"
             }
            },
            "header": {
             "fill": {
              "color": "#C8D4E3"
             },
             "line": {
              "color": "white"
             }
            },
            "type": "table"
           }
          ]
         },
         "layout": {
          "annotationdefaults": {
           "arrowcolor": "#2a3f5f",
           "arrowhead": 0,
           "arrowwidth": 1
          },
          "autotypenumbers": "strict",
          "coloraxis": {
           "colorbar": {
            "outlinewidth": 0,
            "ticks": ""
           }
          },
          "colorscale": {
           "diverging": [
            [
             0,
             "#8e0152"
            ],
            [
             0.1,
             "#c51b7d"
            ],
            [
             0.2,
             "#de77ae"
            ],
            [
             0.3,
             "#f1b6da"
            ],
            [
             0.4,
             "#fde0ef"
            ],
            [
             0.5,
             "#f7f7f7"
            ],
            [
             0.6,
             "#e6f5d0"
            ],
            [
             0.7,
             "#b8e186"
            ],
            [
             0.8,
             "#7fbc41"
            ],
            [
             0.9,
             "#4d9221"
            ],
            [
             1,
             "#276419"
            ]
           ],
           "sequential": [
            [
             0,
             "#0d0887"
            ],
            [
             0.1111111111111111,
             "#46039f"
            ],
            [
             0.2222222222222222,
             "#7201a8"
            ],
            [
             0.3333333333333333,
             "#9c179e"
            ],
            [
             0.4444444444444444,
             "#bd3786"
            ],
            [
             0.5555555555555556,
             "#d8576b"
            ],
            [
             0.6666666666666666,
             "#ed7953"
            ],
            [
             0.7777777777777778,
             "#fb9f3a"
            ],
            [
             0.8888888888888888,
             "#fdca26"
            ],
            [
             1,
             "#f0f921"
            ]
           ],
           "sequentialminus": [
            [
             0,
             "#0d0887"
            ],
            [
             0.1111111111111111,
             "#46039f"
            ],
            [
             0.2222222222222222,
             "#7201a8"
            ],
            [
             0.3333333333333333,
             "#9c179e"
            ],
            [
             0.4444444444444444,
             "#bd3786"
            ],
            [
             0.5555555555555556,
             "#d8576b"
            ],
            [
             0.6666666666666666,
             "#ed7953"
            ],
            [
             0.7777777777777778,
             "#fb9f3a"
            ],
            [
             0.8888888888888888,
             "#fdca26"
            ],
            [
             1,
             "#f0f921"
            ]
           ]
          },
          "colorway": [
           "#636efa",
           "#EF553B",
           "#00cc96",
           "#ab63fa",
           "#FFA15A",
           "#19d3f3",
           "#FF6692",
           "#B6E880",
           "#FF97FF",
           "#FECB52"
          ],
          "font": {
           "color": "#2a3f5f"
          },
          "geo": {
           "bgcolor": "white",
           "lakecolor": "white",
           "landcolor": "#E5ECF6",
           "showlakes": true,
           "showland": true,
           "subunitcolor": "white"
          },
          "hoverlabel": {
           "align": "left"
          },
          "hovermode": "closest",
          "mapbox": {
           "style": "light"
          },
          "paper_bgcolor": "white",
          "plot_bgcolor": "#E5ECF6",
          "polar": {
           "angularaxis": {
            "gridcolor": "white",
            "linecolor": "white",
            "ticks": ""
           },
           "bgcolor": "#E5ECF6",
           "radialaxis": {
            "gridcolor": "white",
            "linecolor": "white",
            "ticks": ""
           }
          },
          "scene": {
           "xaxis": {
            "backgroundcolor": "#E5ECF6",
            "gridcolor": "white",
            "gridwidth": 2,
            "linecolor": "white",
            "showbackground": true,
            "ticks": "",
            "zerolinecolor": "white"
           },
           "yaxis": {
            "backgroundcolor": "#E5ECF6",
            "gridcolor": "white",
            "gridwidth": 2,
            "linecolor": "white",
            "showbackground": true,
            "ticks": "",
            "zerolinecolor": "white"
           },
           "zaxis": {
            "backgroundcolor": "#E5ECF6",
            "gridcolor": "white",
            "gridwidth": 2,
            "linecolor": "white",
            "showbackground": true,
            "ticks": "",
            "zerolinecolor": "white"
           }
          },
          "shapedefaults": {
           "line": {
            "color": "#2a3f5f"
           }
          },
          "ternary": {
           "aaxis": {
            "gridcolor": "white",
            "linecolor": "white",
            "ticks": ""
           },
           "baxis": {
            "gridcolor": "white",
            "linecolor": "white",
            "ticks": ""
           },
           "bgcolor": "#E5ECF6",
           "caxis": {
            "gridcolor": "white",
            "linecolor": "white",
            "ticks": ""
           }
          },
          "title": {
           "x": 0.05
          },
          "xaxis": {
           "automargin": true,
           "gridcolor": "white",
           "linecolor": "white",
           "ticks": "",
           "title": {
            "standoff": 15
           },
           "zerolinecolor": "white",
           "zerolinewidth": 2
          },
          "yaxis": {
           "automargin": true,
           "gridcolor": "white",
           "linecolor": "white",
           "ticks": "",
           "title": {
            "standoff": 15
           },
           "zerolinecolor": "white",
           "zerolinewidth": 2
          }
         }
        },
        "title": {
         "text": "Distribution of Admission Type"
        },
        "xaxis": {
         "title": {
          "text": "Admission Type"
         }
        },
        "yaxis": {
         "title": {
          "text": "Count"
         }
        }
       }
      }
     },
     "metadata": {},
     "output_type": "display_data"
    },
    {
     "data": {
      "application/vnd.plotly.v1+json": {
       "config": {
        "plotlyServerURL": "https://plot.ly"
       },
       "data": [
        {
         "marker": {
          "color": "rgb(102, 197, 204)"
         },
         "name": "Cigna",
         "type": "bar",
         "x": [
          "Insurance Provider"
         ],
         "y": [
          2040
         ]
        },
        {
         "marker": {
          "color": "rgb(246, 207, 113)"
         },
         "name": "Blue Cross",
         "type": "bar",
         "x": [
          "Insurance Provider"
         ],
         "y": [
          2032
         ]
        },
        {
         "marker": {
          "color": "rgb(248, 156, 116)"
         },
         "name": "Aetna",
         "type": "bar",
         "x": [
          "Insurance Provider"
         ],
         "y": [
          2025
         ]
        },
        {
         "marker": {
          "color": "rgb(220, 176, 242)"
         },
         "name": "UnitedHealthcare",
         "type": "bar",
         "x": [
          "Insurance Provider"
         ],
         "y": [
          1978
         ]
        },
        {
         "marker": {
          "color": "rgb(135, 197, 95)"
         },
         "name": "Medicare",
         "type": "bar",
         "x": [
          "Insurance Provider"
         ],
         "y": [
          1925
         ]
        }
       ],
       "layout": {
        "template": {
         "data": {
          "bar": [
           {
            "error_x": {
             "color": "#2a3f5f"
            },
            "error_y": {
             "color": "#2a3f5f"
            },
            "marker": {
             "line": {
              "color": "#E5ECF6",
              "width": 0.5
             },
             "pattern": {
              "fillmode": "overlay",
              "size": 10,
              "solidity": 0.2
             }
            },
            "type": "bar"
           }
          ],
          "barpolar": [
           {
            "marker": {
             "line": {
              "color": "#E5ECF6",
              "width": 0.5
             },
             "pattern": {
              "fillmode": "overlay",
              "size": 10,
              "solidity": 0.2
             }
            },
            "type": "barpolar"
           }
          ],
          "carpet": [
           {
            "aaxis": {
             "endlinecolor": "#2a3f5f",
             "gridcolor": "white",
             "linecolor": "white",
             "minorgridcolor": "white",
             "startlinecolor": "#2a3f5f"
            },
            "baxis": {
             "endlinecolor": "#2a3f5f",
             "gridcolor": "white",
             "linecolor": "white",
             "minorgridcolor": "white",
             "startlinecolor": "#2a3f5f"
            },
            "type": "carpet"
           }
          ],
          "choropleth": [
           {
            "colorbar": {
             "outlinewidth": 0,
             "ticks": ""
            },
            "type": "choropleth"
           }
          ],
          "contour": [
           {
            "colorbar": {
             "outlinewidth": 0,
             "ticks": ""
            },
            "colorscale": [
             [
              0,
              "#0d0887"
             ],
             [
              0.1111111111111111,
              "#46039f"
             ],
             [
              0.2222222222222222,
              "#7201a8"
             ],
             [
              0.3333333333333333,
              "#9c179e"
             ],
             [
              0.4444444444444444,
              "#bd3786"
             ],
             [
              0.5555555555555556,
              "#d8576b"
             ],
             [
              0.6666666666666666,
              "#ed7953"
             ],
             [
              0.7777777777777778,
              "#fb9f3a"
             ],
             [
              0.8888888888888888,
              "#fdca26"
             ],
             [
              1,
              "#f0f921"
             ]
            ],
            "type": "contour"
           }
          ],
          "contourcarpet": [
           {
            "colorbar": {
             "outlinewidth": 0,
             "ticks": ""
            },
            "type": "contourcarpet"
           }
          ],
          "heatmap": [
           {
            "colorbar": {
             "outlinewidth": 0,
             "ticks": ""
            },
            "colorscale": [
             [
              0,
              "#0d0887"
             ],
             [
              0.1111111111111111,
              "#46039f"
             ],
             [
              0.2222222222222222,
              "#7201a8"
             ],
             [
              0.3333333333333333,
              "#9c179e"
             ],
             [
              0.4444444444444444,
              "#bd3786"
             ],
             [
              0.5555555555555556,
              "#d8576b"
             ],
             [
              0.6666666666666666,
              "#ed7953"
             ],
             [
              0.7777777777777778,
              "#fb9f3a"
             ],
             [
              0.8888888888888888,
              "#fdca26"
             ],
             [
              1,
              "#f0f921"
             ]
            ],
            "type": "heatmap"
           }
          ],
          "histogram": [
           {
            "marker": {
             "pattern": {
              "fillmode": "overlay",
              "size": 10,
              "solidity": 0.2
             }
            },
            "type": "histogram"
           }
          ],
          "histogram2d": [
           {
            "colorbar": {
             "outlinewidth": 0,
             "ticks": ""
            },
            "colorscale": [
             [
              0,
              "#0d0887"
             ],
             [
              0.1111111111111111,
              "#46039f"
             ],
             [
              0.2222222222222222,
              "#7201a8"
             ],
             [
              0.3333333333333333,
              "#9c179e"
             ],
             [
              0.4444444444444444,
              "#bd3786"
             ],
             [
              0.5555555555555556,
              "#d8576b"
             ],
             [
              0.6666666666666666,
              "#ed7953"
             ],
             [
              0.7777777777777778,
              "#fb9f3a"
             ],
             [
              0.8888888888888888,
              "#fdca26"
             ],
             [
              1,
              "#f0f921"
             ]
            ],
            "type": "histogram2d"
           }
          ],
          "histogram2dcontour": [
           {
            "colorbar": {
             "outlinewidth": 0,
             "ticks": ""
            },
            "colorscale": [
             [
              0,
              "#0d0887"
             ],
             [
              0.1111111111111111,
              "#46039f"
             ],
             [
              0.2222222222222222,
              "#7201a8"
             ],
             [
              0.3333333333333333,
              "#9c179e"
             ],
             [
              0.4444444444444444,
              "#bd3786"
             ],
             [
              0.5555555555555556,
              "#d8576b"
             ],
             [
              0.6666666666666666,
              "#ed7953"
             ],
             [
              0.7777777777777778,
              "#fb9f3a"
             ],
             [
              0.8888888888888888,
              "#fdca26"
             ],
             [
              1,
              "#f0f921"
             ]
            ],
            "type": "histogram2dcontour"
           }
          ],
          "mesh3d": [
           {
            "colorbar": {
             "outlinewidth": 0,
             "ticks": ""
            },
            "type": "mesh3d"
           }
          ],
          "parcoords": [
           {
            "line": {
             "colorbar": {
              "outlinewidth": 0,
              "ticks": ""
             }
            },
            "type": "parcoords"
           }
          ],
          "pie": [
           {
            "automargin": true,
            "type": "pie"
           }
          ],
          "scatter": [
           {
            "fillpattern": {
             "fillmode": "overlay",
             "size": 10,
             "solidity": 0.2
            },
            "type": "scatter"
           }
          ],
          "scatter3d": [
           {
            "line": {
             "colorbar": {
              "outlinewidth": 0,
              "ticks": ""
             }
            },
            "marker": {
             "colorbar": {
              "outlinewidth": 0,
              "ticks": ""
             }
            },
            "type": "scatter3d"
           }
          ],
          "scattercarpet": [
           {
            "marker": {
             "colorbar": {
              "outlinewidth": 0,
              "ticks": ""
             }
            },
            "type": "scattercarpet"
           }
          ],
          "scattergeo": [
           {
            "marker": {
             "colorbar": {
              "outlinewidth": 0,
              "ticks": ""
             }
            },
            "type": "scattergeo"
           }
          ],
          "scattergl": [
           {
            "marker": {
             "colorbar": {
              "outlinewidth": 0,
              "ticks": ""
             }
            },
            "type": "scattergl"
           }
          ],
          "scattermap": [
           {
            "marker": {
             "colorbar": {
              "outlinewidth": 0,
              "ticks": ""
             }
            },
            "type": "scattermap"
           }
          ],
          "scattermapbox": [
           {
            "marker": {
             "colorbar": {
              "outlinewidth": 0,
              "ticks": ""
             }
            },
            "type": "scattermapbox"
           }
          ],
          "scatterpolar": [
           {
            "marker": {
             "colorbar": {
              "outlinewidth": 0,
              "ticks": ""
             }
            },
            "type": "scatterpolar"
           }
          ],
          "scatterpolargl": [
           {
            "marker": {
             "colorbar": {
              "outlinewidth": 0,
              "ticks": ""
             }
            },
            "type": "scatterpolargl"
           }
          ],
          "scatterternary": [
           {
            "marker": {
             "colorbar": {
              "outlinewidth": 0,
              "ticks": ""
             }
            },
            "type": "scatterternary"
           }
          ],
          "surface": [
           {
            "colorbar": {
             "outlinewidth": 0,
             "ticks": ""
            },
            "colorscale": [
             [
              0,
              "#0d0887"
             ],
             [
              0.1111111111111111,
              "#46039f"
             ],
             [
              0.2222222222222222,
              "#7201a8"
             ],
             [
              0.3333333333333333,
              "#9c179e"
             ],
             [
              0.4444444444444444,
              "#bd3786"
             ],
             [
              0.5555555555555556,
              "#d8576b"
             ],
             [
              0.6666666666666666,
              "#ed7953"
             ],
             [
              0.7777777777777778,
              "#fb9f3a"
             ],
             [
              0.8888888888888888,
              "#fdca26"
             ],
             [
              1,
              "#f0f921"
             ]
            ],
            "type": "surface"
           }
          ],
          "table": [
           {
            "cells": {
             "fill": {
              "color": "#EBF0F8"
             },
             "line": {
              "color": "white"
             }
            },
            "header": {
             "fill": {
              "color": "#C8D4E3"
             },
             "line": {
              "color": "white"
             }
            },
            "type": "table"
           }
          ]
         },
         "layout": {
          "annotationdefaults": {
           "arrowcolor": "#2a3f5f",
           "arrowhead": 0,
           "arrowwidth": 1
          },
          "autotypenumbers": "strict",
          "coloraxis": {
           "colorbar": {
            "outlinewidth": 0,
            "ticks": ""
           }
          },
          "colorscale": {
           "diverging": [
            [
             0,
             "#8e0152"
            ],
            [
             0.1,
             "#c51b7d"
            ],
            [
             0.2,
             "#de77ae"
            ],
            [
             0.3,
             "#f1b6da"
            ],
            [
             0.4,
             "#fde0ef"
            ],
            [
             0.5,
             "#f7f7f7"
            ],
            [
             0.6,
             "#e6f5d0"
            ],
            [
             0.7,
             "#b8e186"
            ],
            [
             0.8,
             "#7fbc41"
            ],
            [
             0.9,
             "#4d9221"
            ],
            [
             1,
             "#276419"
            ]
           ],
           "sequential": [
            [
             0,
             "#0d0887"
            ],
            [
             0.1111111111111111,
             "#46039f"
            ],
            [
             0.2222222222222222,
             "#7201a8"
            ],
            [
             0.3333333333333333,
             "#9c179e"
            ],
            [
             0.4444444444444444,
             "#bd3786"
            ],
            [
             0.5555555555555556,
             "#d8576b"
            ],
            [
             0.6666666666666666,
             "#ed7953"
            ],
            [
             0.7777777777777778,
             "#fb9f3a"
            ],
            [
             0.8888888888888888,
             "#fdca26"
            ],
            [
             1,
             "#f0f921"
            ]
           ],
           "sequentialminus": [
            [
             0,
             "#0d0887"
            ],
            [
             0.1111111111111111,
             "#46039f"
            ],
            [
             0.2222222222222222,
             "#7201a8"
            ],
            [
             0.3333333333333333,
             "#9c179e"
            ],
            [
             0.4444444444444444,
             "#bd3786"
            ],
            [
             0.5555555555555556,
             "#d8576b"
            ],
            [
             0.6666666666666666,
             "#ed7953"
            ],
            [
             0.7777777777777778,
             "#fb9f3a"
            ],
            [
             0.8888888888888888,
             "#fdca26"
            ],
            [
             1,
             "#f0f921"
            ]
           ]
          },
          "colorway": [
           "#636efa",
           "#EF553B",
           "#00cc96",
           "#ab63fa",
           "#FFA15A",
           "#19d3f3",
           "#FF6692",
           "#B6E880",
           "#FF97FF",
           "#FECB52"
          ],
          "font": {
           "color": "#2a3f5f"
          },
          "geo": {
           "bgcolor": "white",
           "lakecolor": "white",
           "landcolor": "#E5ECF6",
           "showlakes": true,
           "showland": true,
           "subunitcolor": "white"
          },
          "hoverlabel": {
           "align": "left"
          },
          "hovermode": "closest",
          "mapbox": {
           "style": "light"
          },
          "paper_bgcolor": "white",
          "plot_bgcolor": "#E5ECF6",
          "polar": {
           "angularaxis": {
            "gridcolor": "white",
            "linecolor": "white",
            "ticks": ""
           },
           "bgcolor": "#E5ECF6",
           "radialaxis": {
            "gridcolor": "white",
            "linecolor": "white",
            "ticks": ""
           }
          },
          "scene": {
           "xaxis": {
            "backgroundcolor": "#E5ECF6",
            "gridcolor": "white",
            "gridwidth": 2,
            "linecolor": "white",
            "showbackground": true,
            "ticks": "",
            "zerolinecolor": "white"
           },
           "yaxis": {
            "backgroundcolor": "#E5ECF6",
            "gridcolor": "white",
            "gridwidth": 2,
            "linecolor": "white",
            "showbackground": true,
            "ticks": "",
            "zerolinecolor": "white"
           },
           "zaxis": {
            "backgroundcolor": "#E5ECF6",
            "gridcolor": "white",
            "gridwidth": 2,
            "linecolor": "white",
            "showbackground": true,
            "ticks": "",
            "zerolinecolor": "white"
           }
          },
          "shapedefaults": {
           "line": {
            "color": "#2a3f5f"
           }
          },
          "ternary": {
           "aaxis": {
            "gridcolor": "white",
            "linecolor": "white",
            "ticks": ""
           },
           "baxis": {
            "gridcolor": "white",
            "linecolor": "white",
            "ticks": ""
           },
           "bgcolor": "#E5ECF6",
           "caxis": {
            "gridcolor": "white",
            "linecolor": "white",
            "ticks": ""
           }
          },
          "title": {
           "x": 0.05
          },
          "xaxis": {
           "automargin": true,
           "gridcolor": "white",
           "linecolor": "white",
           "ticks": "",
           "title": {
            "standoff": 15
           },
           "zerolinecolor": "white",
           "zerolinewidth": 2
          },
          "yaxis": {
           "automargin": true,
           "gridcolor": "white",
           "linecolor": "white",
           "ticks": "",
           "title": {
            "standoff": 15
           },
           "zerolinecolor": "white",
           "zerolinewidth": 2
          }
         }
        },
        "title": {
         "text": "Distribution of Insurance Provider"
        },
        "xaxis": {
         "title": {
          "text": "Insurance Provider"
         }
        },
        "yaxis": {
         "title": {
          "text": "Count"
         }
        }
       }
      }
     },
     "metadata": {},
     "output_type": "display_data"
    },
    {
     "data": {
      "application/vnd.plotly.v1+json": {
       "config": {
        "plotlyServerURL": "https://plot.ly"
       },
       "data": [
        {
         "marker": {
          "color": "rgb(102, 197, 204)"
         },
         "name": "Penicillin",
         "type": "bar",
         "x": [
          "Medication"
         ],
         "y": [
          2079
         ]
        },
        {
         "marker": {
          "color": "rgb(246, 207, 113)"
         },
         "name": "Lipitor",
         "type": "bar",
         "x": [
          "Medication"
         ],
         "y": [
          2015
         ]
        },
        {
         "marker": {
          "color": "rgb(248, 156, 116)"
         },
         "name": "Ibuprofen",
         "type": "bar",
         "x": [
          "Medication"
         ],
         "y": [
          1976
         ]
        },
        {
         "marker": {
          "color": "rgb(220, 176, 242)"
         },
         "name": "Aspirin",
         "type": "bar",
         "x": [
          "Medication"
         ],
         "y": [
          1968
         ]
        },
        {
         "marker": {
          "color": "rgb(135, 197, 95)"
         },
         "name": "Paracetamol",
         "type": "bar",
         "x": [
          "Medication"
         ],
         "y": [
          1962
         ]
        }
       ],
       "layout": {
        "template": {
         "data": {
          "bar": [
           {
            "error_x": {
             "color": "#2a3f5f"
            },
            "error_y": {
             "color": "#2a3f5f"
            },
            "marker": {
             "line": {
              "color": "#E5ECF6",
              "width": 0.5
             },
             "pattern": {
              "fillmode": "overlay",
              "size": 10,
              "solidity": 0.2
             }
            },
            "type": "bar"
           }
          ],
          "barpolar": [
           {
            "marker": {
             "line": {
              "color": "#E5ECF6",
              "width": 0.5
             },
             "pattern": {
              "fillmode": "overlay",
              "size": 10,
              "solidity": 0.2
             }
            },
            "type": "barpolar"
           }
          ],
          "carpet": [
           {
            "aaxis": {
             "endlinecolor": "#2a3f5f",
             "gridcolor": "white",
             "linecolor": "white",
             "minorgridcolor": "white",
             "startlinecolor": "#2a3f5f"
            },
            "baxis": {
             "endlinecolor": "#2a3f5f",
             "gridcolor": "white",
             "linecolor": "white",
             "minorgridcolor": "white",
             "startlinecolor": "#2a3f5f"
            },
            "type": "carpet"
           }
          ],
          "choropleth": [
           {
            "colorbar": {
             "outlinewidth": 0,
             "ticks": ""
            },
            "type": "choropleth"
           }
          ],
          "contour": [
           {
            "colorbar": {
             "outlinewidth": 0,
             "ticks": ""
            },
            "colorscale": [
             [
              0,
              "#0d0887"
             ],
             [
              0.1111111111111111,
              "#46039f"
             ],
             [
              0.2222222222222222,
              "#7201a8"
             ],
             [
              0.3333333333333333,
              "#9c179e"
             ],
             [
              0.4444444444444444,
              "#bd3786"
             ],
             [
              0.5555555555555556,
              "#d8576b"
             ],
             [
              0.6666666666666666,
              "#ed7953"
             ],
             [
              0.7777777777777778,
              "#fb9f3a"
             ],
             [
              0.8888888888888888,
              "#fdca26"
             ],
             [
              1,
              "#f0f921"
             ]
            ],
            "type": "contour"
           }
          ],
          "contourcarpet": [
           {
            "colorbar": {
             "outlinewidth": 0,
             "ticks": ""
            },
            "type": "contourcarpet"
           }
          ],
          "heatmap": [
           {
            "colorbar": {
             "outlinewidth": 0,
             "ticks": ""
            },
            "colorscale": [
             [
              0,
              "#0d0887"
             ],
             [
              0.1111111111111111,
              "#46039f"
             ],
             [
              0.2222222222222222,
              "#7201a8"
             ],
             [
              0.3333333333333333,
              "#9c179e"
             ],
             [
              0.4444444444444444,
              "#bd3786"
             ],
             [
              0.5555555555555556,
              "#d8576b"
             ],
             [
              0.6666666666666666,
              "#ed7953"
             ],
             [
              0.7777777777777778,
              "#fb9f3a"
             ],
             [
              0.8888888888888888,
              "#fdca26"
             ],
             [
              1,
              "#f0f921"
             ]
            ],
            "type": "heatmap"
           }
          ],
          "histogram": [
           {
            "marker": {
             "pattern": {
              "fillmode": "overlay",
              "size": 10,
              "solidity": 0.2
             }
            },
            "type": "histogram"
           }
          ],
          "histogram2d": [
           {
            "colorbar": {
             "outlinewidth": 0,
             "ticks": ""
            },
            "colorscale": [
             [
              0,
              "#0d0887"
             ],
             [
              0.1111111111111111,
              "#46039f"
             ],
             [
              0.2222222222222222,
              "#7201a8"
             ],
             [
              0.3333333333333333,
              "#9c179e"
             ],
             [
              0.4444444444444444,
              "#bd3786"
             ],
             [
              0.5555555555555556,
              "#d8576b"
             ],
             [
              0.6666666666666666,
              "#ed7953"
             ],
             [
              0.7777777777777778,
              "#fb9f3a"
             ],
             [
              0.8888888888888888,
              "#fdca26"
             ],
             [
              1,
              "#f0f921"
             ]
            ],
            "type": "histogram2d"
           }
          ],
          "histogram2dcontour": [
           {
            "colorbar": {
             "outlinewidth": 0,
             "ticks": ""
            },
            "colorscale": [
             [
              0,
              "#0d0887"
             ],
             [
              0.1111111111111111,
              "#46039f"
             ],
             [
              0.2222222222222222,
              "#7201a8"
             ],
             [
              0.3333333333333333,
              "#9c179e"
             ],
             [
              0.4444444444444444,
              "#bd3786"
             ],
             [
              0.5555555555555556,
              "#d8576b"
             ],
             [
              0.6666666666666666,
              "#ed7953"
             ],
             [
              0.7777777777777778,
              "#fb9f3a"
             ],
             [
              0.8888888888888888,
              "#fdca26"
             ],
             [
              1,
              "#f0f921"
             ]
            ],
            "type": "histogram2dcontour"
           }
          ],
          "mesh3d": [
           {
            "colorbar": {
             "outlinewidth": 0,
             "ticks": ""
            },
            "type": "mesh3d"
           }
          ],
          "parcoords": [
           {
            "line": {
             "colorbar": {
              "outlinewidth": 0,
              "ticks": ""
             }
            },
            "type": "parcoords"
           }
          ],
          "pie": [
           {
            "automargin": true,
            "type": "pie"
           }
          ],
          "scatter": [
           {
            "fillpattern": {
             "fillmode": "overlay",
             "size": 10,
             "solidity": 0.2
            },
            "type": "scatter"
           }
          ],
          "scatter3d": [
           {
            "line": {
             "colorbar": {
              "outlinewidth": 0,
              "ticks": ""
             }
            },
            "marker": {
             "colorbar": {
              "outlinewidth": 0,
              "ticks": ""
             }
            },
            "type": "scatter3d"
           }
          ],
          "scattercarpet": [
           {
            "marker": {
             "colorbar": {
              "outlinewidth": 0,
              "ticks": ""
             }
            },
            "type": "scattercarpet"
           }
          ],
          "scattergeo": [
           {
            "marker": {
             "colorbar": {
              "outlinewidth": 0,
              "ticks": ""
             }
            },
            "type": "scattergeo"
           }
          ],
          "scattergl": [
           {
            "marker": {
             "colorbar": {
              "outlinewidth": 0,
              "ticks": ""
             }
            },
            "type": "scattergl"
           }
          ],
          "scattermap": [
           {
            "marker": {
             "colorbar": {
              "outlinewidth": 0,
              "ticks": ""
             }
            },
            "type": "scattermap"
           }
          ],
          "scattermapbox": [
           {
            "marker": {
             "colorbar": {
              "outlinewidth": 0,
              "ticks": ""
             }
            },
            "type": "scattermapbox"
           }
          ],
          "scatterpolar": [
           {
            "marker": {
             "colorbar": {
              "outlinewidth": 0,
              "ticks": ""
             }
            },
            "type": "scatterpolar"
           }
          ],
          "scatterpolargl": [
           {
            "marker": {
             "colorbar": {
              "outlinewidth": 0,
              "ticks": ""
             }
            },
            "type": "scatterpolargl"
           }
          ],
          "scatterternary": [
           {
            "marker": {
             "colorbar": {
              "outlinewidth": 0,
              "ticks": ""
             }
            },
            "type": "scatterternary"
           }
          ],
          "surface": [
           {
            "colorbar": {
             "outlinewidth": 0,
             "ticks": ""
            },
            "colorscale": [
             [
              0,
              "#0d0887"
             ],
             [
              0.1111111111111111,
              "#46039f"
             ],
             [
              0.2222222222222222,
              "#7201a8"
             ],
             [
              0.3333333333333333,
              "#9c179e"
             ],
             [
              0.4444444444444444,
              "#bd3786"
             ],
             [
              0.5555555555555556,
              "#d8576b"
             ],
             [
              0.6666666666666666,
              "#ed7953"
             ],
             [
              0.7777777777777778,
              "#fb9f3a"
             ],
             [
              0.8888888888888888,
              "#fdca26"
             ],
             [
              1,
              "#f0f921"
             ]
            ],
            "type": "surface"
           }
          ],
          "table": [
           {
            "cells": {
             "fill": {
              "color": "#EBF0F8"
             },
             "line": {
              "color": "white"
             }
            },
            "header": {
             "fill": {
              "color": "#C8D4E3"
             },
             "line": {
              "color": "white"
             }
            },
            "type": "table"
           }
          ]
         },
         "layout": {
          "annotationdefaults": {
           "arrowcolor": "#2a3f5f",
           "arrowhead": 0,
           "arrowwidth": 1
          },
          "autotypenumbers": "strict",
          "coloraxis": {
           "colorbar": {
            "outlinewidth": 0,
            "ticks": ""
           }
          },
          "colorscale": {
           "diverging": [
            [
             0,
             "#8e0152"
            ],
            [
             0.1,
             "#c51b7d"
            ],
            [
             0.2,
             "#de77ae"
            ],
            [
             0.3,
             "#f1b6da"
            ],
            [
             0.4,
             "#fde0ef"
            ],
            [
             0.5,
             "#f7f7f7"
            ],
            [
             0.6,
             "#e6f5d0"
            ],
            [
             0.7,
             "#b8e186"
            ],
            [
             0.8,
             "#7fbc41"
            ],
            [
             0.9,
             "#4d9221"
            ],
            [
             1,
             "#276419"
            ]
           ],
           "sequential": [
            [
             0,
             "#0d0887"
            ],
            [
             0.1111111111111111,
             "#46039f"
            ],
            [
             0.2222222222222222,
             "#7201a8"
            ],
            [
             0.3333333333333333,
             "#9c179e"
            ],
            [
             0.4444444444444444,
             "#bd3786"
            ],
            [
             0.5555555555555556,
             "#d8576b"
            ],
            [
             0.6666666666666666,
             "#ed7953"
            ],
            [
             0.7777777777777778,
             "#fb9f3a"
            ],
            [
             0.8888888888888888,
             "#fdca26"
            ],
            [
             1,
             "#f0f921"
            ]
           ],
           "sequentialminus": [
            [
             0,
             "#0d0887"
            ],
            [
             0.1111111111111111,
             "#46039f"
            ],
            [
             0.2222222222222222,
             "#7201a8"
            ],
            [
             0.3333333333333333,
             "#9c179e"
            ],
            [
             0.4444444444444444,
             "#bd3786"
            ],
            [
             0.5555555555555556,
             "#d8576b"
            ],
            [
             0.6666666666666666,
             "#ed7953"
            ],
            [
             0.7777777777777778,
             "#fb9f3a"
            ],
            [
             0.8888888888888888,
             "#fdca26"
            ],
            [
             1,
             "#f0f921"
            ]
           ]
          },
          "colorway": [
           "#636efa",
           "#EF553B",
           "#00cc96",
           "#ab63fa",
           "#FFA15A",
           "#19d3f3",
           "#FF6692",
           "#B6E880",
           "#FF97FF",
           "#FECB52"
          ],
          "font": {
           "color": "#2a3f5f"
          },
          "geo": {
           "bgcolor": "white",
           "lakecolor": "white",
           "landcolor": "#E5ECF6",
           "showlakes": true,
           "showland": true,
           "subunitcolor": "white"
          },
          "hoverlabel": {
           "align": "left"
          },
          "hovermode": "closest",
          "mapbox": {
           "style": "light"
          },
          "paper_bgcolor": "white",
          "plot_bgcolor": "#E5ECF6",
          "polar": {
           "angularaxis": {
            "gridcolor": "white",
            "linecolor": "white",
            "ticks": ""
           },
           "bgcolor": "#E5ECF6",
           "radialaxis": {
            "gridcolor": "white",
            "linecolor": "white",
            "ticks": ""
           }
          },
          "scene": {
           "xaxis": {
            "backgroundcolor": "#E5ECF6",
            "gridcolor": "white",
            "gridwidth": 2,
            "linecolor": "white",
            "showbackground": true,
            "ticks": "",
            "zerolinecolor": "white"
           },
           "yaxis": {
            "backgroundcolor": "#E5ECF6",
            "gridcolor": "white",
            "gridwidth": 2,
            "linecolor": "white",
            "showbackground": true,
            "ticks": "",
            "zerolinecolor": "white"
           },
           "zaxis": {
            "backgroundcolor": "#E5ECF6",
            "gridcolor": "white",
            "gridwidth": 2,
            "linecolor": "white",
            "showbackground": true,
            "ticks": "",
            "zerolinecolor": "white"
           }
          },
          "shapedefaults": {
           "line": {
            "color": "#2a3f5f"
           }
          },
          "ternary": {
           "aaxis": {
            "gridcolor": "white",
            "linecolor": "white",
            "ticks": ""
           },
           "baxis": {
            "gridcolor": "white",
            "linecolor": "white",
            "ticks": ""
           },
           "bgcolor": "#E5ECF6",
           "caxis": {
            "gridcolor": "white",
            "linecolor": "white",
            "ticks": ""
           }
          },
          "title": {
           "x": 0.05
          },
          "xaxis": {
           "automargin": true,
           "gridcolor": "white",
           "linecolor": "white",
           "ticks": "",
           "title": {
            "standoff": 15
           },
           "zerolinecolor": "white",
           "zerolinewidth": 2
          },
          "yaxis": {
           "automargin": true,
           "gridcolor": "white",
           "linecolor": "white",
           "ticks": "",
           "title": {
            "standoff": 15
           },
           "zerolinecolor": "white",
           "zerolinewidth": 2
          }
         }
        },
        "title": {
         "text": "Distribution of Medication"
        },
        "xaxis": {
         "title": {
          "text": "Medication"
         }
        },
        "yaxis": {
         "title": {
          "text": "Count"
         }
        }
       }
      }
     },
     "metadata": {},
     "output_type": "display_data"
    },
    {
     "data": {
      "application/vnd.plotly.v1+json": {
       "config": {
        "plotlyServerURL": "https://plot.ly"
       },
       "data": [
        {
         "marker": {
          "color": "rgb(102, 197, 204)"
         },
         "name": "Abnormal",
         "type": "bar",
         "x": [
          "Test Results"
         ],
         "y": [
          3456
         ]
        },
        {
         "marker": {
          "color": "rgb(246, 207, 113)"
         },
         "name": "Inconclusive",
         "type": "bar",
         "x": [
          "Test Results"
         ],
         "y": [
          3277
         ]
        },
        {
         "marker": {
          "color": "rgb(248, 156, 116)"
         },
         "name": "Normal",
         "type": "bar",
         "x": [
          "Test Results"
         ],
         "y": [
          3267
         ]
        }
       ],
       "layout": {
        "template": {
         "data": {
          "bar": [
           {
            "error_x": {
             "color": "#2a3f5f"
            },
            "error_y": {
             "color": "#2a3f5f"
            },
            "marker": {
             "line": {
              "color": "#E5ECF6",
              "width": 0.5
             },
             "pattern": {
              "fillmode": "overlay",
              "size": 10,
              "solidity": 0.2
             }
            },
            "type": "bar"
           }
          ],
          "barpolar": [
           {
            "marker": {
             "line": {
              "color": "#E5ECF6",
              "width": 0.5
             },
             "pattern": {
              "fillmode": "overlay",
              "size": 10,
              "solidity": 0.2
             }
            },
            "type": "barpolar"
           }
          ],
          "carpet": [
           {
            "aaxis": {
             "endlinecolor": "#2a3f5f",
             "gridcolor": "white",
             "linecolor": "white",
             "minorgridcolor": "white",
             "startlinecolor": "#2a3f5f"
            },
            "baxis": {
             "endlinecolor": "#2a3f5f",
             "gridcolor": "white",
             "linecolor": "white",
             "minorgridcolor": "white",
             "startlinecolor": "#2a3f5f"
            },
            "type": "carpet"
           }
          ],
          "choropleth": [
           {
            "colorbar": {
             "outlinewidth": 0,
             "ticks": ""
            },
            "type": "choropleth"
           }
          ],
          "contour": [
           {
            "colorbar": {
             "outlinewidth": 0,
             "ticks": ""
            },
            "colorscale": [
             [
              0,
              "#0d0887"
             ],
             [
              0.1111111111111111,
              "#46039f"
             ],
             [
              0.2222222222222222,
              "#7201a8"
             ],
             [
              0.3333333333333333,
              "#9c179e"
             ],
             [
              0.4444444444444444,
              "#bd3786"
             ],
             [
              0.5555555555555556,
              "#d8576b"
             ],
             [
              0.6666666666666666,
              "#ed7953"
             ],
             [
              0.7777777777777778,
              "#fb9f3a"
             ],
             [
              0.8888888888888888,
              "#fdca26"
             ],
             [
              1,
              "#f0f921"
             ]
            ],
            "type": "contour"
           }
          ],
          "contourcarpet": [
           {
            "colorbar": {
             "outlinewidth": 0,
             "ticks": ""
            },
            "type": "contourcarpet"
           }
          ],
          "heatmap": [
           {
            "colorbar": {
             "outlinewidth": 0,
             "ticks": ""
            },
            "colorscale": [
             [
              0,
              "#0d0887"
             ],
             [
              0.1111111111111111,
              "#46039f"
             ],
             [
              0.2222222222222222,
              "#7201a8"
             ],
             [
              0.3333333333333333,
              "#9c179e"
             ],
             [
              0.4444444444444444,
              "#bd3786"
             ],
             [
              0.5555555555555556,
              "#d8576b"
             ],
             [
              0.6666666666666666,
              "#ed7953"
             ],
             [
              0.7777777777777778,
              "#fb9f3a"
             ],
             [
              0.8888888888888888,
              "#fdca26"
             ],
             [
              1,
              "#f0f921"
             ]
            ],
            "type": "heatmap"
           }
          ],
          "histogram": [
           {
            "marker": {
             "pattern": {
              "fillmode": "overlay",
              "size": 10,
              "solidity": 0.2
             }
            },
            "type": "histogram"
           }
          ],
          "histogram2d": [
           {
            "colorbar": {
             "outlinewidth": 0,
             "ticks": ""
            },
            "colorscale": [
             [
              0,
              "#0d0887"
             ],
             [
              0.1111111111111111,
              "#46039f"
             ],
             [
              0.2222222222222222,
              "#7201a8"
             ],
             [
              0.3333333333333333,
              "#9c179e"
             ],
             [
              0.4444444444444444,
              "#bd3786"
             ],
             [
              0.5555555555555556,
              "#d8576b"
             ],
             [
              0.6666666666666666,
              "#ed7953"
             ],
             [
              0.7777777777777778,
              "#fb9f3a"
             ],
             [
              0.8888888888888888,
              "#fdca26"
             ],
             [
              1,
              "#f0f921"
             ]
            ],
            "type": "histogram2d"
           }
          ],
          "histogram2dcontour": [
           {
            "colorbar": {
             "outlinewidth": 0,
             "ticks": ""
            },
            "colorscale": [
             [
              0,
              "#0d0887"
             ],
             [
              0.1111111111111111,
              "#46039f"
             ],
             [
              0.2222222222222222,
              "#7201a8"
             ],
             [
              0.3333333333333333,
              "#9c179e"
             ],
             [
              0.4444444444444444,
              "#bd3786"
             ],
             [
              0.5555555555555556,
              "#d8576b"
             ],
             [
              0.6666666666666666,
              "#ed7953"
             ],
             [
              0.7777777777777778,
              "#fb9f3a"
             ],
             [
              0.8888888888888888,
              "#fdca26"
             ],
             [
              1,
              "#f0f921"
             ]
            ],
            "type": "histogram2dcontour"
           }
          ],
          "mesh3d": [
           {
            "colorbar": {
             "outlinewidth": 0,
             "ticks": ""
            },
            "type": "mesh3d"
           }
          ],
          "parcoords": [
           {
            "line": {
             "colorbar": {
              "outlinewidth": 0,
              "ticks": ""
             }
            },
            "type": "parcoords"
           }
          ],
          "pie": [
           {
            "automargin": true,
            "type": "pie"
           }
          ],
          "scatter": [
           {
            "fillpattern": {
             "fillmode": "overlay",
             "size": 10,
             "solidity": 0.2
            },
            "type": "scatter"
           }
          ],
          "scatter3d": [
           {
            "line": {
             "colorbar": {
              "outlinewidth": 0,
              "ticks": ""
             }
            },
            "marker": {
             "colorbar": {
              "outlinewidth": 0,
              "ticks": ""
             }
            },
            "type": "scatter3d"
           }
          ],
          "scattercarpet": [
           {
            "marker": {
             "colorbar": {
              "outlinewidth": 0,
              "ticks": ""
             }
            },
            "type": "scattercarpet"
           }
          ],
          "scattergeo": [
           {
            "marker": {
             "colorbar": {
              "outlinewidth": 0,
              "ticks": ""
             }
            },
            "type": "scattergeo"
           }
          ],
          "scattergl": [
           {
            "marker": {
             "colorbar": {
              "outlinewidth": 0,
              "ticks": ""
             }
            },
            "type": "scattergl"
           }
          ],
          "scattermap": [
           {
            "marker": {
             "colorbar": {
              "outlinewidth": 0,
              "ticks": ""
             }
            },
            "type": "scattermap"
           }
          ],
          "scattermapbox": [
           {
            "marker": {
             "colorbar": {
              "outlinewidth": 0,
              "ticks": ""
             }
            },
            "type": "scattermapbox"
           }
          ],
          "scatterpolar": [
           {
            "marker": {
             "colorbar": {
              "outlinewidth": 0,
              "ticks": ""
             }
            },
            "type": "scatterpolar"
           }
          ],
          "scatterpolargl": [
           {
            "marker": {
             "colorbar": {
              "outlinewidth": 0,
              "ticks": ""
             }
            },
            "type": "scatterpolargl"
           }
          ],
          "scatterternary": [
           {
            "marker": {
             "colorbar": {
              "outlinewidth": 0,
              "ticks": ""
             }
            },
            "type": "scatterternary"
           }
          ],
          "surface": [
           {
            "colorbar": {
             "outlinewidth": 0,
             "ticks": ""
            },
            "colorscale": [
             [
              0,
              "#0d0887"
             ],
             [
              0.1111111111111111,
              "#46039f"
             ],
             [
              0.2222222222222222,
              "#7201a8"
             ],
             [
              0.3333333333333333,
              "#9c179e"
             ],
             [
              0.4444444444444444,
              "#bd3786"
             ],
             [
              0.5555555555555556,
              "#d8576b"
             ],
             [
              0.6666666666666666,
              "#ed7953"
             ],
             [
              0.7777777777777778,
              "#fb9f3a"
             ],
             [
              0.8888888888888888,
              "#fdca26"
             ],
             [
              1,
              "#f0f921"
             ]
            ],
            "type": "surface"
           }
          ],
          "table": [
           {
            "cells": {
             "fill": {
              "color": "#EBF0F8"
             },
             "line": {
              "color": "white"
             }
            },
            "header": {
             "fill": {
              "color": "#C8D4E3"
             },
             "line": {
              "color": "white"
             }
            },
            "type": "table"
           }
          ]
         },
         "layout": {
          "annotationdefaults": {
           "arrowcolor": "#2a3f5f",
           "arrowhead": 0,
           "arrowwidth": 1
          },
          "autotypenumbers": "strict",
          "coloraxis": {
           "colorbar": {
            "outlinewidth": 0,
            "ticks": ""
           }
          },
          "colorscale": {
           "diverging": [
            [
             0,
             "#8e0152"
            ],
            [
             0.1,
             "#c51b7d"
            ],
            [
             0.2,
             "#de77ae"
            ],
            [
             0.3,
             "#f1b6da"
            ],
            [
             0.4,
             "#fde0ef"
            ],
            [
             0.5,
             "#f7f7f7"
            ],
            [
             0.6,
             "#e6f5d0"
            ],
            [
             0.7,
             "#b8e186"
            ],
            [
             0.8,
             "#7fbc41"
            ],
            [
             0.9,
             "#4d9221"
            ],
            [
             1,
             "#276419"
            ]
           ],
           "sequential": [
            [
             0,
             "#0d0887"
            ],
            [
             0.1111111111111111,
             "#46039f"
            ],
            [
             0.2222222222222222,
             "#7201a8"
            ],
            [
             0.3333333333333333,
             "#9c179e"
            ],
            [
             0.4444444444444444,
             "#bd3786"
            ],
            [
             0.5555555555555556,
             "#d8576b"
            ],
            [
             0.6666666666666666,
             "#ed7953"
            ],
            [
             0.7777777777777778,
             "#fb9f3a"
            ],
            [
             0.8888888888888888,
             "#fdca26"
            ],
            [
             1,
             "#f0f921"
            ]
           ],
           "sequentialminus": [
            [
             0,
             "#0d0887"
            ],
            [
             0.1111111111111111,
             "#46039f"
            ],
            [
             0.2222222222222222,
             "#7201a8"
            ],
            [
             0.3333333333333333,
             "#9c179e"
            ],
            [
             0.4444444444444444,
             "#bd3786"
            ],
            [
             0.5555555555555556,
             "#d8576b"
            ],
            [
             0.6666666666666666,
             "#ed7953"
            ],
            [
             0.7777777777777778,
             "#fb9f3a"
            ],
            [
             0.8888888888888888,
             "#fdca26"
            ],
            [
             1,
             "#f0f921"
            ]
           ]
          },
          "colorway": [
           "#636efa",
           "#EF553B",
           "#00cc96",
           "#ab63fa",
           "#FFA15A",
           "#19d3f3",
           "#FF6692",
           "#B6E880",
           "#FF97FF",
           "#FECB52"
          ],
          "font": {
           "color": "#2a3f5f"
          },
          "geo": {
           "bgcolor": "white",
           "lakecolor": "white",
           "landcolor": "#E5ECF6",
           "showlakes": true,
           "showland": true,
           "subunitcolor": "white"
          },
          "hoverlabel": {
           "align": "left"
          },
          "hovermode": "closest",
          "mapbox": {
           "style": "light"
          },
          "paper_bgcolor": "white",
          "plot_bgcolor": "#E5ECF6",
          "polar": {
           "angularaxis": {
            "gridcolor": "white",
            "linecolor": "white",
            "ticks": ""
           },
           "bgcolor": "#E5ECF6",
           "radialaxis": {
            "gridcolor": "white",
            "linecolor": "white",
            "ticks": ""
           }
          },
          "scene": {
           "xaxis": {
            "backgroundcolor": "#E5ECF6",
            "gridcolor": "white",
            "gridwidth": 2,
            "linecolor": "white",
            "showbackground": true,
            "ticks": "",
            "zerolinecolor": "white"
           },
           "yaxis": {
            "backgroundcolor": "#E5ECF6",
            "gridcolor": "white",
            "gridwidth": 2,
            "linecolor": "white",
            "showbackground": true,
            "ticks": "",
            "zerolinecolor": "white"
           },
           "zaxis": {
            "backgroundcolor": "#E5ECF6",
            "gridcolor": "white",
            "gridwidth": 2,
            "linecolor": "white",
            "showbackground": true,
            "ticks": "",
            "zerolinecolor": "white"
           }
          },
          "shapedefaults": {
           "line": {
            "color": "#2a3f5f"
           }
          },
          "ternary": {
           "aaxis": {
            "gridcolor": "white",
            "linecolor": "white",
            "ticks": ""
           },
           "baxis": {
            "gridcolor": "white",
            "linecolor": "white",
            "ticks": ""
           },
           "bgcolor": "#E5ECF6",
           "caxis": {
            "gridcolor": "white",
            "linecolor": "white",
            "ticks": ""
           }
          },
          "title": {
           "x": 0.05
          },
          "xaxis": {
           "automargin": true,
           "gridcolor": "white",
           "linecolor": "white",
           "ticks": "",
           "title": {
            "standoff": 15
           },
           "zerolinecolor": "white",
           "zerolinewidth": 2
          },
          "yaxis": {
           "automargin": true,
           "gridcolor": "white",
           "linecolor": "white",
           "ticks": "",
           "title": {
            "standoff": 15
           },
           "zerolinecolor": "white",
           "zerolinewidth": 2
          }
         }
        },
        "title": {
         "text": "Distribution of Test Results"
        },
        "xaxis": {
         "title": {
          "text": "Test Results"
         }
        },
        "yaxis": {
         "title": {
          "text": "Count"
         }
        }
       }
      }
     },
     "metadata": {},
     "output_type": "display_data"
    }
   ],
   "source": [
    "# Define object-type columns\n",
    "object_columns = ['Gender', 'Blood Type', 'Medical Condition', 'Admission Type', 'Insurance Provider', \"Medication\", 'Test Results']\n",
    "\n",
    "# Define pastel color palette\n",
    "pastel_palette = px.colors.qualitative.Pastel\n",
    "\n",
    "# Plotly plots for object-type columns\n",
    "for col in object_columns:\n",
    "    fig = go.Figure()\n",
    "    for i, (category, count) in enumerate(data[col].value_counts().items()):\n",
    "        fig.add_trace(go.Bar(x=[col], y=[count], name=category, marker_color=pastel_palette[i]))\n",
    "    fig.update_layout(title=f'Distribution of {col}', xaxis_title=col, yaxis_title='Count')\n",
    "    fig.show()"
   ]
  },
  {
   "cell_type": "markdown",
   "metadata": {},
   "source": [
    "Bivariate Analysis"
   ]
  },
  {
   "cell_type": "code",
   "execution_count": 108,
   "metadata": {},
   "outputs": [
    {
     "data": {
      "application/vnd.plotly.v1+json": {
       "config": {
        "plotlyServerURL": "https://plot.ly"
       },
       "data": [
        {
         "alignmentgroup": "True",
         "hovertemplate": "Medication=Aspirin<br>Medical Condition=%{x}<br>Count=%{y}<extra></extra>",
         "legendgroup": "Aspirin",
         "marker": {
          "color": "#636efa",
          "pattern": {
           "shape": ""
          }
         },
         "name": "Aspirin",
         "offsetgroup": "Aspirin",
         "orientation": "v",
         "showlegend": true,
         "textposition": "auto",
         "type": "bar",
         "x": [
          "Arthritis",
          "Asthma",
          "Cancer",
          "Diabetes",
          "Hypertension",
          "Obesity"
         ],
         "xaxis": "x",
         "y": {
          "bdata": "QgFyASMBTwFIAUIB",
          "dtype": "i2"
         },
         "yaxis": "y"
        },
        {
         "alignmentgroup": "True",
         "hovertemplate": "Medication=Ibuprofen<br>Medical Condition=%{x}<br>Count=%{y}<extra></extra>",
         "legendgroup": "Ibuprofen",
         "marker": {
          "color": "#EF553B",
          "pattern": {
           "shape": ""
          }
         },
         "name": "Ibuprofen",
         "offsetgroup": "Ibuprofen",
         "orientation": "v",
         "showlegend": true,
         "textposition": "auto",
         "type": "bar",
         "x": [
          "Arthritis",
          "Asthma",
          "Cancer",
          "Diabetes",
          "Hypertension",
          "Obesity"
         ],
         "xaxis": "x",
         "y": {
          "bdata": "QAFUAWABLQFPAUgB",
          "dtype": "i2"
         },
         "yaxis": "y"
        },
        {
         "alignmentgroup": "True",
         "hovertemplate": "Medication=Lipitor<br>Medical Condition=%{x}<br>Count=%{y}<extra></extra>",
         "legendgroup": "Lipitor",
         "marker": {
          "color": "#00cc96",
          "pattern": {
           "shape": ""
          }
         },
         "name": "Lipitor",
         "offsetgroup": "Lipitor",
         "orientation": "v",
         "showlegend": true,
         "textposition": "auto",
         "type": "bar",
         "x": [
          "Arthritis",
          "Asthma",
          "Cancer",
          "Diabetes",
          "Hypertension",
          "Obesity"
         ],
         "xaxis": "x",
         "y": {
          "bdata": "PgFaAV4BRgFkAT8B",
          "dtype": "i2"
         },
         "yaxis": "y"
        },
        {
         "alignmentgroup": "True",
         "hovertemplate": "Medication=Paracetamol<br>Medical Condition=%{x}<br>Count=%{y}<extra></extra>",
         "legendgroup": "Paracetamol",
         "marker": {
          "color": "#ab63fa",
          "pattern": {
           "shape": ""
          }
         },
         "name": "Paracetamol",
         "offsetgroup": "Paracetamol",
         "orientation": "v",
         "showlegend": true,
         "textposition": "auto",
         "type": "bar",
         "x": [
          "Arthritis",
          "Asthma",
          "Cancer",
          "Diabetes",
          "Hypertension",
          "Obesity"
         ],
         "xaxis": "x",
         "y": {
          "bdata": "RAE2AVoBRwFDAUwB",
          "dtype": "i2"
         },
         "yaxis": "y"
        },
        {
         "alignmentgroup": "True",
         "hovertemplate": "Medication=Penicillin<br>Medical Condition=%{x}<br>Count=%{y}<extra></extra>",
         "legendgroup": "Penicillin",
         "marker": {
          "color": "#FFA15A",
          "pattern": {
           "shape": ""
          }
         },
         "name": "Penicillin",
         "offsetgroup": "Penicillin",
         "orientation": "v",
         "showlegend": true,
         "textposition": "auto",
         "type": "bar",
         "x": [
          "Arthritis",
          "Asthma",
          "Cancer",
          "Diabetes",
          "Hypertension",
          "Obesity"
         ],
         "xaxis": "x",
         "y": {
          "bdata": "bgFWAWwBTgFaAUcB",
          "dtype": "i2"
         },
         "yaxis": "y"
        }
       ],
       "layout": {
        "barmode": "group",
        "legend": {
         "title": {
          "text": "Medication"
         },
         "tracegroupgap": 0
        },
        "template": {
         "data": {
          "bar": [
           {
            "error_x": {
             "color": "#2a3f5f"
            },
            "error_y": {
             "color": "#2a3f5f"
            },
            "marker": {
             "line": {
              "color": "#E5ECF6",
              "width": 0.5
             },
             "pattern": {
              "fillmode": "overlay",
              "size": 10,
              "solidity": 0.2
             }
            },
            "type": "bar"
           }
          ],
          "barpolar": [
           {
            "marker": {
             "line": {
              "color": "#E5ECF6",
              "width": 0.5
             },
             "pattern": {
              "fillmode": "overlay",
              "size": 10,
              "solidity": 0.2
             }
            },
            "type": "barpolar"
           }
          ],
          "carpet": [
           {
            "aaxis": {
             "endlinecolor": "#2a3f5f",
             "gridcolor": "white",
             "linecolor": "white",
             "minorgridcolor": "white",
             "startlinecolor": "#2a3f5f"
            },
            "baxis": {
             "endlinecolor": "#2a3f5f",
             "gridcolor": "white",
             "linecolor": "white",
             "minorgridcolor": "white",
             "startlinecolor": "#2a3f5f"
            },
            "type": "carpet"
           }
          ],
          "choropleth": [
           {
            "colorbar": {
             "outlinewidth": 0,
             "ticks": ""
            },
            "type": "choropleth"
           }
          ],
          "contour": [
           {
            "colorbar": {
             "outlinewidth": 0,
             "ticks": ""
            },
            "colorscale": [
             [
              0,
              "#0d0887"
             ],
             [
              0.1111111111111111,
              "#46039f"
             ],
             [
              0.2222222222222222,
              "#7201a8"
             ],
             [
              0.3333333333333333,
              "#9c179e"
             ],
             [
              0.4444444444444444,
              "#bd3786"
             ],
             [
              0.5555555555555556,
              "#d8576b"
             ],
             [
              0.6666666666666666,
              "#ed7953"
             ],
             [
              0.7777777777777778,
              "#fb9f3a"
             ],
             [
              0.8888888888888888,
              "#fdca26"
             ],
             [
              1,
              "#f0f921"
             ]
            ],
            "type": "contour"
           }
          ],
          "contourcarpet": [
           {
            "colorbar": {
             "outlinewidth": 0,
             "ticks": ""
            },
            "type": "contourcarpet"
           }
          ],
          "heatmap": [
           {
            "colorbar": {
             "outlinewidth": 0,
             "ticks": ""
            },
            "colorscale": [
             [
              0,
              "#0d0887"
             ],
             [
              0.1111111111111111,
              "#46039f"
             ],
             [
              0.2222222222222222,
              "#7201a8"
             ],
             [
              0.3333333333333333,
              "#9c179e"
             ],
             [
              0.4444444444444444,
              "#bd3786"
             ],
             [
              0.5555555555555556,
              "#d8576b"
             ],
             [
              0.6666666666666666,
              "#ed7953"
             ],
             [
              0.7777777777777778,
              "#fb9f3a"
             ],
             [
              0.8888888888888888,
              "#fdca26"
             ],
             [
              1,
              "#f0f921"
             ]
            ],
            "type": "heatmap"
           }
          ],
          "histogram": [
           {
            "marker": {
             "pattern": {
              "fillmode": "overlay",
              "size": 10,
              "solidity": 0.2
             }
            },
            "type": "histogram"
           }
          ],
          "histogram2d": [
           {
            "colorbar": {
             "outlinewidth": 0,
             "ticks": ""
            },
            "colorscale": [
             [
              0,
              "#0d0887"
             ],
             [
              0.1111111111111111,
              "#46039f"
             ],
             [
              0.2222222222222222,
              "#7201a8"
             ],
             [
              0.3333333333333333,
              "#9c179e"
             ],
             [
              0.4444444444444444,
              "#bd3786"
             ],
             [
              0.5555555555555556,
              "#d8576b"
             ],
             [
              0.6666666666666666,
              "#ed7953"
             ],
             [
              0.7777777777777778,
              "#fb9f3a"
             ],
             [
              0.8888888888888888,
              "#fdca26"
             ],
             [
              1,
              "#f0f921"
             ]
            ],
            "type": "histogram2d"
           }
          ],
          "histogram2dcontour": [
           {
            "colorbar": {
             "outlinewidth": 0,
             "ticks": ""
            },
            "colorscale": [
             [
              0,
              "#0d0887"
             ],
             [
              0.1111111111111111,
              "#46039f"
             ],
             [
              0.2222222222222222,
              "#7201a8"
             ],
             [
              0.3333333333333333,
              "#9c179e"
             ],
             [
              0.4444444444444444,
              "#bd3786"
             ],
             [
              0.5555555555555556,
              "#d8576b"
             ],
             [
              0.6666666666666666,
              "#ed7953"
             ],
             [
              0.7777777777777778,
              "#fb9f3a"
             ],
             [
              0.8888888888888888,
              "#fdca26"
             ],
             [
              1,
              "#f0f921"
             ]
            ],
            "type": "histogram2dcontour"
           }
          ],
          "mesh3d": [
           {
            "colorbar": {
             "outlinewidth": 0,
             "ticks": ""
            },
            "type": "mesh3d"
           }
          ],
          "parcoords": [
           {
            "line": {
             "colorbar": {
              "outlinewidth": 0,
              "ticks": ""
             }
            },
            "type": "parcoords"
           }
          ],
          "pie": [
           {
            "automargin": true,
            "type": "pie"
           }
          ],
          "scatter": [
           {
            "fillpattern": {
             "fillmode": "overlay",
             "size": 10,
             "solidity": 0.2
            },
            "type": "scatter"
           }
          ],
          "scatter3d": [
           {
            "line": {
             "colorbar": {
              "outlinewidth": 0,
              "ticks": ""
             }
            },
            "marker": {
             "colorbar": {
              "outlinewidth": 0,
              "ticks": ""
             }
            },
            "type": "scatter3d"
           }
          ],
          "scattercarpet": [
           {
            "marker": {
             "colorbar": {
              "outlinewidth": 0,
              "ticks": ""
             }
            },
            "type": "scattercarpet"
           }
          ],
          "scattergeo": [
           {
            "marker": {
             "colorbar": {
              "outlinewidth": 0,
              "ticks": ""
             }
            },
            "type": "scattergeo"
           }
          ],
          "scattergl": [
           {
            "marker": {
             "colorbar": {
              "outlinewidth": 0,
              "ticks": ""
             }
            },
            "type": "scattergl"
           }
          ],
          "scattermap": [
           {
            "marker": {
             "colorbar": {
              "outlinewidth": 0,
              "ticks": ""
             }
            },
            "type": "scattermap"
           }
          ],
          "scattermapbox": [
           {
            "marker": {
             "colorbar": {
              "outlinewidth": 0,
              "ticks": ""
             }
            },
            "type": "scattermapbox"
           }
          ],
          "scatterpolar": [
           {
            "marker": {
             "colorbar": {
              "outlinewidth": 0,
              "ticks": ""
             }
            },
            "type": "scatterpolar"
           }
          ],
          "scatterpolargl": [
           {
            "marker": {
             "colorbar": {
              "outlinewidth": 0,
              "ticks": ""
             }
            },
            "type": "scatterpolargl"
           }
          ],
          "scatterternary": [
           {
            "marker": {
             "colorbar": {
              "outlinewidth": 0,
              "ticks": ""
             }
            },
            "type": "scatterternary"
           }
          ],
          "surface": [
           {
            "colorbar": {
             "outlinewidth": 0,
             "ticks": ""
            },
            "colorscale": [
             [
              0,
              "#0d0887"
             ],
             [
              0.1111111111111111,
              "#46039f"
             ],
             [
              0.2222222222222222,
              "#7201a8"
             ],
             [
              0.3333333333333333,
              "#9c179e"
             ],
             [
              0.4444444444444444,
              "#bd3786"
             ],
             [
              0.5555555555555556,
              "#d8576b"
             ],
             [
              0.6666666666666666,
              "#ed7953"
             ],
             [
              0.7777777777777778,
              "#fb9f3a"
             ],
             [
              0.8888888888888888,
              "#fdca26"
             ],
             [
              1,
              "#f0f921"
             ]
            ],
            "type": "surface"
           }
          ],
          "table": [
           {
            "cells": {
             "fill": {
              "color": "#EBF0F8"
             },
             "line": {
              "color": "white"
             }
            },
            "header": {
             "fill": {
              "color": "#C8D4E3"
             },
             "line": {
              "color": "white"
             }
            },
            "type": "table"
           }
          ]
         },
         "layout": {
          "annotationdefaults": {
           "arrowcolor": "#2a3f5f",
           "arrowhead": 0,
           "arrowwidth": 1
          },
          "autotypenumbers": "strict",
          "coloraxis": {
           "colorbar": {
            "outlinewidth": 0,
            "ticks": ""
           }
          },
          "colorscale": {
           "diverging": [
            [
             0,
             "#8e0152"
            ],
            [
             0.1,
             "#c51b7d"
            ],
            [
             0.2,
             "#de77ae"
            ],
            [
             0.3,
             "#f1b6da"
            ],
            [
             0.4,
             "#fde0ef"
            ],
            [
             0.5,
             "#f7f7f7"
            ],
            [
             0.6,
             "#e6f5d0"
            ],
            [
             0.7,
             "#b8e186"
            ],
            [
             0.8,
             "#7fbc41"
            ],
            [
             0.9,
             "#4d9221"
            ],
            [
             1,
             "#276419"
            ]
           ],
           "sequential": [
            [
             0,
             "#0d0887"
            ],
            [
             0.1111111111111111,
             "#46039f"
            ],
            [
             0.2222222222222222,
             "#7201a8"
            ],
            [
             0.3333333333333333,
             "#9c179e"
            ],
            [
             0.4444444444444444,
             "#bd3786"
            ],
            [
             0.5555555555555556,
             "#d8576b"
            ],
            [
             0.6666666666666666,
             "#ed7953"
            ],
            [
             0.7777777777777778,
             "#fb9f3a"
            ],
            [
             0.8888888888888888,
             "#fdca26"
            ],
            [
             1,
             "#f0f921"
            ]
           ],
           "sequentialminus": [
            [
             0,
             "#0d0887"
            ],
            [
             0.1111111111111111,
             "#46039f"
            ],
            [
             0.2222222222222222,
             "#7201a8"
            ],
            [
             0.3333333333333333,
             "#9c179e"
            ],
            [
             0.4444444444444444,
             "#bd3786"
            ],
            [
             0.5555555555555556,
             "#d8576b"
            ],
            [
             0.6666666666666666,
             "#ed7953"
            ],
            [
             0.7777777777777778,
             "#fb9f3a"
            ],
            [
             0.8888888888888888,
             "#fdca26"
            ],
            [
             1,
             "#f0f921"
            ]
           ]
          },
          "colorway": [
           "#636efa",
           "#EF553B",
           "#00cc96",
           "#ab63fa",
           "#FFA15A",
           "#19d3f3",
           "#FF6692",
           "#B6E880",
           "#FF97FF",
           "#FECB52"
          ],
          "font": {
           "color": "#2a3f5f"
          },
          "geo": {
           "bgcolor": "white",
           "lakecolor": "white",
           "landcolor": "#E5ECF6",
           "showlakes": true,
           "showland": true,
           "subunitcolor": "white"
          },
          "hoverlabel": {
           "align": "left"
          },
          "hovermode": "closest",
          "mapbox": {
           "style": "light"
          },
          "paper_bgcolor": "white",
          "plot_bgcolor": "#E5ECF6",
          "polar": {
           "angularaxis": {
            "gridcolor": "white",
            "linecolor": "white",
            "ticks": ""
           },
           "bgcolor": "#E5ECF6",
           "radialaxis": {
            "gridcolor": "white",
            "linecolor": "white",
            "ticks": ""
           }
          },
          "scene": {
           "xaxis": {
            "backgroundcolor": "#E5ECF6",
            "gridcolor": "white",
            "gridwidth": 2,
            "linecolor": "white",
            "showbackground": true,
            "ticks": "",
            "zerolinecolor": "white"
           },
           "yaxis": {
            "backgroundcolor": "#E5ECF6",
            "gridcolor": "white",
            "gridwidth": 2,
            "linecolor": "white",
            "showbackground": true,
            "ticks": "",
            "zerolinecolor": "white"
           },
           "zaxis": {
            "backgroundcolor": "#E5ECF6",
            "gridcolor": "white",
            "gridwidth": 2,
            "linecolor": "white",
            "showbackground": true,
            "ticks": "",
            "zerolinecolor": "white"
           }
          },
          "shapedefaults": {
           "line": {
            "color": "#2a3f5f"
           }
          },
          "ternary": {
           "aaxis": {
            "gridcolor": "white",
            "linecolor": "white",
            "ticks": ""
           },
           "baxis": {
            "gridcolor": "white",
            "linecolor": "white",
            "ticks": ""
           },
           "bgcolor": "#E5ECF6",
           "caxis": {
            "gridcolor": "white",
            "linecolor": "white",
            "ticks": ""
           }
          },
          "title": {
           "x": 0.05
          },
          "xaxis": {
           "automargin": true,
           "gridcolor": "white",
           "linecolor": "white",
           "ticks": "",
           "title": {
            "standoff": 15
           },
           "zerolinecolor": "white",
           "zerolinewidth": 2
          },
          "yaxis": {
           "automargin": true,
           "gridcolor": "white",
           "linecolor": "white",
           "ticks": "",
           "title": {
            "standoff": 15
           },
           "zerolinecolor": "white",
           "zerolinewidth": 2
          }
         }
        },
        "title": {
         "text": "Medication Distribution by Medical Condition"
        },
        "xaxis": {
         "anchor": "y",
         "domain": [
          0,
          1
         ],
         "title": {
          "text": "Medical Condition"
         }
        },
        "yaxis": {
         "anchor": "x",
         "domain": [
          0,
          1
         ],
         "title": {
          "text": "Count"
         }
        }
       }
      }
     },
     "metadata": {},
     "output_type": "display_data"
    }
   ],
   "source": [
    "# Group by 'Medical Condition' and 'Medication' and calculate the count for each combination\n",
    "grouped_df = data.groupby(['Medical Condition', 'Medication']).size().reset_index(name='Count')\n",
    "\n",
    "# Plot using Plotly Express\n",
    "fig = px.bar(grouped_df, x='Medical Condition', y='Count', color='Medication', barmode='group',\n",
    "             title='Medication Distribution by Medical Condition',\n",
    "             labels={'Count': 'Count', 'Medical Condition': 'Medical Condition', 'Medication': 'Medication'})\n",
    "fig.show()"
   ]
  },
  {
   "cell_type": "code",
   "execution_count": 109,
   "metadata": {},
   "outputs": [
    {
     "data": {
      "application/vnd.plotly.v1+json": {
       "config": {
        "plotlyServerURL": "https://plot.ly"
       },
       "data": [
        {
         "hovertemplate": "Gender=Female<br>Medical Condition=%{x}<br>Patient Count=%{y}<extra></extra>",
         "legendgroup": "Female",
         "marker": {
          "color": "rgb(102, 197, 204)",
          "pattern": {
           "shape": ""
          }
         },
         "name": "Female",
         "orientation": "v",
         "showlegend": true,
         "textposition": "auto",
         "type": "bar",
         "x": [
          "Arthritis",
          "Asthma",
          "Cancer",
          "Diabetes",
          "Hypertension",
          "Obesity"
         ],
         "xaxis": "x",
         "y": {
          "bdata": "LwNqA3cDOQNEA0YD",
          "dtype": "i2"
         },
         "yaxis": "y"
        },
        {
         "hovertemplate": "Gender=Male<br>Medical Condition=%{x}<br>Patient Count=%{y}<extra></extra>",
         "legendgroup": "Male",
         "marker": {
          "color": "rgb(246, 207, 113)",
          "pattern": {
           "shape": ""
          }
         },
         "name": "Male",
         "orientation": "v",
         "showlegend": true,
         "textposition": "auto",
         "type": "bar",
         "x": [
          "Arthritis",
          "Asthma",
          "Cancer",
          "Diabetes",
          "Hypertension",
          "Obesity"
         ],
         "xaxis": "x",
         "y": {
          "bdata": "QwNCAzADHgNUAxYD",
          "dtype": "i2"
         },
         "yaxis": "y"
        }
       ],
       "layout": {
        "barmode": "relative",
        "legend": {
         "title": {
          "text": "Gender"
         },
         "tracegroupgap": 0
        },
        "template": {
         "data": {
          "bar": [
           {
            "error_x": {
             "color": "#2a3f5f"
            },
            "error_y": {
             "color": "#2a3f5f"
            },
            "marker": {
             "line": {
              "color": "#E5ECF6",
              "width": 0.5
             },
             "pattern": {
              "fillmode": "overlay",
              "size": 10,
              "solidity": 0.2
             }
            },
            "type": "bar"
           }
          ],
          "barpolar": [
           {
            "marker": {
             "line": {
              "color": "#E5ECF6",
              "width": 0.5
             },
             "pattern": {
              "fillmode": "overlay",
              "size": 10,
              "solidity": 0.2
             }
            },
            "type": "barpolar"
           }
          ],
          "carpet": [
           {
            "aaxis": {
             "endlinecolor": "#2a3f5f",
             "gridcolor": "white",
             "linecolor": "white",
             "minorgridcolor": "white",
             "startlinecolor": "#2a3f5f"
            },
            "baxis": {
             "endlinecolor": "#2a3f5f",
             "gridcolor": "white",
             "linecolor": "white",
             "minorgridcolor": "white",
             "startlinecolor": "#2a3f5f"
            },
            "type": "carpet"
           }
          ],
          "choropleth": [
           {
            "colorbar": {
             "outlinewidth": 0,
             "ticks": ""
            },
            "type": "choropleth"
           }
          ],
          "contour": [
           {
            "colorbar": {
             "outlinewidth": 0,
             "ticks": ""
            },
            "colorscale": [
             [
              0,
              "#0d0887"
             ],
             [
              0.1111111111111111,
              "#46039f"
             ],
             [
              0.2222222222222222,
              "#7201a8"
             ],
             [
              0.3333333333333333,
              "#9c179e"
             ],
             [
              0.4444444444444444,
              "#bd3786"
             ],
             [
              0.5555555555555556,
              "#d8576b"
             ],
             [
              0.6666666666666666,
              "#ed7953"
             ],
             [
              0.7777777777777778,
              "#fb9f3a"
             ],
             [
              0.8888888888888888,
              "#fdca26"
             ],
             [
              1,
              "#f0f921"
             ]
            ],
            "type": "contour"
           }
          ],
          "contourcarpet": [
           {
            "colorbar": {
             "outlinewidth": 0,
             "ticks": ""
            },
            "type": "contourcarpet"
           }
          ],
          "heatmap": [
           {
            "colorbar": {
             "outlinewidth": 0,
             "ticks": ""
            },
            "colorscale": [
             [
              0,
              "#0d0887"
             ],
             [
              0.1111111111111111,
              "#46039f"
             ],
             [
              0.2222222222222222,
              "#7201a8"
             ],
             [
              0.3333333333333333,
              "#9c179e"
             ],
             [
              0.4444444444444444,
              "#bd3786"
             ],
             [
              0.5555555555555556,
              "#d8576b"
             ],
             [
              0.6666666666666666,
              "#ed7953"
             ],
             [
              0.7777777777777778,
              "#fb9f3a"
             ],
             [
              0.8888888888888888,
              "#fdca26"
             ],
             [
              1,
              "#f0f921"
             ]
            ],
            "type": "heatmap"
           }
          ],
          "histogram": [
           {
            "marker": {
             "pattern": {
              "fillmode": "overlay",
              "size": 10,
              "solidity": 0.2
             }
            },
            "type": "histogram"
           }
          ],
          "histogram2d": [
           {
            "colorbar": {
             "outlinewidth": 0,
             "ticks": ""
            },
            "colorscale": [
             [
              0,
              "#0d0887"
             ],
             [
              0.1111111111111111,
              "#46039f"
             ],
             [
              0.2222222222222222,
              "#7201a8"
             ],
             [
              0.3333333333333333,
              "#9c179e"
             ],
             [
              0.4444444444444444,
              "#bd3786"
             ],
             [
              0.5555555555555556,
              "#d8576b"
             ],
             [
              0.6666666666666666,
              "#ed7953"
             ],
             [
              0.7777777777777778,
              "#fb9f3a"
             ],
             [
              0.8888888888888888,
              "#fdca26"
             ],
             [
              1,
              "#f0f921"
             ]
            ],
            "type": "histogram2d"
           }
          ],
          "histogram2dcontour": [
           {
            "colorbar": {
             "outlinewidth": 0,
             "ticks": ""
            },
            "colorscale": [
             [
              0,
              "#0d0887"
             ],
             [
              0.1111111111111111,
              "#46039f"
             ],
             [
              0.2222222222222222,
              "#7201a8"
             ],
             [
              0.3333333333333333,
              "#9c179e"
             ],
             [
              0.4444444444444444,
              "#bd3786"
             ],
             [
              0.5555555555555556,
              "#d8576b"
             ],
             [
              0.6666666666666666,
              "#ed7953"
             ],
             [
              0.7777777777777778,
              "#fb9f3a"
             ],
             [
              0.8888888888888888,
              "#fdca26"
             ],
             [
              1,
              "#f0f921"
             ]
            ],
            "type": "histogram2dcontour"
           }
          ],
          "mesh3d": [
           {
            "colorbar": {
             "outlinewidth": 0,
             "ticks": ""
            },
            "type": "mesh3d"
           }
          ],
          "parcoords": [
           {
            "line": {
             "colorbar": {
              "outlinewidth": 0,
              "ticks": ""
             }
            },
            "type": "parcoords"
           }
          ],
          "pie": [
           {
            "automargin": true,
            "type": "pie"
           }
          ],
          "scatter": [
           {
            "fillpattern": {
             "fillmode": "overlay",
             "size": 10,
             "solidity": 0.2
            },
            "type": "scatter"
           }
          ],
          "scatter3d": [
           {
            "line": {
             "colorbar": {
              "outlinewidth": 0,
              "ticks": ""
             }
            },
            "marker": {
             "colorbar": {
              "outlinewidth": 0,
              "ticks": ""
             }
            },
            "type": "scatter3d"
           }
          ],
          "scattercarpet": [
           {
            "marker": {
             "colorbar": {
              "outlinewidth": 0,
              "ticks": ""
             }
            },
            "type": "scattercarpet"
           }
          ],
          "scattergeo": [
           {
            "marker": {
             "colorbar": {
              "outlinewidth": 0,
              "ticks": ""
             }
            },
            "type": "scattergeo"
           }
          ],
          "scattergl": [
           {
            "marker": {
             "colorbar": {
              "outlinewidth": 0,
              "ticks": ""
             }
            },
            "type": "scattergl"
           }
          ],
          "scattermap": [
           {
            "marker": {
             "colorbar": {
              "outlinewidth": 0,
              "ticks": ""
             }
            },
            "type": "scattermap"
           }
          ],
          "scattermapbox": [
           {
            "marker": {
             "colorbar": {
              "outlinewidth": 0,
              "ticks": ""
             }
            },
            "type": "scattermapbox"
           }
          ],
          "scatterpolar": [
           {
            "marker": {
             "colorbar": {
              "outlinewidth": 0,
              "ticks": ""
             }
            },
            "type": "scatterpolar"
           }
          ],
          "scatterpolargl": [
           {
            "marker": {
             "colorbar": {
              "outlinewidth": 0,
              "ticks": ""
             }
            },
            "type": "scatterpolargl"
           }
          ],
          "scatterternary": [
           {
            "marker": {
             "colorbar": {
              "outlinewidth": 0,
              "ticks": ""
             }
            },
            "type": "scatterternary"
           }
          ],
          "surface": [
           {
            "colorbar": {
             "outlinewidth": 0,
             "ticks": ""
            },
            "colorscale": [
             [
              0,
              "#0d0887"
             ],
             [
              0.1111111111111111,
              "#46039f"
             ],
             [
              0.2222222222222222,
              "#7201a8"
             ],
             [
              0.3333333333333333,
              "#9c179e"
             ],
             [
              0.4444444444444444,
              "#bd3786"
             ],
             [
              0.5555555555555556,
              "#d8576b"
             ],
             [
              0.6666666666666666,
              "#ed7953"
             ],
             [
              0.7777777777777778,
              "#fb9f3a"
             ],
             [
              0.8888888888888888,
              "#fdca26"
             ],
             [
              1,
              "#f0f921"
             ]
            ],
            "type": "surface"
           }
          ],
          "table": [
           {
            "cells": {
             "fill": {
              "color": "#EBF0F8"
             },
             "line": {
              "color": "white"
             }
            },
            "header": {
             "fill": {
              "color": "#C8D4E3"
             },
             "line": {
              "color": "white"
             }
            },
            "type": "table"
           }
          ]
         },
         "layout": {
          "annotationdefaults": {
           "arrowcolor": "#2a3f5f",
           "arrowhead": 0,
           "arrowwidth": 1
          },
          "autotypenumbers": "strict",
          "coloraxis": {
           "colorbar": {
            "outlinewidth": 0,
            "ticks": ""
           }
          },
          "colorscale": {
           "diverging": [
            [
             0,
             "#8e0152"
            ],
            [
             0.1,
             "#c51b7d"
            ],
            [
             0.2,
             "#de77ae"
            ],
            [
             0.3,
             "#f1b6da"
            ],
            [
             0.4,
             "#fde0ef"
            ],
            [
             0.5,
             "#f7f7f7"
            ],
            [
             0.6,
             "#e6f5d0"
            ],
            [
             0.7,
             "#b8e186"
            ],
            [
             0.8,
             "#7fbc41"
            ],
            [
             0.9,
             "#4d9221"
            ],
            [
             1,
             "#276419"
            ]
           ],
           "sequential": [
            [
             0,
             "#0d0887"
            ],
            [
             0.1111111111111111,
             "#46039f"
            ],
            [
             0.2222222222222222,
             "#7201a8"
            ],
            [
             0.3333333333333333,
             "#9c179e"
            ],
            [
             0.4444444444444444,
             "#bd3786"
            ],
            [
             0.5555555555555556,
             "#d8576b"
            ],
            [
             0.6666666666666666,
             "#ed7953"
            ],
            [
             0.7777777777777778,
             "#fb9f3a"
            ],
            [
             0.8888888888888888,
             "#fdca26"
            ],
            [
             1,
             "#f0f921"
            ]
           ],
           "sequentialminus": [
            [
             0,
             "#0d0887"
            ],
            [
             0.1111111111111111,
             "#46039f"
            ],
            [
             0.2222222222222222,
             "#7201a8"
            ],
            [
             0.3333333333333333,
             "#9c179e"
            ],
            [
             0.4444444444444444,
             "#bd3786"
            ],
            [
             0.5555555555555556,
             "#d8576b"
            ],
            [
             0.6666666666666666,
             "#ed7953"
            ],
            [
             0.7777777777777778,
             "#fb9f3a"
            ],
            [
             0.8888888888888888,
             "#fdca26"
            ],
            [
             1,
             "#f0f921"
            ]
           ]
          },
          "colorway": [
           "#636efa",
           "#EF553B",
           "#00cc96",
           "#ab63fa",
           "#FFA15A",
           "#19d3f3",
           "#FF6692",
           "#B6E880",
           "#FF97FF",
           "#FECB52"
          ],
          "font": {
           "color": "#2a3f5f"
          },
          "geo": {
           "bgcolor": "white",
           "lakecolor": "white",
           "landcolor": "#E5ECF6",
           "showlakes": true,
           "showland": true,
           "subunitcolor": "white"
          },
          "hoverlabel": {
           "align": "left"
          },
          "hovermode": "closest",
          "mapbox": {
           "style": "light"
          },
          "paper_bgcolor": "white",
          "plot_bgcolor": "#E5ECF6",
          "polar": {
           "angularaxis": {
            "gridcolor": "white",
            "linecolor": "white",
            "ticks": ""
           },
           "bgcolor": "#E5ECF6",
           "radialaxis": {
            "gridcolor": "white",
            "linecolor": "white",
            "ticks": ""
           }
          },
          "scene": {
           "xaxis": {
            "backgroundcolor": "#E5ECF6",
            "gridcolor": "white",
            "gridwidth": 2,
            "linecolor": "white",
            "showbackground": true,
            "ticks": "",
            "zerolinecolor": "white"
           },
           "yaxis": {
            "backgroundcolor": "#E5ECF6",
            "gridcolor": "white",
            "gridwidth": 2,
            "linecolor": "white",
            "showbackground": true,
            "ticks": "",
            "zerolinecolor": "white"
           },
           "zaxis": {
            "backgroundcolor": "#E5ECF6",
            "gridcolor": "white",
            "gridwidth": 2,
            "linecolor": "white",
            "showbackground": true,
            "ticks": "",
            "zerolinecolor": "white"
           }
          },
          "shapedefaults": {
           "line": {
            "color": "#2a3f5f"
           }
          },
          "ternary": {
           "aaxis": {
            "gridcolor": "white",
            "linecolor": "white",
            "ticks": ""
           },
           "baxis": {
            "gridcolor": "white",
            "linecolor": "white",
            "ticks": ""
           },
           "bgcolor": "#E5ECF6",
           "caxis": {
            "gridcolor": "white",
            "linecolor": "white",
            "ticks": ""
           }
          },
          "title": {
           "x": 0.05
          },
          "xaxis": {
           "automargin": true,
           "gridcolor": "white",
           "linecolor": "white",
           "ticks": "",
           "title": {
            "standoff": 15
           },
           "zerolinecolor": "white",
           "zerolinewidth": 2
          },
          "yaxis": {
           "automargin": true,
           "gridcolor": "white",
           "linecolor": "white",
           "ticks": "",
           "title": {
            "standoff": 15
           },
           "zerolinecolor": "white",
           "zerolinewidth": 2
          }
         }
        },
        "title": {
         "text": "Patient Count by Gender and Medical Condition"
        },
        "xaxis": {
         "anchor": "y",
         "domain": [
          0,
          1
         ],
         "title": {
          "text": "Medical Condition"
         }
        },
        "yaxis": {
         "anchor": "x",
         "domain": [
          0,
          1
         ],
         "title": {
          "text": "Patient Count"
         }
        }
       }
      }
     },
     "metadata": {},
     "output_type": "display_data"
    }
   ],
   "source": [
    "# Group 'Sex' by 'Medical Condition' and calculate the count for each combination\n",
    "sex_by_condition = data.groupby(['Medical Condition', 'Gender']).size().reset_index(name='Count')\n",
    "\n",
    "# Plot using Plotly Express with different color palettes\n",
    "fig = px.bar(sex_by_condition, x='Medical Condition', y='Count', color='Gender',\n",
    "             title='Patient Count by Gender and Medical Condition',\n",
    "             labels={'Count': 'Patient Count', 'Medical Condition': 'Medical Condition', 'Gender': 'Gender'},\n",
    "             color_discrete_sequence=px.colors.qualitative.Pastel)\n",
    "fig.show()"
   ]
  },
  {
   "cell_type": "code",
   "execution_count": 110,
   "metadata": {},
   "outputs": [
    {
     "data": {
      "application/vnd.plotly.v1+json": {
       "config": {
        "plotlyServerURL": "https://plot.ly"
       },
       "data": [
        {
         "alignmentgroup": "True",
         "hovertemplate": "Medical Condition=Arthritis<br>Blood Type=%{x}<br>Patient Count=%{y}<extra></extra>",
         "legendgroup": "Arthritis",
         "marker": {
          "color": "#636efa",
          "pattern": {
           "shape": ""
          }
         },
         "name": "Arthritis",
         "offsetgroup": "Arthritis",
         "orientation": "v",
         "showlegend": true,
         "textposition": "auto",
         "type": "bar",
         "x": [
          "A+",
          "A-",
          "AB+",
          "AB-",
          "B+",
          "B-",
          "O+",
          "O-"
         ],
         "xaxis": "x",
         "y": {
          "bdata": "ygDKANsAzADEALoA4QDYAA==",
          "dtype": "i2"
         },
         "yaxis": "y"
        },
        {
         "alignmentgroup": "True",
         "hovertemplate": "Medical Condition=Asthma<br>Blood Type=%{x}<br>Patient Count=%{y}<extra></extra>",
         "legendgroup": "Asthma",
         "marker": {
          "color": "#EF553B",
          "pattern": {
           "shape": ""
          }
         },
         "name": "Asthma",
         "offsetgroup": "Asthma",
         "orientation": "v",
         "showlegend": true,
         "textposition": "auto",
         "type": "bar",
         "x": [
          "A+",
          "A-",
          "AB+",
          "AB-",
          "B+",
          "B-",
          "O+",
          "O-"
         ],
         "xaxis": "x",
         "y": {
          "bdata": "3ADQAMcA0gDZANoA4wDRAA==",
          "dtype": "i2"
         },
         "yaxis": "y"
        },
        {
         "alignmentgroup": "True",
         "hovertemplate": "Medical Condition=Cancer<br>Blood Type=%{x}<br>Patient Count=%{y}<extra></extra>",
         "legendgroup": "Cancer",
         "marker": {
          "color": "#00cc96",
          "pattern": {
           "shape": ""
          }
         },
         "name": "Cancer",
         "offsetgroup": "Cancer",
         "orientation": "v",
         "showlegend": true,
         "textposition": "auto",
         "type": "bar",
         "x": [
          "A+",
          "A-",
          "AB+",
          "AB-",
          "B+",
          "B-",
          "O+",
          "O-"
         ],
         "xaxis": "x",
         "y": {
          "bdata": "2wDaANAAwwDWAN0A4ADMAA==",
          "dtype": "i2"
         },
         "yaxis": "y"
        },
        {
         "alignmentgroup": "True",
         "hovertemplate": "Medical Condition=Diabetes<br>Blood Type=%{x}<br>Patient Count=%{y}<extra></extra>",
         "legendgroup": "Diabetes",
         "marker": {
          "color": "#ab63fa",
          "pattern": {
           "shape": ""
          }
         },
         "name": "Diabetes",
         "offsetgroup": "Diabetes",
         "orientation": "v",
         "showlegend": true,
         "textposition": "auto",
         "type": "bar",
         "x": [
          "A+",
          "A-",
          "AB+",
          "AB-",
          "B+",
          "B-",
          "O+",
          "O-"
         ],
         "xaxis": "x",
         "y": {
          "bdata": "xQDOAM8A1gDPAN0ArgDFAA==",
          "dtype": "i2"
         },
         "yaxis": "y"
        },
        {
         "alignmentgroup": "True",
         "hovertemplate": "Medical Condition=Hypertension<br>Blood Type=%{x}<br>Patient Count=%{y}<extra></extra>",
         "legendgroup": "Hypertension",
         "marker": {
          "color": "#FFA15A",
          "pattern": {
           "shape": ""
          }
         },
         "name": "Hypertension",
         "offsetgroup": "Hypertension",
         "orientation": "v",
         "showlegend": true,
         "textposition": "auto",
         "type": "bar",
         "x": [
          "A+",
          "A-",
          "AB+",
          "AB-",
          "B+",
          "B-",
          "O+",
          "O-"
         ],
         "xaxis": "x",
         "y": {
          "bdata": "1QDUANMA4QDTAMQA0QDTAA==",
          "dtype": "i2"
         },
         "yaxis": "y"
        },
        {
         "alignmentgroup": "True",
         "hovertemplate": "Medical Condition=Obesity<br>Blood Type=%{x}<br>Patient Count=%{y}<extra></extra>",
         "legendgroup": "Obesity",
         "marker": {
          "color": "#19d3f3",
          "pattern": {
           "shape": ""
          }
         },
         "name": "Obesity",
         "offsetgroup": "Obesity",
         "orientation": "v",
         "showlegend": true,
         "textposition": "auto",
         "type": "bar",
         "x": [
          "A+",
          "A-",
          "AB+",
          "AB-",
          "B+",
          "B-",
          "O+",
          "O-"
         ],
         "xaxis": "x",
         "y": {
          "bdata": "vgDAANYA4wDHANIAvQDPAA==",
          "dtype": "i2"
         },
         "yaxis": "y"
        }
       ],
       "layout": {
        "barmode": "group",
        "legend": {
         "title": {
          "text": "Medical Condition"
         },
         "tracegroupgap": 0
        },
        "template": {
         "data": {
          "bar": [
           {
            "error_x": {
             "color": "#2a3f5f"
            },
            "error_y": {
             "color": "#2a3f5f"
            },
            "marker": {
             "line": {
              "color": "#E5ECF6",
              "width": 0.5
             },
             "pattern": {
              "fillmode": "overlay",
              "size": 10,
              "solidity": 0.2
             }
            },
            "type": "bar"
           }
          ],
          "barpolar": [
           {
            "marker": {
             "line": {
              "color": "#E5ECF6",
              "width": 0.5
             },
             "pattern": {
              "fillmode": "overlay",
              "size": 10,
              "solidity": 0.2
             }
            },
            "type": "barpolar"
           }
          ],
          "carpet": [
           {
            "aaxis": {
             "endlinecolor": "#2a3f5f",
             "gridcolor": "white",
             "linecolor": "white",
             "minorgridcolor": "white",
             "startlinecolor": "#2a3f5f"
            },
            "baxis": {
             "endlinecolor": "#2a3f5f",
             "gridcolor": "white",
             "linecolor": "white",
             "minorgridcolor": "white",
             "startlinecolor": "#2a3f5f"
            },
            "type": "carpet"
           }
          ],
          "choropleth": [
           {
            "colorbar": {
             "outlinewidth": 0,
             "ticks": ""
            },
            "type": "choropleth"
           }
          ],
          "contour": [
           {
            "colorbar": {
             "outlinewidth": 0,
             "ticks": ""
            },
            "colorscale": [
             [
              0,
              "#0d0887"
             ],
             [
              0.1111111111111111,
              "#46039f"
             ],
             [
              0.2222222222222222,
              "#7201a8"
             ],
             [
              0.3333333333333333,
              "#9c179e"
             ],
             [
              0.4444444444444444,
              "#bd3786"
             ],
             [
              0.5555555555555556,
              "#d8576b"
             ],
             [
              0.6666666666666666,
              "#ed7953"
             ],
             [
              0.7777777777777778,
              "#fb9f3a"
             ],
             [
              0.8888888888888888,
              "#fdca26"
             ],
             [
              1,
              "#f0f921"
             ]
            ],
            "type": "contour"
           }
          ],
          "contourcarpet": [
           {
            "colorbar": {
             "outlinewidth": 0,
             "ticks": ""
            },
            "type": "contourcarpet"
           }
          ],
          "heatmap": [
           {
            "colorbar": {
             "outlinewidth": 0,
             "ticks": ""
            },
            "colorscale": [
             [
              0,
              "#0d0887"
             ],
             [
              0.1111111111111111,
              "#46039f"
             ],
             [
              0.2222222222222222,
              "#7201a8"
             ],
             [
              0.3333333333333333,
              "#9c179e"
             ],
             [
              0.4444444444444444,
              "#bd3786"
             ],
             [
              0.5555555555555556,
              "#d8576b"
             ],
             [
              0.6666666666666666,
              "#ed7953"
             ],
             [
              0.7777777777777778,
              "#fb9f3a"
             ],
             [
              0.8888888888888888,
              "#fdca26"
             ],
             [
              1,
              "#f0f921"
             ]
            ],
            "type": "heatmap"
           }
          ],
          "histogram": [
           {
            "marker": {
             "pattern": {
              "fillmode": "overlay",
              "size": 10,
              "solidity": 0.2
             }
            },
            "type": "histogram"
           }
          ],
          "histogram2d": [
           {
            "colorbar": {
             "outlinewidth": 0,
             "ticks": ""
            },
            "colorscale": [
             [
              0,
              "#0d0887"
             ],
             [
              0.1111111111111111,
              "#46039f"
             ],
             [
              0.2222222222222222,
              "#7201a8"
             ],
             [
              0.3333333333333333,
              "#9c179e"
             ],
             [
              0.4444444444444444,
              "#bd3786"
             ],
             [
              0.5555555555555556,
              "#d8576b"
             ],
             [
              0.6666666666666666,
              "#ed7953"
             ],
             [
              0.7777777777777778,
              "#fb9f3a"
             ],
             [
              0.8888888888888888,
              "#fdca26"
             ],
             [
              1,
              "#f0f921"
             ]
            ],
            "type": "histogram2d"
           }
          ],
          "histogram2dcontour": [
           {
            "colorbar": {
             "outlinewidth": 0,
             "ticks": ""
            },
            "colorscale": [
             [
              0,
              "#0d0887"
             ],
             [
              0.1111111111111111,
              "#46039f"
             ],
             [
              0.2222222222222222,
              "#7201a8"
             ],
             [
              0.3333333333333333,
              "#9c179e"
             ],
             [
              0.4444444444444444,
              "#bd3786"
             ],
             [
              0.5555555555555556,
              "#d8576b"
             ],
             [
              0.6666666666666666,
              "#ed7953"
             ],
             [
              0.7777777777777778,
              "#fb9f3a"
             ],
             [
              0.8888888888888888,
              "#fdca26"
             ],
             [
              1,
              "#f0f921"
             ]
            ],
            "type": "histogram2dcontour"
           }
          ],
          "mesh3d": [
           {
            "colorbar": {
             "outlinewidth": 0,
             "ticks": ""
            },
            "type": "mesh3d"
           }
          ],
          "parcoords": [
           {
            "line": {
             "colorbar": {
              "outlinewidth": 0,
              "ticks": ""
             }
            },
            "type": "parcoords"
           }
          ],
          "pie": [
           {
            "automargin": true,
            "type": "pie"
           }
          ],
          "scatter": [
           {
            "fillpattern": {
             "fillmode": "overlay",
             "size": 10,
             "solidity": 0.2
            },
            "type": "scatter"
           }
          ],
          "scatter3d": [
           {
            "line": {
             "colorbar": {
              "outlinewidth": 0,
              "ticks": ""
             }
            },
            "marker": {
             "colorbar": {
              "outlinewidth": 0,
              "ticks": ""
             }
            },
            "type": "scatter3d"
           }
          ],
          "scattercarpet": [
           {
            "marker": {
             "colorbar": {
              "outlinewidth": 0,
              "ticks": ""
             }
            },
            "type": "scattercarpet"
           }
          ],
          "scattergeo": [
           {
            "marker": {
             "colorbar": {
              "outlinewidth": 0,
              "ticks": ""
             }
            },
            "type": "scattergeo"
           }
          ],
          "scattergl": [
           {
            "marker": {
             "colorbar": {
              "outlinewidth": 0,
              "ticks": ""
             }
            },
            "type": "scattergl"
           }
          ],
          "scattermap": [
           {
            "marker": {
             "colorbar": {
              "outlinewidth": 0,
              "ticks": ""
             }
            },
            "type": "scattermap"
           }
          ],
          "scattermapbox": [
           {
            "marker": {
             "colorbar": {
              "outlinewidth": 0,
              "ticks": ""
             }
            },
            "type": "scattermapbox"
           }
          ],
          "scatterpolar": [
           {
            "marker": {
             "colorbar": {
              "outlinewidth": 0,
              "ticks": ""
             }
            },
            "type": "scatterpolar"
           }
          ],
          "scatterpolargl": [
           {
            "marker": {
             "colorbar": {
              "outlinewidth": 0,
              "ticks": ""
             }
            },
            "type": "scatterpolargl"
           }
          ],
          "scatterternary": [
           {
            "marker": {
             "colorbar": {
              "outlinewidth": 0,
              "ticks": ""
             }
            },
            "type": "scatterternary"
           }
          ],
          "surface": [
           {
            "colorbar": {
             "outlinewidth": 0,
             "ticks": ""
            },
            "colorscale": [
             [
              0,
              "#0d0887"
             ],
             [
              0.1111111111111111,
              "#46039f"
             ],
             [
              0.2222222222222222,
              "#7201a8"
             ],
             [
              0.3333333333333333,
              "#9c179e"
             ],
             [
              0.4444444444444444,
              "#bd3786"
             ],
             [
              0.5555555555555556,
              "#d8576b"
             ],
             [
              0.6666666666666666,
              "#ed7953"
             ],
             [
              0.7777777777777778,
              "#fb9f3a"
             ],
             [
              0.8888888888888888,
              "#fdca26"
             ],
             [
              1,
              "#f0f921"
             ]
            ],
            "type": "surface"
           }
          ],
          "table": [
           {
            "cells": {
             "fill": {
              "color": "#EBF0F8"
             },
             "line": {
              "color": "white"
             }
            },
            "header": {
             "fill": {
              "color": "#C8D4E3"
             },
             "line": {
              "color": "white"
             }
            },
            "type": "table"
           }
          ]
         },
         "layout": {
          "annotationdefaults": {
           "arrowcolor": "#2a3f5f",
           "arrowhead": 0,
           "arrowwidth": 1
          },
          "autotypenumbers": "strict",
          "coloraxis": {
           "colorbar": {
            "outlinewidth": 0,
            "ticks": ""
           }
          },
          "colorscale": {
           "diverging": [
            [
             0,
             "#8e0152"
            ],
            [
             0.1,
             "#c51b7d"
            ],
            [
             0.2,
             "#de77ae"
            ],
            [
             0.3,
             "#f1b6da"
            ],
            [
             0.4,
             "#fde0ef"
            ],
            [
             0.5,
             "#f7f7f7"
            ],
            [
             0.6,
             "#e6f5d0"
            ],
            [
             0.7,
             "#b8e186"
            ],
            [
             0.8,
             "#7fbc41"
            ],
            [
             0.9,
             "#4d9221"
            ],
            [
             1,
             "#276419"
            ]
           ],
           "sequential": [
            [
             0,
             "#0d0887"
            ],
            [
             0.1111111111111111,
             "#46039f"
            ],
            [
             0.2222222222222222,
             "#7201a8"
            ],
            [
             0.3333333333333333,
             "#9c179e"
            ],
            [
             0.4444444444444444,
             "#bd3786"
            ],
            [
             0.5555555555555556,
             "#d8576b"
            ],
            [
             0.6666666666666666,
             "#ed7953"
            ],
            [
             0.7777777777777778,
             "#fb9f3a"
            ],
            [
             0.8888888888888888,
             "#fdca26"
            ],
            [
             1,
             "#f0f921"
            ]
           ],
           "sequentialminus": [
            [
             0,
             "#0d0887"
            ],
            [
             0.1111111111111111,
             "#46039f"
            ],
            [
             0.2222222222222222,
             "#7201a8"
            ],
            [
             0.3333333333333333,
             "#9c179e"
            ],
            [
             0.4444444444444444,
             "#bd3786"
            ],
            [
             0.5555555555555556,
             "#d8576b"
            ],
            [
             0.6666666666666666,
             "#ed7953"
            ],
            [
             0.7777777777777778,
             "#fb9f3a"
            ],
            [
             0.8888888888888888,
             "#fdca26"
            ],
            [
             1,
             "#f0f921"
            ]
           ]
          },
          "colorway": [
           "#636efa",
           "#EF553B",
           "#00cc96",
           "#ab63fa",
           "#FFA15A",
           "#19d3f3",
           "#FF6692",
           "#B6E880",
           "#FF97FF",
           "#FECB52"
          ],
          "font": {
           "color": "#2a3f5f"
          },
          "geo": {
           "bgcolor": "white",
           "lakecolor": "white",
           "landcolor": "#E5ECF6",
           "showlakes": true,
           "showland": true,
           "subunitcolor": "white"
          },
          "hoverlabel": {
           "align": "left"
          },
          "hovermode": "closest",
          "mapbox": {
           "style": "light"
          },
          "paper_bgcolor": "white",
          "plot_bgcolor": "#E5ECF6",
          "polar": {
           "angularaxis": {
            "gridcolor": "white",
            "linecolor": "white",
            "ticks": ""
           },
           "bgcolor": "#E5ECF6",
           "radialaxis": {
            "gridcolor": "white",
            "linecolor": "white",
            "ticks": ""
           }
          },
          "scene": {
           "xaxis": {
            "backgroundcolor": "#E5ECF6",
            "gridcolor": "white",
            "gridwidth": 2,
            "linecolor": "white",
            "showbackground": true,
            "ticks": "",
            "zerolinecolor": "white"
           },
           "yaxis": {
            "backgroundcolor": "#E5ECF6",
            "gridcolor": "white",
            "gridwidth": 2,
            "linecolor": "white",
            "showbackground": true,
            "ticks": "",
            "zerolinecolor": "white"
           },
           "zaxis": {
            "backgroundcolor": "#E5ECF6",
            "gridcolor": "white",
            "gridwidth": 2,
            "linecolor": "white",
            "showbackground": true,
            "ticks": "",
            "zerolinecolor": "white"
           }
          },
          "shapedefaults": {
           "line": {
            "color": "#2a3f5f"
           }
          },
          "ternary": {
           "aaxis": {
            "gridcolor": "white",
            "linecolor": "white",
            "ticks": ""
           },
           "baxis": {
            "gridcolor": "white",
            "linecolor": "white",
            "ticks": ""
           },
           "bgcolor": "#E5ECF6",
           "caxis": {
            "gridcolor": "white",
            "linecolor": "white",
            "ticks": ""
           }
          },
          "title": {
           "x": 0.05
          },
          "xaxis": {
           "automargin": true,
           "gridcolor": "white",
           "linecolor": "white",
           "ticks": "",
           "title": {
            "standoff": 15
           },
           "zerolinecolor": "white",
           "zerolinewidth": 2
          },
          "yaxis": {
           "automargin": true,
           "gridcolor": "white",
           "linecolor": "white",
           "ticks": "",
           "title": {
            "standoff": 15
           },
           "zerolinecolor": "white",
           "zerolinewidth": 2
          }
         }
        },
        "title": {
         "text": "Patient Count by Blood Type and Medical Condition"
        },
        "xaxis": {
         "anchor": "y",
         "domain": [
          0,
          1
         ],
         "title": {
          "text": "Blood Type"
         }
        },
        "yaxis": {
         "anchor": "x",
         "domain": [
          0,
          1
         ],
         "title": {
          "text": "Patient Count"
         }
        }
       }
      }
     },
     "metadata": {},
     "output_type": "display_data"
    }
   ],
   "source": [
    "# Group by 'Blood Type' and 'Medical Condition' and calculate the count for each combination\n",
    "grouped_df = data.groupby(['Blood Type', 'Medical Condition']).size().reset_index(name='Count')\n",
    "\n",
    "# Plot using Plotly Express\n",
    "fig = px.bar(grouped_df, x='Blood Type', y='Count', color='Medical Condition', barmode='group',\n",
    "             title='Patient Count by Blood Type and Medical Condition',\n",
    "             labels={'Count': 'Patient Count', 'Blood Type': 'Blood Type', 'Medical Condition': 'Medical Condition'})\n",
    "fig.show()"
   ]
  },
  {
   "cell_type": "code",
   "execution_count": 111,
   "metadata": {},
   "outputs": [
    {
     "data": {
      "application/vnd.plotly.v1+json": {
       "config": {
        "plotlyServerURL": "https://plot.ly"
       },
       "data": [
        {
         "alignmentgroup": "True",
         "hovertemplate": "Gender=Female<br>Blood Type=%{x}<br>Patient Count=%{y}<extra></extra>",
         "legendgroup": "Female",
         "marker": {
          "color": "#636efa",
          "pattern": {
           "shape": ""
          }
         },
         "name": "Female",
         "offsetgroup": "Female",
         "orientation": "v",
         "showlegend": true,
         "textposition": "auto",
         "type": "bar",
         "x": [
          "A+",
          "A-",
          "AB+",
          "AB-",
          "B+",
          "B-",
          "O+",
          "O-"
         ],
         "xaxis": "x",
         "y": {
          "bdata": "dQJ5An0CnwKAAnsCgQJNAg==",
          "dtype": "i2"
         },
         "yaxis": "y"
        },
        {
         "alignmentgroup": "True",
         "hovertemplate": "Gender=Male<br>Blood Type=%{x}<br>Patient Count=%{y}<extra></extra>",
         "legendgroup": "Male",
         "marker": {
          "color": "#EF553B",
          "pattern": {
           "shape": ""
          }
         },
         "name": "Male",
         "offsetgroup": "Male",
         "orientation": "v",
         "showlegend": true,
         "textposition": "auto",
         "type": "bar",
         "x": [
          "A+",
          "A-",
          "AB+",
          "AB-",
          "B+",
          "B-",
          "O+",
          "O-"
         ],
         "xaxis": "x",
         "y": {
          "bdata": "ZAJdAm0CXAJcAmkCXwKPAg==",
          "dtype": "i2"
         },
         "yaxis": "y"
        }
       ],
       "layout": {
        "barmode": "group",
        "legend": {
         "title": {
          "text": "Gender"
         },
         "tracegroupgap": 0
        },
        "template": {
         "data": {
          "bar": [
           {
            "error_x": {
             "color": "#2a3f5f"
            },
            "error_y": {
             "color": "#2a3f5f"
            },
            "marker": {
             "line": {
              "color": "#E5ECF6",
              "width": 0.5
             },
             "pattern": {
              "fillmode": "overlay",
              "size": 10,
              "solidity": 0.2
             }
            },
            "type": "bar"
           }
          ],
          "barpolar": [
           {
            "marker": {
             "line": {
              "color": "#E5ECF6",
              "width": 0.5
             },
             "pattern": {
              "fillmode": "overlay",
              "size": 10,
              "solidity": 0.2
             }
            },
            "type": "barpolar"
           }
          ],
          "carpet": [
           {
            "aaxis": {
             "endlinecolor": "#2a3f5f",
             "gridcolor": "white",
             "linecolor": "white",
             "minorgridcolor": "white",
             "startlinecolor": "#2a3f5f"
            },
            "baxis": {
             "endlinecolor": "#2a3f5f",
             "gridcolor": "white",
             "linecolor": "white",
             "minorgridcolor": "white",
             "startlinecolor": "#2a3f5f"
            },
            "type": "carpet"
           }
          ],
          "choropleth": [
           {
            "colorbar": {
             "outlinewidth": 0,
             "ticks": ""
            },
            "type": "choropleth"
           }
          ],
          "contour": [
           {
            "colorbar": {
             "outlinewidth": 0,
             "ticks": ""
            },
            "colorscale": [
             [
              0,
              "#0d0887"
             ],
             [
              0.1111111111111111,
              "#46039f"
             ],
             [
              0.2222222222222222,
              "#7201a8"
             ],
             [
              0.3333333333333333,
              "#9c179e"
             ],
             [
              0.4444444444444444,
              "#bd3786"
             ],
             [
              0.5555555555555556,
              "#d8576b"
             ],
             [
              0.6666666666666666,
              "#ed7953"
             ],
             [
              0.7777777777777778,
              "#fb9f3a"
             ],
             [
              0.8888888888888888,
              "#fdca26"
             ],
             [
              1,
              "#f0f921"
             ]
            ],
            "type": "contour"
           }
          ],
          "contourcarpet": [
           {
            "colorbar": {
             "outlinewidth": 0,
             "ticks": ""
            },
            "type": "contourcarpet"
           }
          ],
          "heatmap": [
           {
            "colorbar": {
             "outlinewidth": 0,
             "ticks": ""
            },
            "colorscale": [
             [
              0,
              "#0d0887"
             ],
             [
              0.1111111111111111,
              "#46039f"
             ],
             [
              0.2222222222222222,
              "#7201a8"
             ],
             [
              0.3333333333333333,
              "#9c179e"
             ],
             [
              0.4444444444444444,
              "#bd3786"
             ],
             [
              0.5555555555555556,
              "#d8576b"
             ],
             [
              0.6666666666666666,
              "#ed7953"
             ],
             [
              0.7777777777777778,
              "#fb9f3a"
             ],
             [
              0.8888888888888888,
              "#fdca26"
             ],
             [
              1,
              "#f0f921"
             ]
            ],
            "type": "heatmap"
           }
          ],
          "histogram": [
           {
            "marker": {
             "pattern": {
              "fillmode": "overlay",
              "size": 10,
              "solidity": 0.2
             }
            },
            "type": "histogram"
           }
          ],
          "histogram2d": [
           {
            "colorbar": {
             "outlinewidth": 0,
             "ticks": ""
            },
            "colorscale": [
             [
              0,
              "#0d0887"
             ],
             [
              0.1111111111111111,
              "#46039f"
             ],
             [
              0.2222222222222222,
              "#7201a8"
             ],
             [
              0.3333333333333333,
              "#9c179e"
             ],
             [
              0.4444444444444444,
              "#bd3786"
             ],
             [
              0.5555555555555556,
              "#d8576b"
             ],
             [
              0.6666666666666666,
              "#ed7953"
             ],
             [
              0.7777777777777778,
              "#fb9f3a"
             ],
             [
              0.8888888888888888,
              "#fdca26"
             ],
             [
              1,
              "#f0f921"
             ]
            ],
            "type": "histogram2d"
           }
          ],
          "histogram2dcontour": [
           {
            "colorbar": {
             "outlinewidth": 0,
             "ticks": ""
            },
            "colorscale": [
             [
              0,
              "#0d0887"
             ],
             [
              0.1111111111111111,
              "#46039f"
             ],
             [
              0.2222222222222222,
              "#7201a8"
             ],
             [
              0.3333333333333333,
              "#9c179e"
             ],
             [
              0.4444444444444444,
              "#bd3786"
             ],
             [
              0.5555555555555556,
              "#d8576b"
             ],
             [
              0.6666666666666666,
              "#ed7953"
             ],
             [
              0.7777777777777778,
              "#fb9f3a"
             ],
             [
              0.8888888888888888,
              "#fdca26"
             ],
             [
              1,
              "#f0f921"
             ]
            ],
            "type": "histogram2dcontour"
           }
          ],
          "mesh3d": [
           {
            "colorbar": {
             "outlinewidth": 0,
             "ticks": ""
            },
            "type": "mesh3d"
           }
          ],
          "parcoords": [
           {
            "line": {
             "colorbar": {
              "outlinewidth": 0,
              "ticks": ""
             }
            },
            "type": "parcoords"
           }
          ],
          "pie": [
           {
            "automargin": true,
            "type": "pie"
           }
          ],
          "scatter": [
           {
            "fillpattern": {
             "fillmode": "overlay",
             "size": 10,
             "solidity": 0.2
            },
            "type": "scatter"
           }
          ],
          "scatter3d": [
           {
            "line": {
             "colorbar": {
              "outlinewidth": 0,
              "ticks": ""
             }
            },
            "marker": {
             "colorbar": {
              "outlinewidth": 0,
              "ticks": ""
             }
            },
            "type": "scatter3d"
           }
          ],
          "scattercarpet": [
           {
            "marker": {
             "colorbar": {
              "outlinewidth": 0,
              "ticks": ""
             }
            },
            "type": "scattercarpet"
           }
          ],
          "scattergeo": [
           {
            "marker": {
             "colorbar": {
              "outlinewidth": 0,
              "ticks": ""
             }
            },
            "type": "scattergeo"
           }
          ],
          "scattergl": [
           {
            "marker": {
             "colorbar": {
              "outlinewidth": 0,
              "ticks": ""
             }
            },
            "type": "scattergl"
           }
          ],
          "scattermap": [
           {
            "marker": {
             "colorbar": {
              "outlinewidth": 0,
              "ticks": ""
             }
            },
            "type": "scattermap"
           }
          ],
          "scattermapbox": [
           {
            "marker": {
             "colorbar": {
              "outlinewidth": 0,
              "ticks": ""
             }
            },
            "type": "scattermapbox"
           }
          ],
          "scatterpolar": [
           {
            "marker": {
             "colorbar": {
              "outlinewidth": 0,
              "ticks": ""
             }
            },
            "type": "scatterpolar"
           }
          ],
          "scatterpolargl": [
           {
            "marker": {
             "colorbar": {
              "outlinewidth": 0,
              "ticks": ""
             }
            },
            "type": "scatterpolargl"
           }
          ],
          "scatterternary": [
           {
            "marker": {
             "colorbar": {
              "outlinewidth": 0,
              "ticks": ""
             }
            },
            "type": "scatterternary"
           }
          ],
          "surface": [
           {
            "colorbar": {
             "outlinewidth": 0,
             "ticks": ""
            },
            "colorscale": [
             [
              0,
              "#0d0887"
             ],
             [
              0.1111111111111111,
              "#46039f"
             ],
             [
              0.2222222222222222,
              "#7201a8"
             ],
             [
              0.3333333333333333,
              "#9c179e"
             ],
             [
              0.4444444444444444,
              "#bd3786"
             ],
             [
              0.5555555555555556,
              "#d8576b"
             ],
             [
              0.6666666666666666,
              "#ed7953"
             ],
             [
              0.7777777777777778,
              "#fb9f3a"
             ],
             [
              0.8888888888888888,
              "#fdca26"
             ],
             [
              1,
              "#f0f921"
             ]
            ],
            "type": "surface"
           }
          ],
          "table": [
           {
            "cells": {
             "fill": {
              "color": "#EBF0F8"
             },
             "line": {
              "color": "white"
             }
            },
            "header": {
             "fill": {
              "color": "#C8D4E3"
             },
             "line": {
              "color": "white"
             }
            },
            "type": "table"
           }
          ]
         },
         "layout": {
          "annotationdefaults": {
           "arrowcolor": "#2a3f5f",
           "arrowhead": 0,
           "arrowwidth": 1
          },
          "autotypenumbers": "strict",
          "coloraxis": {
           "colorbar": {
            "outlinewidth": 0,
            "ticks": ""
           }
          },
          "colorscale": {
           "diverging": [
            [
             0,
             "#8e0152"
            ],
            [
             0.1,
             "#c51b7d"
            ],
            [
             0.2,
             "#de77ae"
            ],
            [
             0.3,
             "#f1b6da"
            ],
            [
             0.4,
             "#fde0ef"
            ],
            [
             0.5,
             "#f7f7f7"
            ],
            [
             0.6,
             "#e6f5d0"
            ],
            [
             0.7,
             "#b8e186"
            ],
            [
             0.8,
             "#7fbc41"
            ],
            [
             0.9,
             "#4d9221"
            ],
            [
             1,
             "#276419"
            ]
           ],
           "sequential": [
            [
             0,
             "#0d0887"
            ],
            [
             0.1111111111111111,
             "#46039f"
            ],
            [
             0.2222222222222222,
             "#7201a8"
            ],
            [
             0.3333333333333333,
             "#9c179e"
            ],
            [
             0.4444444444444444,
             "#bd3786"
            ],
            [
             0.5555555555555556,
             "#d8576b"
            ],
            [
             0.6666666666666666,
             "#ed7953"
            ],
            [
             0.7777777777777778,
             "#fb9f3a"
            ],
            [
             0.8888888888888888,
             "#fdca26"
            ],
            [
             1,
             "#f0f921"
            ]
           ],
           "sequentialminus": [
            [
             0,
             "#0d0887"
            ],
            [
             0.1111111111111111,
             "#46039f"
            ],
            [
             0.2222222222222222,
             "#7201a8"
            ],
            [
             0.3333333333333333,
             "#9c179e"
            ],
            [
             0.4444444444444444,
             "#bd3786"
            ],
            [
             0.5555555555555556,
             "#d8576b"
            ],
            [
             0.6666666666666666,
             "#ed7953"
            ],
            [
             0.7777777777777778,
             "#fb9f3a"
            ],
            [
             0.8888888888888888,
             "#fdca26"
            ],
            [
             1,
             "#f0f921"
            ]
           ]
          },
          "colorway": [
           "#636efa",
           "#EF553B",
           "#00cc96",
           "#ab63fa",
           "#FFA15A",
           "#19d3f3",
           "#FF6692",
           "#B6E880",
           "#FF97FF",
           "#FECB52"
          ],
          "font": {
           "color": "#2a3f5f"
          },
          "geo": {
           "bgcolor": "white",
           "lakecolor": "white",
           "landcolor": "#E5ECF6",
           "showlakes": true,
           "showland": true,
           "subunitcolor": "white"
          },
          "hoverlabel": {
           "align": "left"
          },
          "hovermode": "closest",
          "mapbox": {
           "style": "light"
          },
          "paper_bgcolor": "white",
          "plot_bgcolor": "#E5ECF6",
          "polar": {
           "angularaxis": {
            "gridcolor": "white",
            "linecolor": "white",
            "ticks": ""
           },
           "bgcolor": "#E5ECF6",
           "radialaxis": {
            "gridcolor": "white",
            "linecolor": "white",
            "ticks": ""
           }
          },
          "scene": {
           "xaxis": {
            "backgroundcolor": "#E5ECF6",
            "gridcolor": "white",
            "gridwidth": 2,
            "linecolor": "white",
            "showbackground": true,
            "ticks": "",
            "zerolinecolor": "white"
           },
           "yaxis": {
            "backgroundcolor": "#E5ECF6",
            "gridcolor": "white",
            "gridwidth": 2,
            "linecolor": "white",
            "showbackground": true,
            "ticks": "",
            "zerolinecolor": "white"
           },
           "zaxis": {
            "backgroundcolor": "#E5ECF6",
            "gridcolor": "white",
            "gridwidth": 2,
            "linecolor": "white",
            "showbackground": true,
            "ticks": "",
            "zerolinecolor": "white"
           }
          },
          "shapedefaults": {
           "line": {
            "color": "#2a3f5f"
           }
          },
          "ternary": {
           "aaxis": {
            "gridcolor": "white",
            "linecolor": "white",
            "ticks": ""
           },
           "baxis": {
            "gridcolor": "white",
            "linecolor": "white",
            "ticks": ""
           },
           "bgcolor": "#E5ECF6",
           "caxis": {
            "gridcolor": "white",
            "linecolor": "white",
            "ticks": ""
           }
          },
          "title": {
           "x": 0.05
          },
          "xaxis": {
           "automargin": true,
           "gridcolor": "white",
           "linecolor": "white",
           "ticks": "",
           "title": {
            "standoff": 15
           },
           "zerolinecolor": "white",
           "zerolinewidth": 2
          },
          "yaxis": {
           "automargin": true,
           "gridcolor": "white",
           "linecolor": "white",
           "ticks": "",
           "title": {
            "standoff": 15
           },
           "zerolinecolor": "white",
           "zerolinewidth": 2
          }
         }
        },
        "title": {
         "text": "Patient Count by Blood Type and Gender"
        },
        "xaxis": {
         "anchor": "y",
         "domain": [
          0,
          1
         ],
         "title": {
          "text": "Blood Type"
         }
        },
        "yaxis": {
         "anchor": "x",
         "domain": [
          0,
          1
         ],
         "title": {
          "text": "Patient Count"
         }
        }
       }
      }
     },
     "metadata": {},
     "output_type": "display_data"
    }
   ],
   "source": [
    "# Group by 'Blood Type' and 'Gender' and calculate the count for each combination\n",
    "grouped_df = data.groupby(['Blood Type', 'Gender']).size().reset_index(name='Count')\n",
    "\n",
    "# Plot using Plotly Express\n",
    "fig = px.bar(grouped_df, x='Blood Type', y='Count', color='Gender', barmode='group',\n",
    "             title='Patient Count by Blood Type and Gender',\n",
    "             labels={'Count': 'Patient Count', 'Blood Type': 'Blood Type', 'Gender': 'Gender'})\n",
    "fig.show()"
   ]
  },
  {
   "cell_type": "code",
   "execution_count": 112,
   "metadata": {},
   "outputs": [
    {
     "data": {
      "application/vnd.plotly.v1+json": {
       "config": {
        "plotlyServerURL": "https://plot.ly"
       },
       "data": [
        {
         "alignmentgroup": "True",
         "hovertemplate": "Gender=Female<br>Admission Type=%{x}<br>Patient Count=%{y}<extra></extra>",
         "legendgroup": "Female",
         "marker": {
          "color": "#636efa",
          "pattern": {
           "shape": ""
          }
         },
         "name": "Female",
         "offsetgroup": "Female",
         "orientation": "v",
         "showlegend": true,
         "textposition": "auto",
         "type": "bar",
         "x": [
          "Elective",
          "Emergency",
          "Urgent"
         ],
         "xaxis": "x",
         "y": {
          "bdata": "aAalBsYG",
          "dtype": "i2"
         },
         "yaxis": "y"
        },
        {
         "alignmentgroup": "True",
         "hovertemplate": "Gender=Male<br>Admission Type=%{x}<br>Patient Count=%{y}<extra></extra>",
         "legendgroup": "Male",
         "marker": {
          "color": "#EF553B",
          "pattern": {
           "shape": ""
          }
         },
         "name": "Male",
         "offsetgroup": "Male",
         "orientation": "v",
         "showlegend": true,
         "textposition": "auto",
         "type": "bar",
         "x": [
          "Elective",
          "Emergency",
          "Urgent"
         ],
         "xaxis": "x",
         "y": {
          "bdata": "QgaCBnkG",
          "dtype": "i2"
         },
         "yaxis": "y"
        }
       ],
       "layout": {
        "barmode": "group",
        "legend": {
         "title": {
          "text": "Gender"
         },
         "tracegroupgap": 0
        },
        "template": {
         "data": {
          "bar": [
           {
            "error_x": {
             "color": "#2a3f5f"
            },
            "error_y": {
             "color": "#2a3f5f"
            },
            "marker": {
             "line": {
              "color": "#E5ECF6",
              "width": 0.5
             },
             "pattern": {
              "fillmode": "overlay",
              "size": 10,
              "solidity": 0.2
             }
            },
            "type": "bar"
           }
          ],
          "barpolar": [
           {
            "marker": {
             "line": {
              "color": "#E5ECF6",
              "width": 0.5
             },
             "pattern": {
              "fillmode": "overlay",
              "size": 10,
              "solidity": 0.2
             }
            },
            "type": "barpolar"
           }
          ],
          "carpet": [
           {
            "aaxis": {
             "endlinecolor": "#2a3f5f",
             "gridcolor": "white",
             "linecolor": "white",
             "minorgridcolor": "white",
             "startlinecolor": "#2a3f5f"
            },
            "baxis": {
             "endlinecolor": "#2a3f5f",
             "gridcolor": "white",
             "linecolor": "white",
             "minorgridcolor": "white",
             "startlinecolor": "#2a3f5f"
            },
            "type": "carpet"
           }
          ],
          "choropleth": [
           {
            "colorbar": {
             "outlinewidth": 0,
             "ticks": ""
            },
            "type": "choropleth"
           }
          ],
          "contour": [
           {
            "colorbar": {
             "outlinewidth": 0,
             "ticks": ""
            },
            "colorscale": [
             [
              0,
              "#0d0887"
             ],
             [
              0.1111111111111111,
              "#46039f"
             ],
             [
              0.2222222222222222,
              "#7201a8"
             ],
             [
              0.3333333333333333,
              "#9c179e"
             ],
             [
              0.4444444444444444,
              "#bd3786"
             ],
             [
              0.5555555555555556,
              "#d8576b"
             ],
             [
              0.6666666666666666,
              "#ed7953"
             ],
             [
              0.7777777777777778,
              "#fb9f3a"
             ],
             [
              0.8888888888888888,
              "#fdca26"
             ],
             [
              1,
              "#f0f921"
             ]
            ],
            "type": "contour"
           }
          ],
          "contourcarpet": [
           {
            "colorbar": {
             "outlinewidth": 0,
             "ticks": ""
            },
            "type": "contourcarpet"
           }
          ],
          "heatmap": [
           {
            "colorbar": {
             "outlinewidth": 0,
             "ticks": ""
            },
            "colorscale": [
             [
              0,
              "#0d0887"
             ],
             [
              0.1111111111111111,
              "#46039f"
             ],
             [
              0.2222222222222222,
              "#7201a8"
             ],
             [
              0.3333333333333333,
              "#9c179e"
             ],
             [
              0.4444444444444444,
              "#bd3786"
             ],
             [
              0.5555555555555556,
              "#d8576b"
             ],
             [
              0.6666666666666666,
              "#ed7953"
             ],
             [
              0.7777777777777778,
              "#fb9f3a"
             ],
             [
              0.8888888888888888,
              "#fdca26"
             ],
             [
              1,
              "#f0f921"
             ]
            ],
            "type": "heatmap"
           }
          ],
          "histogram": [
           {
            "marker": {
             "pattern": {
              "fillmode": "overlay",
              "size": 10,
              "solidity": 0.2
             }
            },
            "type": "histogram"
           }
          ],
          "histogram2d": [
           {
            "colorbar": {
             "outlinewidth": 0,
             "ticks": ""
            },
            "colorscale": [
             [
              0,
              "#0d0887"
             ],
             [
              0.1111111111111111,
              "#46039f"
             ],
             [
              0.2222222222222222,
              "#7201a8"
             ],
             [
              0.3333333333333333,
              "#9c179e"
             ],
             [
              0.4444444444444444,
              "#bd3786"
             ],
             [
              0.5555555555555556,
              "#d8576b"
             ],
             [
              0.6666666666666666,
              "#ed7953"
             ],
             [
              0.7777777777777778,
              "#fb9f3a"
             ],
             [
              0.8888888888888888,
              "#fdca26"
             ],
             [
              1,
              "#f0f921"
             ]
            ],
            "type": "histogram2d"
           }
          ],
          "histogram2dcontour": [
           {
            "colorbar": {
             "outlinewidth": 0,
             "ticks": ""
            },
            "colorscale": [
             [
              0,
              "#0d0887"
             ],
             [
              0.1111111111111111,
              "#46039f"
             ],
             [
              0.2222222222222222,
              "#7201a8"
             ],
             [
              0.3333333333333333,
              "#9c179e"
             ],
             [
              0.4444444444444444,
              "#bd3786"
             ],
             [
              0.5555555555555556,
              "#d8576b"
             ],
             [
              0.6666666666666666,
              "#ed7953"
             ],
             [
              0.7777777777777778,
              "#fb9f3a"
             ],
             [
              0.8888888888888888,
              "#fdca26"
             ],
             [
              1,
              "#f0f921"
             ]
            ],
            "type": "histogram2dcontour"
           }
          ],
          "mesh3d": [
           {
            "colorbar": {
             "outlinewidth": 0,
             "ticks": ""
            },
            "type": "mesh3d"
           }
          ],
          "parcoords": [
           {
            "line": {
             "colorbar": {
              "outlinewidth": 0,
              "ticks": ""
             }
            },
            "type": "parcoords"
           }
          ],
          "pie": [
           {
            "automargin": true,
            "type": "pie"
           }
          ],
          "scatter": [
           {
            "fillpattern": {
             "fillmode": "overlay",
             "size": 10,
             "solidity": 0.2
            },
            "type": "scatter"
           }
          ],
          "scatter3d": [
           {
            "line": {
             "colorbar": {
              "outlinewidth": 0,
              "ticks": ""
             }
            },
            "marker": {
             "colorbar": {
              "outlinewidth": 0,
              "ticks": ""
             }
            },
            "type": "scatter3d"
           }
          ],
          "scattercarpet": [
           {
            "marker": {
             "colorbar": {
              "outlinewidth": 0,
              "ticks": ""
             }
            },
            "type": "scattercarpet"
           }
          ],
          "scattergeo": [
           {
            "marker": {
             "colorbar": {
              "outlinewidth": 0,
              "ticks": ""
             }
            },
            "type": "scattergeo"
           }
          ],
          "scattergl": [
           {
            "marker": {
             "colorbar": {
              "outlinewidth": 0,
              "ticks": ""
             }
            },
            "type": "scattergl"
           }
          ],
          "scattermap": [
           {
            "marker": {
             "colorbar": {
              "outlinewidth": 0,
              "ticks": ""
             }
            },
            "type": "scattermap"
           }
          ],
          "scattermapbox": [
           {
            "marker": {
             "colorbar": {
              "outlinewidth": 0,
              "ticks": ""
             }
            },
            "type": "scattermapbox"
           }
          ],
          "scatterpolar": [
           {
            "marker": {
             "colorbar": {
              "outlinewidth": 0,
              "ticks": ""
             }
            },
            "type": "scatterpolar"
           }
          ],
          "scatterpolargl": [
           {
            "marker": {
             "colorbar": {
              "outlinewidth": 0,
              "ticks": ""
             }
            },
            "type": "scatterpolargl"
           }
          ],
          "scatterternary": [
           {
            "marker": {
             "colorbar": {
              "outlinewidth": 0,
              "ticks": ""
             }
            },
            "type": "scatterternary"
           }
          ],
          "surface": [
           {
            "colorbar": {
             "outlinewidth": 0,
             "ticks": ""
            },
            "colorscale": [
             [
              0,
              "#0d0887"
             ],
             [
              0.1111111111111111,
              "#46039f"
             ],
             [
              0.2222222222222222,
              "#7201a8"
             ],
             [
              0.3333333333333333,
              "#9c179e"
             ],
             [
              0.4444444444444444,
              "#bd3786"
             ],
             [
              0.5555555555555556,
              "#d8576b"
             ],
             [
              0.6666666666666666,
              "#ed7953"
             ],
             [
              0.7777777777777778,
              "#fb9f3a"
             ],
             [
              0.8888888888888888,
              "#fdca26"
             ],
             [
              1,
              "#f0f921"
             ]
            ],
            "type": "surface"
           }
          ],
          "table": [
           {
            "cells": {
             "fill": {
              "color": "#EBF0F8"
             },
             "line": {
              "color": "white"
             }
            },
            "header": {
             "fill": {
              "color": "#C8D4E3"
             },
             "line": {
              "color": "white"
             }
            },
            "type": "table"
           }
          ]
         },
         "layout": {
          "annotationdefaults": {
           "arrowcolor": "#2a3f5f",
           "arrowhead": 0,
           "arrowwidth": 1
          },
          "autotypenumbers": "strict",
          "coloraxis": {
           "colorbar": {
            "outlinewidth": 0,
            "ticks": ""
           }
          },
          "colorscale": {
           "diverging": [
            [
             0,
             "#8e0152"
            ],
            [
             0.1,
             "#c51b7d"
            ],
            [
             0.2,
             "#de77ae"
            ],
            [
             0.3,
             "#f1b6da"
            ],
            [
             0.4,
             "#fde0ef"
            ],
            [
             0.5,
             "#f7f7f7"
            ],
            [
             0.6,
             "#e6f5d0"
            ],
            [
             0.7,
             "#b8e186"
            ],
            [
             0.8,
             "#7fbc41"
            ],
            [
             0.9,
             "#4d9221"
            ],
            [
             1,
             "#276419"
            ]
           ],
           "sequential": [
            [
             0,
             "#0d0887"
            ],
            [
             0.1111111111111111,
             "#46039f"
            ],
            [
             0.2222222222222222,
             "#7201a8"
            ],
            [
             0.3333333333333333,
             "#9c179e"
            ],
            [
             0.4444444444444444,
             "#bd3786"
            ],
            [
             0.5555555555555556,
             "#d8576b"
            ],
            [
             0.6666666666666666,
             "#ed7953"
            ],
            [
             0.7777777777777778,
             "#fb9f3a"
            ],
            [
             0.8888888888888888,
             "#fdca26"
            ],
            [
             1,
             "#f0f921"
            ]
           ],
           "sequentialminus": [
            [
             0,
             "#0d0887"
            ],
            [
             0.1111111111111111,
             "#46039f"
            ],
            [
             0.2222222222222222,
             "#7201a8"
            ],
            [
             0.3333333333333333,
             "#9c179e"
            ],
            [
             0.4444444444444444,
             "#bd3786"
            ],
            [
             0.5555555555555556,
             "#d8576b"
            ],
            [
             0.6666666666666666,
             "#ed7953"
            ],
            [
             0.7777777777777778,
             "#fb9f3a"
            ],
            [
             0.8888888888888888,
             "#fdca26"
            ],
            [
             1,
             "#f0f921"
            ]
           ]
          },
          "colorway": [
           "#636efa",
           "#EF553B",
           "#00cc96",
           "#ab63fa",
           "#FFA15A",
           "#19d3f3",
           "#FF6692",
           "#B6E880",
           "#FF97FF",
           "#FECB52"
          ],
          "font": {
           "color": "#2a3f5f"
          },
          "geo": {
           "bgcolor": "white",
           "lakecolor": "white",
           "landcolor": "#E5ECF6",
           "showlakes": true,
           "showland": true,
           "subunitcolor": "white"
          },
          "hoverlabel": {
           "align": "left"
          },
          "hovermode": "closest",
          "mapbox": {
           "style": "light"
          },
          "paper_bgcolor": "white",
          "plot_bgcolor": "#E5ECF6",
          "polar": {
           "angularaxis": {
            "gridcolor": "white",
            "linecolor": "white",
            "ticks": ""
           },
           "bgcolor": "#E5ECF6",
           "radialaxis": {
            "gridcolor": "white",
            "linecolor": "white",
            "ticks": ""
           }
          },
          "scene": {
           "xaxis": {
            "backgroundcolor": "#E5ECF6",
            "gridcolor": "white",
            "gridwidth": 2,
            "linecolor": "white",
            "showbackground": true,
            "ticks": "",
            "zerolinecolor": "white"
           },
           "yaxis": {
            "backgroundcolor": "#E5ECF6",
            "gridcolor": "white",
            "gridwidth": 2,
            "linecolor": "white",
            "showbackground": true,
            "ticks": "",
            "zerolinecolor": "white"
           },
           "zaxis": {
            "backgroundcolor": "#E5ECF6",
            "gridcolor": "white",
            "gridwidth": 2,
            "linecolor": "white",
            "showbackground": true,
            "ticks": "",
            "zerolinecolor": "white"
           }
          },
          "shapedefaults": {
           "line": {
            "color": "#2a3f5f"
           }
          },
          "ternary": {
           "aaxis": {
            "gridcolor": "white",
            "linecolor": "white",
            "ticks": ""
           },
           "baxis": {
            "gridcolor": "white",
            "linecolor": "white",
            "ticks": ""
           },
           "bgcolor": "#E5ECF6",
           "caxis": {
            "gridcolor": "white",
            "linecolor": "white",
            "ticks": ""
           }
          },
          "title": {
           "x": 0.05
          },
          "xaxis": {
           "automargin": true,
           "gridcolor": "white",
           "linecolor": "white",
           "ticks": "",
           "title": {
            "standoff": 15
           },
           "zerolinecolor": "white",
           "zerolinewidth": 2
          },
          "yaxis": {
           "automargin": true,
           "gridcolor": "white",
           "linecolor": "white",
           "ticks": "",
           "title": {
            "standoff": 15
           },
           "zerolinecolor": "white",
           "zerolinewidth": 2
          }
         }
        },
        "title": {
         "text": "Patient Count by Admission Type and Gender"
        },
        "xaxis": {
         "anchor": "y",
         "domain": [
          0,
          1
         ],
         "title": {
          "text": "Admission Type"
         }
        },
        "yaxis": {
         "anchor": "x",
         "domain": [
          0,
          1
         ],
         "title": {
          "text": "Patient Count"
         }
        }
       }
      }
     },
     "metadata": {},
     "output_type": "display_data"
    }
   ],
   "source": [
    "# Group by 'Admission Type' and 'Gender' and calculate the count for each combination\n",
    "grouped_df = data.groupby(['Admission Type', 'Gender']).size().reset_index(name='Count')\n",
    "\n",
    "# Plot using Plotly Express\n",
    "fig = px.bar(grouped_df, x='Admission Type', y='Count', color='Gender', barmode='group',\n",
    "             title='Patient Count by Admission Type and Gender',\n",
    "             labels={'Count': 'Patient Count', 'Admission Type': 'Admission Type', 'Gender': 'Gender'})\n",
    "fig.show()"
   ]
  },
  {
   "cell_type": "code",
   "execution_count": 113,
   "metadata": {},
   "outputs": [
    {
     "data": {
      "application/vnd.plotly.v1+json": {
       "config": {
        "plotlyServerURL": "https://plot.ly"
       },
       "data": [
        {
         "alignmentgroup": "True",
         "hovertemplate": "Medical Condition=Arthritis<br>Admission Type=%{x}<br>Patient Count=%{y}<extra></extra>",
         "legendgroup": "Arthritis",
         "marker": {
          "color": "#636efa",
          "pattern": {
           "shape": ""
          }
         },
         "name": "Arthritis",
         "offsetgroup": "Arthritis",
         "orientation": "v",
         "showlegend": true,
         "textposition": "auto",
         "type": "bar",
         "x": [
          "Elective",
          "Emergency",
          "Urgent"
         ],
         "xaxis": "x",
         "y": {
          "bdata": "OQIRAigC",
          "dtype": "i2"
         },
         "yaxis": "y"
        },
        {
         "alignmentgroup": "True",
         "hovertemplate": "Medical Condition=Asthma<br>Admission Type=%{x}<br>Patient Count=%{y}<extra></extra>",
         "legendgroup": "Asthma",
         "marker": {
          "color": "#EF553B",
          "pattern": {
           "shape": ""
          }
         },
         "name": "Asthma",
         "offsetgroup": "Asthma",
         "orientation": "v",
         "showlegend": true,
         "textposition": "auto",
         "type": "bar",
         "x": [
          "Elective",
          "Emergency",
          "Urgent"
         ],
         "xaxis": "x",
         "y": {
          "bdata": "OgIsAkYC",
          "dtype": "i2"
         },
         "yaxis": "y"
        },
        {
         "alignmentgroup": "True",
         "hovertemplate": "Medical Condition=Cancer<br>Admission Type=%{x}<br>Patient Count=%{y}<extra></extra>",
         "legendgroup": "Cancer",
         "marker": {
          "color": "#00cc96",
          "pattern": {
           "shape": ""
          }
         },
         "name": "Cancer",
         "offsetgroup": "Cancer",
         "orientation": "v",
         "showlegend": true,
         "textposition": "auto",
         "type": "bar",
         "x": [
          "Elective",
          "Emergency",
          "Urgent"
         ],
         "xaxis": "x",
         "y": {
          "bdata": "KwJCAjoC",
          "dtype": "i2"
         },
         "yaxis": "y"
        },
        {
         "alignmentgroup": "True",
         "hovertemplate": "Medical Condition=Diabetes<br>Admission Type=%{x}<br>Patient Count=%{y}<extra></extra>",
         "legendgroup": "Diabetes",
         "marker": {
          "color": "#ab63fa",
          "pattern": {
           "shape": ""
          }
         },
         "name": "Diabetes",
         "offsetgroup": "Diabetes",
         "orientation": "v",
         "showlegend": true,
         "textposition": "auto",
         "type": "bar",
         "x": [
          "Elective",
          "Emergency",
          "Urgent"
         ],
         "xaxis": "x",
         "y": {
          "bdata": "EAItAhoC",
          "dtype": "i2"
         },
         "yaxis": "y"
        },
        {
         "alignmentgroup": "True",
         "hovertemplate": "Medical Condition=Hypertension<br>Admission Type=%{x}<br>Patient Count=%{y}<extra></extra>",
         "legendgroup": "Hypertension",
         "marker": {
          "color": "#FFA15A",
          "pattern": {
           "shape": ""
          }
         },
         "name": "Hypertension",
         "offsetgroup": "Hypertension",
         "orientation": "v",
         "showlegend": true,
         "textposition": "auto",
         "type": "bar",
         "x": [
          "Elective",
          "Emergency",
          "Urgent"
         ],
         "xaxis": "x",
         "y": {
          "bdata": "AwJCAlMC",
          "dtype": "i2"
         },
         "yaxis": "y"
        },
        {
         "alignmentgroup": "True",
         "hovertemplate": "Medical Condition=Obesity<br>Admission Type=%{x}<br>Patient Count=%{y}<extra></extra>",
         "legendgroup": "Obesity",
         "marker": {
          "color": "#19d3f3",
          "pattern": {
           "shape": ""
          }
         },
         "name": "Obesity",
         "offsetgroup": "Obesity",
         "orientation": "v",
         "showlegend": true,
         "textposition": "auto",
         "type": "bar",
         "x": [
          "Elective",
          "Emergency",
          "Urgent"
         ],
         "xaxis": "x",
         "y": {
          "bdata": "+QE5AioC",
          "dtype": "i2"
         },
         "yaxis": "y"
        }
       ],
       "layout": {
        "barmode": "group",
        "legend": {
         "title": {
          "text": "Medical Condition"
         },
         "tracegroupgap": 0
        },
        "template": {
         "data": {
          "bar": [
           {
            "error_x": {
             "color": "#2a3f5f"
            },
            "error_y": {
             "color": "#2a3f5f"
            },
            "marker": {
             "line": {
              "color": "#E5ECF6",
              "width": 0.5
             },
             "pattern": {
              "fillmode": "overlay",
              "size": 10,
              "solidity": 0.2
             }
            },
            "type": "bar"
           }
          ],
          "barpolar": [
           {
            "marker": {
             "line": {
              "color": "#E5ECF6",
              "width": 0.5
             },
             "pattern": {
              "fillmode": "overlay",
              "size": 10,
              "solidity": 0.2
             }
            },
            "type": "barpolar"
           }
          ],
          "carpet": [
           {
            "aaxis": {
             "endlinecolor": "#2a3f5f",
             "gridcolor": "white",
             "linecolor": "white",
             "minorgridcolor": "white",
             "startlinecolor": "#2a3f5f"
            },
            "baxis": {
             "endlinecolor": "#2a3f5f",
             "gridcolor": "white",
             "linecolor": "white",
             "minorgridcolor": "white",
             "startlinecolor": "#2a3f5f"
            },
            "type": "carpet"
           }
          ],
          "choropleth": [
           {
            "colorbar": {
             "outlinewidth": 0,
             "ticks": ""
            },
            "type": "choropleth"
           }
          ],
          "contour": [
           {
            "colorbar": {
             "outlinewidth": 0,
             "ticks": ""
            },
            "colorscale": [
             [
              0,
              "#0d0887"
             ],
             [
              0.1111111111111111,
              "#46039f"
             ],
             [
              0.2222222222222222,
              "#7201a8"
             ],
             [
              0.3333333333333333,
              "#9c179e"
             ],
             [
              0.4444444444444444,
              "#bd3786"
             ],
             [
              0.5555555555555556,
              "#d8576b"
             ],
             [
              0.6666666666666666,
              "#ed7953"
             ],
             [
              0.7777777777777778,
              "#fb9f3a"
             ],
             [
              0.8888888888888888,
              "#fdca26"
             ],
             [
              1,
              "#f0f921"
             ]
            ],
            "type": "contour"
           }
          ],
          "contourcarpet": [
           {
            "colorbar": {
             "outlinewidth": 0,
             "ticks": ""
            },
            "type": "contourcarpet"
           }
          ],
          "heatmap": [
           {
            "colorbar": {
             "outlinewidth": 0,
             "ticks": ""
            },
            "colorscale": [
             [
              0,
              "#0d0887"
             ],
             [
              0.1111111111111111,
              "#46039f"
             ],
             [
              0.2222222222222222,
              "#7201a8"
             ],
             [
              0.3333333333333333,
              "#9c179e"
             ],
             [
              0.4444444444444444,
              "#bd3786"
             ],
             [
              0.5555555555555556,
              "#d8576b"
             ],
             [
              0.6666666666666666,
              "#ed7953"
             ],
             [
              0.7777777777777778,
              "#fb9f3a"
             ],
             [
              0.8888888888888888,
              "#fdca26"
             ],
             [
              1,
              "#f0f921"
             ]
            ],
            "type": "heatmap"
           }
          ],
          "histogram": [
           {
            "marker": {
             "pattern": {
              "fillmode": "overlay",
              "size": 10,
              "solidity": 0.2
             }
            },
            "type": "histogram"
           }
          ],
          "histogram2d": [
           {
            "colorbar": {
             "outlinewidth": 0,
             "ticks": ""
            },
            "colorscale": [
             [
              0,
              "#0d0887"
             ],
             [
              0.1111111111111111,
              "#46039f"
             ],
             [
              0.2222222222222222,
              "#7201a8"
             ],
             [
              0.3333333333333333,
              "#9c179e"
             ],
             [
              0.4444444444444444,
              "#bd3786"
             ],
             [
              0.5555555555555556,
              "#d8576b"
             ],
             [
              0.6666666666666666,
              "#ed7953"
             ],
             [
              0.7777777777777778,
              "#fb9f3a"
             ],
             [
              0.8888888888888888,
              "#fdca26"
             ],
             [
              1,
              "#f0f921"
             ]
            ],
            "type": "histogram2d"
           }
          ],
          "histogram2dcontour": [
           {
            "colorbar": {
             "outlinewidth": 0,
             "ticks": ""
            },
            "colorscale": [
             [
              0,
              "#0d0887"
             ],
             [
              0.1111111111111111,
              "#46039f"
             ],
             [
              0.2222222222222222,
              "#7201a8"
             ],
             [
              0.3333333333333333,
              "#9c179e"
             ],
             [
              0.4444444444444444,
              "#bd3786"
             ],
             [
              0.5555555555555556,
              "#d8576b"
             ],
             [
              0.6666666666666666,
              "#ed7953"
             ],
             [
              0.7777777777777778,
              "#fb9f3a"
             ],
             [
              0.8888888888888888,
              "#fdca26"
             ],
             [
              1,
              "#f0f921"
             ]
            ],
            "type": "histogram2dcontour"
           }
          ],
          "mesh3d": [
           {
            "colorbar": {
             "outlinewidth": 0,
             "ticks": ""
            },
            "type": "mesh3d"
           }
          ],
          "parcoords": [
           {
            "line": {
             "colorbar": {
              "outlinewidth": 0,
              "ticks": ""
             }
            },
            "type": "parcoords"
           }
          ],
          "pie": [
           {
            "automargin": true,
            "type": "pie"
           }
          ],
          "scatter": [
           {
            "fillpattern": {
             "fillmode": "overlay",
             "size": 10,
             "solidity": 0.2
            },
            "type": "scatter"
           }
          ],
          "scatter3d": [
           {
            "line": {
             "colorbar": {
              "outlinewidth": 0,
              "ticks": ""
             }
            },
            "marker": {
             "colorbar": {
              "outlinewidth": 0,
              "ticks": ""
             }
            },
            "type": "scatter3d"
           }
          ],
          "scattercarpet": [
           {
            "marker": {
             "colorbar": {
              "outlinewidth": 0,
              "ticks": ""
             }
            },
            "type": "scattercarpet"
           }
          ],
          "scattergeo": [
           {
            "marker": {
             "colorbar": {
              "outlinewidth": 0,
              "ticks": ""
             }
            },
            "type": "scattergeo"
           }
          ],
          "scattergl": [
           {
            "marker": {
             "colorbar": {
              "outlinewidth": 0,
              "ticks": ""
             }
            },
            "type": "scattergl"
           }
          ],
          "scattermap": [
           {
            "marker": {
             "colorbar": {
              "outlinewidth": 0,
              "ticks": ""
             }
            },
            "type": "scattermap"
           }
          ],
          "scattermapbox": [
           {
            "marker": {
             "colorbar": {
              "outlinewidth": 0,
              "ticks": ""
             }
            },
            "type": "scattermapbox"
           }
          ],
          "scatterpolar": [
           {
            "marker": {
             "colorbar": {
              "outlinewidth": 0,
              "ticks": ""
             }
            },
            "type": "scatterpolar"
           }
          ],
          "scatterpolargl": [
           {
            "marker": {
             "colorbar": {
              "outlinewidth": 0,
              "ticks": ""
             }
            },
            "type": "scatterpolargl"
           }
          ],
          "scatterternary": [
           {
            "marker": {
             "colorbar": {
              "outlinewidth": 0,
              "ticks": ""
             }
            },
            "type": "scatterternary"
           }
          ],
          "surface": [
           {
            "colorbar": {
             "outlinewidth": 0,
             "ticks": ""
            },
            "colorscale": [
             [
              0,
              "#0d0887"
             ],
             [
              0.1111111111111111,
              "#46039f"
             ],
             [
              0.2222222222222222,
              "#7201a8"
             ],
             [
              0.3333333333333333,
              "#9c179e"
             ],
             [
              0.4444444444444444,
              "#bd3786"
             ],
             [
              0.5555555555555556,
              "#d8576b"
             ],
             [
              0.6666666666666666,
              "#ed7953"
             ],
             [
              0.7777777777777778,
              "#fb9f3a"
             ],
             [
              0.8888888888888888,
              "#fdca26"
             ],
             [
              1,
              "#f0f921"
             ]
            ],
            "type": "surface"
           }
          ],
          "table": [
           {
            "cells": {
             "fill": {
              "color": "#EBF0F8"
             },
             "line": {
              "color": "white"
             }
            },
            "header": {
             "fill": {
              "color": "#C8D4E3"
             },
             "line": {
              "color": "white"
             }
            },
            "type": "table"
           }
          ]
         },
         "layout": {
          "annotationdefaults": {
           "arrowcolor": "#2a3f5f",
           "arrowhead": 0,
           "arrowwidth": 1
          },
          "autotypenumbers": "strict",
          "coloraxis": {
           "colorbar": {
            "outlinewidth": 0,
            "ticks": ""
           }
          },
          "colorscale": {
           "diverging": [
            [
             0,
             "#8e0152"
            ],
            [
             0.1,
             "#c51b7d"
            ],
            [
             0.2,
             "#de77ae"
            ],
            [
             0.3,
             "#f1b6da"
            ],
            [
             0.4,
             "#fde0ef"
            ],
            [
             0.5,
             "#f7f7f7"
            ],
            [
             0.6,
             "#e6f5d0"
            ],
            [
             0.7,
             "#b8e186"
            ],
            [
             0.8,
             "#7fbc41"
            ],
            [
             0.9,
             "#4d9221"
            ],
            [
             1,
             "#276419"
            ]
           ],
           "sequential": [
            [
             0,
             "#0d0887"
            ],
            [
             0.1111111111111111,
             "#46039f"
            ],
            [
             0.2222222222222222,
             "#7201a8"
            ],
            [
             0.3333333333333333,
             "#9c179e"
            ],
            [
             0.4444444444444444,
             "#bd3786"
            ],
            [
             0.5555555555555556,
             "#d8576b"
            ],
            [
             0.6666666666666666,
             "#ed7953"
            ],
            [
             0.7777777777777778,
             "#fb9f3a"
            ],
            [
             0.8888888888888888,
             "#fdca26"
            ],
            [
             1,
             "#f0f921"
            ]
           ],
           "sequentialminus": [
            [
             0,
             "#0d0887"
            ],
            [
             0.1111111111111111,
             "#46039f"
            ],
            [
             0.2222222222222222,
             "#7201a8"
            ],
            [
             0.3333333333333333,
             "#9c179e"
            ],
            [
             0.4444444444444444,
             "#bd3786"
            ],
            [
             0.5555555555555556,
             "#d8576b"
            ],
            [
             0.6666666666666666,
             "#ed7953"
            ],
            [
             0.7777777777777778,
             "#fb9f3a"
            ],
            [
             0.8888888888888888,
             "#fdca26"
            ],
            [
             1,
             "#f0f921"
            ]
           ]
          },
          "colorway": [
           "#636efa",
           "#EF553B",
           "#00cc96",
           "#ab63fa",
           "#FFA15A",
           "#19d3f3",
           "#FF6692",
           "#B6E880",
           "#FF97FF",
           "#FECB52"
          ],
          "font": {
           "color": "#2a3f5f"
          },
          "geo": {
           "bgcolor": "white",
           "lakecolor": "white",
           "landcolor": "#E5ECF6",
           "showlakes": true,
           "showland": true,
           "subunitcolor": "white"
          },
          "hoverlabel": {
           "align": "left"
          },
          "hovermode": "closest",
          "mapbox": {
           "style": "light"
          },
          "paper_bgcolor": "white",
          "plot_bgcolor": "#E5ECF6",
          "polar": {
           "angularaxis": {
            "gridcolor": "white",
            "linecolor": "white",
            "ticks": ""
           },
           "bgcolor": "#E5ECF6",
           "radialaxis": {
            "gridcolor": "white",
            "linecolor": "white",
            "ticks": ""
           }
          },
          "scene": {
           "xaxis": {
            "backgroundcolor": "#E5ECF6",
            "gridcolor": "white",
            "gridwidth": 2,
            "linecolor": "white",
            "showbackground": true,
            "ticks": "",
            "zerolinecolor": "white"
           },
           "yaxis": {
            "backgroundcolor": "#E5ECF6",
            "gridcolor": "white",
            "gridwidth": 2,
            "linecolor": "white",
            "showbackground": true,
            "ticks": "",
            "zerolinecolor": "white"
           },
           "zaxis": {
            "backgroundcolor": "#E5ECF6",
            "gridcolor": "white",
            "gridwidth": 2,
            "linecolor": "white",
            "showbackground": true,
            "ticks": "",
            "zerolinecolor": "white"
           }
          },
          "shapedefaults": {
           "line": {
            "color": "#2a3f5f"
           }
          },
          "ternary": {
           "aaxis": {
            "gridcolor": "white",
            "linecolor": "white",
            "ticks": ""
           },
           "baxis": {
            "gridcolor": "white",
            "linecolor": "white",
            "ticks": ""
           },
           "bgcolor": "#E5ECF6",
           "caxis": {
            "gridcolor": "white",
            "linecolor": "white",
            "ticks": ""
           }
          },
          "title": {
           "x": 0.05
          },
          "xaxis": {
           "automargin": true,
           "gridcolor": "white",
           "linecolor": "white",
           "ticks": "",
           "title": {
            "standoff": 15
           },
           "zerolinecolor": "white",
           "zerolinewidth": 2
          },
          "yaxis": {
           "automargin": true,
           "gridcolor": "white",
           "linecolor": "white",
           "ticks": "",
           "title": {
            "standoff": 15
           },
           "zerolinecolor": "white",
           "zerolinewidth": 2
          }
         }
        },
        "title": {
         "text": "Patient Count by Admission Type and Medical Condition"
        },
        "xaxis": {
         "anchor": "y",
         "domain": [
          0,
          1
         ],
         "title": {
          "text": "Admission Type"
         }
        },
        "yaxis": {
         "anchor": "x",
         "domain": [
          0,
          1
         ],
         "title": {
          "text": "Patient Count"
         }
        }
       }
      }
     },
     "metadata": {},
     "output_type": "display_data"
    }
   ],
   "source": [
    "# Group by 'Admission Type' and 'Medical Condition' and calculate the count for each combination\n",
    "grouped_df = data.groupby(['Admission Type', 'Medical Condition']).size().reset_index(name='Count')\n",
    "\n",
    "# Plot using Plotly Express\n",
    "fig = px.bar(grouped_df, x='Admission Type', y='Count', color='Medical Condition', barmode='group',\n",
    "             title='Patient Count by Admission Type and Medical Condition',\n",
    "             labels={'Count': 'Patient Count', 'Admission Type': 'Admission Type', 'Medical Condition': 'Medical Condition'})\n",
    "fig.show()"
   ]
  },
  {
   "cell_type": "code",
   "execution_count": 114,
   "metadata": {},
   "outputs": [
    {
     "data": {
      "application/vnd.plotly.v1+json": {
       "config": {
        "plotlyServerURL": "https://plot.ly"
       },
       "data": [
        {
         "alignmentgroup": "True",
         "hovertemplate": "Gender=Female<br>Medication=%{x}<br>Count=%{y}<extra></extra>",
         "legendgroup": "Female",
         "marker": {
          "color": "#636efa",
          "pattern": {
           "shape": ""
          }
         },
         "name": "Female",
         "offsetgroup": "Female",
         "orientation": "v",
         "showlegend": true,
         "textposition": "auto",
         "type": "bar",
         "x": [
          "Aspirin",
          "Ibuprofen",
          "Lipitor",
          "Paracetamol",
          "Penicillin"
         ],
         "xaxis": "x",
         "y": {
          "bdata": "8wPnA/gD/gMDBA==",
          "dtype": "i2"
         },
         "yaxis": "y"
        },
        {
         "alignmentgroup": "True",
         "hovertemplate": "Gender=Male<br>Medication=%{x}<br>Count=%{y}<extra></extra>",
         "legendgroup": "Male",
         "marker": {
          "color": "#EF553B",
          "pattern": {
           "shape": ""
          }
         },
         "name": "Male",
         "offsetgroup": "Male",
         "orientation": "v",
         "showlegend": true,
         "textposition": "auto",
         "type": "bar",
         "x": [
          "Aspirin",
          "Ibuprofen",
          "Lipitor",
          "Paracetamol",
          "Penicillin"
         ],
         "xaxis": "x",
         "y": {
          "bdata": "vQPRA+cDrAMcBA==",
          "dtype": "i2"
         },
         "yaxis": "y"
        }
       ],
       "layout": {
        "barmode": "group",
        "legend": {
         "title": {
          "text": "Gender"
         },
         "tracegroupgap": 0
        },
        "template": {
         "data": {
          "bar": [
           {
            "error_x": {
             "color": "#2a3f5f"
            },
            "error_y": {
             "color": "#2a3f5f"
            },
            "marker": {
             "line": {
              "color": "#E5ECF6",
              "width": 0.5
             },
             "pattern": {
              "fillmode": "overlay",
              "size": 10,
              "solidity": 0.2
             }
            },
            "type": "bar"
           }
          ],
          "barpolar": [
           {
            "marker": {
             "line": {
              "color": "#E5ECF6",
              "width": 0.5
             },
             "pattern": {
              "fillmode": "overlay",
              "size": 10,
              "solidity": 0.2
             }
            },
            "type": "barpolar"
           }
          ],
          "carpet": [
           {
            "aaxis": {
             "endlinecolor": "#2a3f5f",
             "gridcolor": "white",
             "linecolor": "white",
             "minorgridcolor": "white",
             "startlinecolor": "#2a3f5f"
            },
            "baxis": {
             "endlinecolor": "#2a3f5f",
             "gridcolor": "white",
             "linecolor": "white",
             "minorgridcolor": "white",
             "startlinecolor": "#2a3f5f"
            },
            "type": "carpet"
           }
          ],
          "choropleth": [
           {
            "colorbar": {
             "outlinewidth": 0,
             "ticks": ""
            },
            "type": "choropleth"
           }
          ],
          "contour": [
           {
            "colorbar": {
             "outlinewidth": 0,
             "ticks": ""
            },
            "colorscale": [
             [
              0,
              "#0d0887"
             ],
             [
              0.1111111111111111,
              "#46039f"
             ],
             [
              0.2222222222222222,
              "#7201a8"
             ],
             [
              0.3333333333333333,
              "#9c179e"
             ],
             [
              0.4444444444444444,
              "#bd3786"
             ],
             [
              0.5555555555555556,
              "#d8576b"
             ],
             [
              0.6666666666666666,
              "#ed7953"
             ],
             [
              0.7777777777777778,
              "#fb9f3a"
             ],
             [
              0.8888888888888888,
              "#fdca26"
             ],
             [
              1,
              "#f0f921"
             ]
            ],
            "type": "contour"
           }
          ],
          "contourcarpet": [
           {
            "colorbar": {
             "outlinewidth": 0,
             "ticks": ""
            },
            "type": "contourcarpet"
           }
          ],
          "heatmap": [
           {
            "colorbar": {
             "outlinewidth": 0,
             "ticks": ""
            },
            "colorscale": [
             [
              0,
              "#0d0887"
             ],
             [
              0.1111111111111111,
              "#46039f"
             ],
             [
              0.2222222222222222,
              "#7201a8"
             ],
             [
              0.3333333333333333,
              "#9c179e"
             ],
             [
              0.4444444444444444,
              "#bd3786"
             ],
             [
              0.5555555555555556,
              "#d8576b"
             ],
             [
              0.6666666666666666,
              "#ed7953"
             ],
             [
              0.7777777777777778,
              "#fb9f3a"
             ],
             [
              0.8888888888888888,
              "#fdca26"
             ],
             [
              1,
              "#f0f921"
             ]
            ],
            "type": "heatmap"
           }
          ],
          "histogram": [
           {
            "marker": {
             "pattern": {
              "fillmode": "overlay",
              "size": 10,
              "solidity": 0.2
             }
            },
            "type": "histogram"
           }
          ],
          "histogram2d": [
           {
            "colorbar": {
             "outlinewidth": 0,
             "ticks": ""
            },
            "colorscale": [
             [
              0,
              "#0d0887"
             ],
             [
              0.1111111111111111,
              "#46039f"
             ],
             [
              0.2222222222222222,
              "#7201a8"
             ],
             [
              0.3333333333333333,
              "#9c179e"
             ],
             [
              0.4444444444444444,
              "#bd3786"
             ],
             [
              0.5555555555555556,
              "#d8576b"
             ],
             [
              0.6666666666666666,
              "#ed7953"
             ],
             [
              0.7777777777777778,
              "#fb9f3a"
             ],
             [
              0.8888888888888888,
              "#fdca26"
             ],
             [
              1,
              "#f0f921"
             ]
            ],
            "type": "histogram2d"
           }
          ],
          "histogram2dcontour": [
           {
            "colorbar": {
             "outlinewidth": 0,
             "ticks": ""
            },
            "colorscale": [
             [
              0,
              "#0d0887"
             ],
             [
              0.1111111111111111,
              "#46039f"
             ],
             [
              0.2222222222222222,
              "#7201a8"
             ],
             [
              0.3333333333333333,
              "#9c179e"
             ],
             [
              0.4444444444444444,
              "#bd3786"
             ],
             [
              0.5555555555555556,
              "#d8576b"
             ],
             [
              0.6666666666666666,
              "#ed7953"
             ],
             [
              0.7777777777777778,
              "#fb9f3a"
             ],
             [
              0.8888888888888888,
              "#fdca26"
             ],
             [
              1,
              "#f0f921"
             ]
            ],
            "type": "histogram2dcontour"
           }
          ],
          "mesh3d": [
           {
            "colorbar": {
             "outlinewidth": 0,
             "ticks": ""
            },
            "type": "mesh3d"
           }
          ],
          "parcoords": [
           {
            "line": {
             "colorbar": {
              "outlinewidth": 0,
              "ticks": ""
             }
            },
            "type": "parcoords"
           }
          ],
          "pie": [
           {
            "automargin": true,
            "type": "pie"
           }
          ],
          "scatter": [
           {
            "fillpattern": {
             "fillmode": "overlay",
             "size": 10,
             "solidity": 0.2
            },
            "type": "scatter"
           }
          ],
          "scatter3d": [
           {
            "line": {
             "colorbar": {
              "outlinewidth": 0,
              "ticks": ""
             }
            },
            "marker": {
             "colorbar": {
              "outlinewidth": 0,
              "ticks": ""
             }
            },
            "type": "scatter3d"
           }
          ],
          "scattercarpet": [
           {
            "marker": {
             "colorbar": {
              "outlinewidth": 0,
              "ticks": ""
             }
            },
            "type": "scattercarpet"
           }
          ],
          "scattergeo": [
           {
            "marker": {
             "colorbar": {
              "outlinewidth": 0,
              "ticks": ""
             }
            },
            "type": "scattergeo"
           }
          ],
          "scattergl": [
           {
            "marker": {
             "colorbar": {
              "outlinewidth": 0,
              "ticks": ""
             }
            },
            "type": "scattergl"
           }
          ],
          "scattermap": [
           {
            "marker": {
             "colorbar": {
              "outlinewidth": 0,
              "ticks": ""
             }
            },
            "type": "scattermap"
           }
          ],
          "scattermapbox": [
           {
            "marker": {
             "colorbar": {
              "outlinewidth": 0,
              "ticks": ""
             }
            },
            "type": "scattermapbox"
           }
          ],
          "scatterpolar": [
           {
            "marker": {
             "colorbar": {
              "outlinewidth": 0,
              "ticks": ""
             }
            },
            "type": "scatterpolar"
           }
          ],
          "scatterpolargl": [
           {
            "marker": {
             "colorbar": {
              "outlinewidth": 0,
              "ticks": ""
             }
            },
            "type": "scatterpolargl"
           }
          ],
          "scatterternary": [
           {
            "marker": {
             "colorbar": {
              "outlinewidth": 0,
              "ticks": ""
             }
            },
            "type": "scatterternary"
           }
          ],
          "surface": [
           {
            "colorbar": {
             "outlinewidth": 0,
             "ticks": ""
            },
            "colorscale": [
             [
              0,
              "#0d0887"
             ],
             [
              0.1111111111111111,
              "#46039f"
             ],
             [
              0.2222222222222222,
              "#7201a8"
             ],
             [
              0.3333333333333333,
              "#9c179e"
             ],
             [
              0.4444444444444444,
              "#bd3786"
             ],
             [
              0.5555555555555556,
              "#d8576b"
             ],
             [
              0.6666666666666666,
              "#ed7953"
             ],
             [
              0.7777777777777778,
              "#fb9f3a"
             ],
             [
              0.8888888888888888,
              "#fdca26"
             ],
             [
              1,
              "#f0f921"
             ]
            ],
            "type": "surface"
           }
          ],
          "table": [
           {
            "cells": {
             "fill": {
              "color": "#EBF0F8"
             },
             "line": {
              "color": "white"
             }
            },
            "header": {
             "fill": {
              "color": "#C8D4E3"
             },
             "line": {
              "color": "white"
             }
            },
            "type": "table"
           }
          ]
         },
         "layout": {
          "annotationdefaults": {
           "arrowcolor": "#2a3f5f",
           "arrowhead": 0,
           "arrowwidth": 1
          },
          "autotypenumbers": "strict",
          "coloraxis": {
           "colorbar": {
            "outlinewidth": 0,
            "ticks": ""
           }
          },
          "colorscale": {
           "diverging": [
            [
             0,
             "#8e0152"
            ],
            [
             0.1,
             "#c51b7d"
            ],
            [
             0.2,
             "#de77ae"
            ],
            [
             0.3,
             "#f1b6da"
            ],
            [
             0.4,
             "#fde0ef"
            ],
            [
             0.5,
             "#f7f7f7"
            ],
            [
             0.6,
             "#e6f5d0"
            ],
            [
             0.7,
             "#b8e186"
            ],
            [
             0.8,
             "#7fbc41"
            ],
            [
             0.9,
             "#4d9221"
            ],
            [
             1,
             "#276419"
            ]
           ],
           "sequential": [
            [
             0,
             "#0d0887"
            ],
            [
             0.1111111111111111,
             "#46039f"
            ],
            [
             0.2222222222222222,
             "#7201a8"
            ],
            [
             0.3333333333333333,
             "#9c179e"
            ],
            [
             0.4444444444444444,
             "#bd3786"
            ],
            [
             0.5555555555555556,
             "#d8576b"
            ],
            [
             0.6666666666666666,
             "#ed7953"
            ],
            [
             0.7777777777777778,
             "#fb9f3a"
            ],
            [
             0.8888888888888888,
             "#fdca26"
            ],
            [
             1,
             "#f0f921"
            ]
           ],
           "sequentialminus": [
            [
             0,
             "#0d0887"
            ],
            [
             0.1111111111111111,
             "#46039f"
            ],
            [
             0.2222222222222222,
             "#7201a8"
            ],
            [
             0.3333333333333333,
             "#9c179e"
            ],
            [
             0.4444444444444444,
             "#bd3786"
            ],
            [
             0.5555555555555556,
             "#d8576b"
            ],
            [
             0.6666666666666666,
             "#ed7953"
            ],
            [
             0.7777777777777778,
             "#fb9f3a"
            ],
            [
             0.8888888888888888,
             "#fdca26"
            ],
            [
             1,
             "#f0f921"
            ]
           ]
          },
          "colorway": [
           "#636efa",
           "#EF553B",
           "#00cc96",
           "#ab63fa",
           "#FFA15A",
           "#19d3f3",
           "#FF6692",
           "#B6E880",
           "#FF97FF",
           "#FECB52"
          ],
          "font": {
           "color": "#2a3f5f"
          },
          "geo": {
           "bgcolor": "white",
           "lakecolor": "white",
           "landcolor": "#E5ECF6",
           "showlakes": true,
           "showland": true,
           "subunitcolor": "white"
          },
          "hoverlabel": {
           "align": "left"
          },
          "hovermode": "closest",
          "mapbox": {
           "style": "light"
          },
          "paper_bgcolor": "white",
          "plot_bgcolor": "#E5ECF6",
          "polar": {
           "angularaxis": {
            "gridcolor": "white",
            "linecolor": "white",
            "ticks": ""
           },
           "bgcolor": "#E5ECF6",
           "radialaxis": {
            "gridcolor": "white",
            "linecolor": "white",
            "ticks": ""
           }
          },
          "scene": {
           "xaxis": {
            "backgroundcolor": "#E5ECF6",
            "gridcolor": "white",
            "gridwidth": 2,
            "linecolor": "white",
            "showbackground": true,
            "ticks": "",
            "zerolinecolor": "white"
           },
           "yaxis": {
            "backgroundcolor": "#E5ECF6",
            "gridcolor": "white",
            "gridwidth": 2,
            "linecolor": "white",
            "showbackground": true,
            "ticks": "",
            "zerolinecolor": "white"
           },
           "zaxis": {
            "backgroundcolor": "#E5ECF6",
            "gridcolor": "white",
            "gridwidth": 2,
            "linecolor": "white",
            "showbackground": true,
            "ticks": "",
            "zerolinecolor": "white"
           }
          },
          "shapedefaults": {
           "line": {
            "color": "#2a3f5f"
           }
          },
          "ternary": {
           "aaxis": {
            "gridcolor": "white",
            "linecolor": "white",
            "ticks": ""
           },
           "baxis": {
            "gridcolor": "white",
            "linecolor": "white",
            "ticks": ""
           },
           "bgcolor": "#E5ECF6",
           "caxis": {
            "gridcolor": "white",
            "linecolor": "white",
            "ticks": ""
           }
          },
          "title": {
           "x": 0.05
          },
          "xaxis": {
           "automargin": true,
           "gridcolor": "white",
           "linecolor": "white",
           "ticks": "",
           "title": {
            "standoff": 15
           },
           "zerolinecolor": "white",
           "zerolinewidth": 2
          },
          "yaxis": {
           "automargin": true,
           "gridcolor": "white",
           "linecolor": "white",
           "ticks": "",
           "title": {
            "standoff": 15
           },
           "zerolinecolor": "white",
           "zerolinewidth": 2
          }
         }
        },
        "title": {
         "text": "Medication Distribution by Gender"
        },
        "xaxis": {
         "anchor": "y",
         "domain": [
          0,
          1
         ],
         "title": {
          "text": "Medication"
         }
        },
        "yaxis": {
         "anchor": "x",
         "domain": [
          0,
          1
         ],
         "title": {
          "text": "Count"
         }
        }
       }
      }
     },
     "metadata": {},
     "output_type": "display_data"
    }
   ],
   "source": [
    "# Group by 'Medication' and 'Gender' and calculate the count for each combination\n",
    "grouped_df = data.groupby(['Medication', 'Gender']).size().reset_index(name='Count')\n",
    "\n",
    "# Plot using Plotly Express\n",
    "fig = px.bar(grouped_df, x='Medication', y='Count', color='Gender', barmode='group',\n",
    "             title='Medication Distribution by Gender',\n",
    "             labels={'Count': 'Count', 'Medication': 'Medication', 'Gender': 'Gender'})\n",
    "fig.show()"
   ]
  },
  {
   "cell_type": "markdown",
   "metadata": {},
   "source": [
    "### Some Questions from Data"
   ]
  },
  {
   "cell_type": "markdown",
   "metadata": {},
   "source": [
    "1. What's the most common blood type among the patients?"
   ]
  },
  {
   "cell_type": "code",
   "execution_count": 115,
   "metadata": {},
   "outputs": [
    {
     "name": "stdout",
     "output_type": "stream",
     "text": [
      "The most common blood type among the patients is AB-.\n"
     ]
    }
   ],
   "source": [
    "most_common_blood_type = data['Blood Type'].value_counts().idxmax()\n",
    "print(f\"The most common blood type among the patients is {most_common_blood_type}.\")"
   ]
  },
  {
   "cell_type": "markdown",
   "metadata": {},
   "source": [
    "2. What is the age of the oldest patient in the dataset?"
   ]
  },
  {
   "cell_type": "code",
   "execution_count": 116,
   "metadata": {},
   "outputs": [
    {
     "name": "stdout",
     "output_type": "stream",
     "text": [
      "The oldest patient in the dataset is with an age of 85 years.\n"
     ]
    }
   ],
   "source": [
    "oldest_patient_age = data['Age'].max()\n",
    "print(f\"The oldest patient in the dataset is with an age of {oldest_patient_age} years.\")"
   ]
  },
  {
   "cell_type": "markdown",
   "metadata": {},
   "source": [
    "3. What is the most frequently prescribed medication?"
   ]
  },
  {
   "cell_type": "code",
   "execution_count": 117,
   "metadata": {},
   "outputs": [
    {
     "name": "stdout",
     "output_type": "stream",
     "text": [
      "The most frequently prescribed medication is Penicillin.\n"
     ]
    }
   ],
   "source": [
    "most_frequent_medication = data['Medication'].value_counts().idxmax()\n",
    "print(f\"The most frequently prescribed medication is {most_frequent_medication}.\")"
   ]
  },
  {
   "cell_type": "markdown",
   "metadata": {},
   "source": [
    "4. What is the average billing amount for patients?"
   ]
  },
  {
   "cell_type": "code",
   "execution_count": 118,
   "metadata": {},
   "outputs": [
    {
     "name": "stdout",
     "output_type": "stream",
     "text": [
      "The average billing amount for patients is $25516.81.\n"
     ]
    }
   ],
   "source": [
    "average_billing_amount = data['Billing Amount'].mean()\n",
    "print(f\"The average billing amount for patients is ${average_billing_amount:.2f}.\")"
   ]
  },
  {
   "cell_type": "markdown",
   "metadata": {},
   "source": [
    "5. What are the top three most common medical conditions for which patients are admitted?"
   ]
  },
  {
   "cell_type": "code",
   "execution_count": 119,
   "metadata": {},
   "outputs": [
    {
     "name": "stdout",
     "output_type": "stream",
     "text": [
      "Top Three Most Common Medical Conditions:\n",
      "----------------------------------------\n",
      "Medical Condition\n",
      "Asthma          1708\n",
      "Cancer          1703\n",
      "Hypertension    1688\n",
      "Name: count, dtype: int64\n"
     ]
    }
   ],
   "source": [
    "top_three_medical_conditions = data['Medical Condition'].value_counts().head(3)\n",
    "print(\"Top Three Most Common Medical Conditions:\")\n",
    "print(\"----------------------------------------\")\n",
    "print(top_three_medical_conditions)"
   ]
  },
  {
   "cell_type": "markdown",
   "metadata": {},
   "source": [
    "### Dataset Saving for Further Preprocessing"
   ]
  },
  {
   "cell_type": "code",
   "execution_count": 120,
   "metadata": {},
   "outputs": [],
   "source": [
    "data.to_csv(\"Data_Preprocessed/data_clean.csv\", index=False)"
   ]
  }
 ],
 "metadata": {
  "kernelspec": {
   "display_name": "Python 3",
   "language": "python",
   "name": "python3"
  },
  "language_info": {
   "codemirror_mode": {
    "name": "ipython",
    "version": 3
   },
   "file_extension": ".py",
   "mimetype": "text/x-python",
   "name": "python",
   "nbconvert_exporter": "python",
   "pygments_lexer": "ipython3",
   "version": "3.10.1"
  }
 },
 "nbformat": 4,
 "nbformat_minor": 2
}
